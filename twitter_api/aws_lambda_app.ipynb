{
 "cells": [
  {
   "cell_type": "code",
   "execution_count": null,
   "id": "128b6492",
   "metadata": {},
   "outputs": [],
   "source": [
    "# config.py\n",
    "\n",
    "class Config:\n",
    "    PROD_DB = \"postgresql://postgres:a1k8u2andre@\" \\\n",
    "        \"blastcards.cu9rorjtbkbf.sa-east-1.rds.amazonaws.com:5432/postgres\"\n",
    "    \n",
    "    LOCAL_DB = \"postgresql://blastcards:a1k8u2andre@\" |\n",
    "        \"localhost:5433/blastcards\"\n",
    "\n",
    "config = Config()"
   ]
  },
  {
   "cell_type": "code",
   "execution_count": null,
   "id": "9601ec77",
   "metadata": {},
   "outputs": [],
   "source": [
    "# create_tables.py\n",
    "\n",
    "import psycopg2\n",
    "# from config import config\n",
    "\n",
    "with psycopg2.connect(config.LOCAL_DB) as conn:\n",
    "    cur = conn.cursor()\n",
    "    cur.execute(\"\"\"\n",
    "        create if not exists table tweets (\n",
    "            id int primary key,\n",
    "            user str not null,\n",
    "            text str,\n",
    "            created timestamp\n",
    "        )\n",
    "    \"\"\")\n",
    "    conn.commit()"
   ]
  },
  {
   "cell_type": "code",
   "execution_count": 42,
   "id": "7bb6e8f8",
   "metadata": {},
   "outputs": [],
   "source": [
    "# twitter.py\n",
    "\n",
    "import requests\n",
    "\n",
    "def make_auth_header():\n",
    "    token = \"AAAAAAAAAAAAAAAAAAAAAI3njgEAAAAA6XQNEZUNtTM4VbnNjZjTnjPuLts%3DN566JF8Lp5RwiSnbiG2dCWtG6Iv7Thr85s6C1Q7XIvGkf6wYyC\" \n",
    "    return {\"Authorization\": f\"Bearer {token}\"}\n",
    "\n",
    "def get_tweets_from_user(user: str):\n",
    "    auth_header = make_auth_header()\n",
    "    response = requests.get(f\"https://api.twitter.com/2/tweets/search/recent?query=from:{user}\", headers=auth_header)\n",
    "    return response.json()\n",
    "\n"
   ]
  },
  {
   "cell_type": "code",
   "execution_count": 44,
   "id": "a80cab7a",
   "metadata": {},
   "outputs": [
    {
     "data": {
      "text/plain": [
       "{'data': [{'edit_history_tweet_ids': ['1596497373873983489'],\n",
       "   'id': '1596497373873983489',\n",
       "   'text': '@Ed_dfreitas @sseraphini Pessoa desenvolvedora = Persone gestante maravilhe\\n\\nhttps://t.co/hPsRbGs5li'},\n",
       "  {'edit_history_tweet_ids': ['1596494790920753154'],\n",
       "   'id': '1596494790920753154',\n",
       "   'text': '@ike_sigma Mesmo ganhando bem eu faço o mesmo.'},\n",
       "  {'edit_history_tweet_ids': ['1596493253548834816'],\n",
       "   'id': '1596493253548834816',\n",
       "   'text': '@anubisefemea Excelente, rs.'},\n",
       "  {'edit_history_tweet_ids': ['1596490716196507649'],\n",
       "   'id': '1596490716196507649',\n",
       "   'text': '@ike_sigma De fato, super concordo.\\n\\nP.S.: Mas ainda é sobre tu ter um metro e meio, por mais que tu diga que não.'},\n",
       "  {'edit_history_tweet_ids': ['1596467273576976385'],\n",
       "   'id': '1596467273576976385',\n",
       "   'text': '@ike_sigma Esse post é sobre tu ter 1,50m, né?'},\n",
       "  {'edit_history_tweet_ids': ['1596322819427762176'],\n",
       "   'id': '1596322819427762176',\n",
       "   'text': 'Uma coisa legal sobre aprender sobre o Amazon AWS: você acaba aprendendo um monte de outras coisas por tabela.'},\n",
       "  {'edit_history_tweet_ids': ['1596316650000769027'],\n",
       "   'id': '1596316650000769027',\n",
       "   'text': '@w_arningsign Pareceu sim, acho que vou dar uma conferida. Queria mesmo era encontrar algum filme na pegada de \"As Above, So Below\" e \"A Dark Song\". Mas infelizmente tá difícil encontrar bons filmes nesse gênero.'},\n",
       "  {'edit_history_tweet_ids': ['1596315886113415169'],\n",
       "   'id': '1596315886113415169',\n",
       "   'text': '@w_arningsign Lendo aqui a sinopse, rs.'},\n",
       "  {'edit_history_tweet_ids': ['1596313416914075648'],\n",
       "   'id': '1596313416914075648',\n",
       "   'text': '@w_arningsign Qual maldição? \\U0001fae5'},\n",
       "  {'edit_history_tweet_ids': ['1596288085884821504'],\n",
       "   'id': '1596288085884821504',\n",
       "   'text': '@w_arningsign @Unrollme Tô precisando voltar a usar o email profissionalmente, daí fui atrás de alguma ferramenta que pudesse resolver o problema que me fez desistir dos emails.\\n\\nDeus queira que dê certo. Vou informando aqui se der, rs.'}],\n",
       " 'meta': {'newest_id': '1596497373873983489',\n",
       "  'oldest_id': '1596288085884821504',\n",
       "  'result_count': 10,\n",
       "  'next_token': 'b26v89c19zqg8o3fpzhlqoiv3emxjtj2isuygas12uzct'}}"
      ]
     },
     "execution_count": 44,
     "metadata": {},
     "output_type": "execute_result"
    }
   ],
   "source": [
    "# main.py\n",
    "\n",
    "# import psycopg2\n",
    "# from twitter import get_tweets_from_user\n",
    "\n",
    "\n",
    "tweets = get_tweets_from_user(\"pythonjazz\")\n",
    "tweets\n",
    "\n"
   ]
  },
  {
   "cell_type": "code",
   "execution_count": null,
   "id": "7b12099c",
   "metadata": {},
   "outputs": [],
   "source": []
  }
 ],
 "metadata": {
  "kernelspec": {
   "display_name": "Python 3 (ipykernel)",
   "language": "python",
   "name": "python3"
  },
  "language_info": {
   "codemirror_mode": {
    "name": "ipython",
    "version": 3
   },
   "file_extension": ".py",
   "mimetype": "text/x-python",
   "name": "python",
   "nbconvert_exporter": "python",
   "pygments_lexer": "ipython3",
   "version": "3.10.6"
  }
 },
 "nbformat": 4,
 "nbformat_minor": 5
}
