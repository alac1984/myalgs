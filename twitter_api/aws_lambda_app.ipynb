{
 "cells": [
  {
   "cell_type": "code",
   "execution_count": 72,
   "id": "128b6492",
   "metadata": {},
   "outputs": [],
   "source": [
    "# config.py\n",
    "\n",
    "class Config:\n",
    "    PROD_DB = \"postgresql://postgres:a1k8u2andre@\" \\\n",
    "        \"blastcards.cu9rorjtbkbf.sa-east-1.rds.amazonaws.com:5432/postgres\"\n",
    "    \n",
    "    LOCAL_DB = \"postgresql://blastcards:a1k8u2andre@\" \\\n",
    "        \"localhost:5433/blastcards\"\n",
    "    \n",
    "    DATABASE = LOCAL_DB\n",
    "\n",
    "config = Config()"
   ]
  },
  {
   "cell_type": "code",
   "execution_count": 73,
   "id": "9601ec77",
   "metadata": {},
   "outputs": [
    {
     "ename": "DuplicateTable",
     "evalue": "relation \"idx_tweets_id\" already exists\n",
     "output_type": "error",
     "traceback": [
      "\u001b[0;31m---------------------------------------------------------------------------\u001b[0m",
      "\u001b[0;31mDuplicateTable\u001b[0m                            Traceback (most recent call last)",
      "Cell \u001b[0;32mIn [73], line 16\u001b[0m\n\u001b[1;32m      7\u001b[0m cur \u001b[38;5;241m=\u001b[39m conn\u001b[38;5;241m.\u001b[39mcursor()\n\u001b[1;32m      8\u001b[0m cur\u001b[38;5;241m.\u001b[39mexecute(\u001b[38;5;124m\"\"\"\u001b[39m\n\u001b[1;32m      9\u001b[0m \u001b[38;5;124m    create table if not exists tweets (\u001b[39m\n\u001b[1;32m     10\u001b[0m \u001b[38;5;124m        id bigint primary key,\u001b[39m\n\u001b[0;32m   (...)\u001b[0m\n\u001b[1;32m     14\u001b[0m \u001b[38;5;124m    )\u001b[39m\n\u001b[1;32m     15\u001b[0m \u001b[38;5;124m\u001b[39m\u001b[38;5;124m\"\"\"\u001b[39m)\n\u001b[0;32m---> 16\u001b[0m \u001b[43mcur\u001b[49m\u001b[38;5;241;43m.\u001b[39;49m\u001b[43mexecute\u001b[49m\u001b[43m(\u001b[49m\u001b[38;5;124;43m\"\"\"\u001b[39;49m\n\u001b[1;32m     17\u001b[0m \u001b[38;5;124;43m    create index idx_tweets_id on tweets(id);\u001b[39;49m\n\u001b[1;32m     18\u001b[0m \u001b[38;5;124;43m\u001b[39;49m\u001b[38;5;124;43m\"\"\"\u001b[39;49m\u001b[43m)\u001b[49m\n\u001b[1;32m     19\u001b[0m conn\u001b[38;5;241m.\u001b[39mcommit()\n",
      "\u001b[0;31mDuplicateTable\u001b[0m: relation \"idx_tweets_id\" already exists\n"
     ]
    }
   ],
   "source": [
    "# create_tables.py\n",
    "\n",
    "import psycopg2\n",
    "# from config import config\n",
    "\n",
    "with psycopg2.connect(config.DATABASE) as conn:\n",
    "    cur = conn.cursor()\n",
    "    cur.execute(\"\"\"\n",
    "        create table if not exists tweets (\n",
    "            id bigint primary key,\n",
    "            username varchar not null,\n",
    "            text varchar,\n",
    "            detected timestamp\n",
    "        )\n",
    "    \"\"\")\n",
    "    cur.execute(\"\"\"\n",
    "        create index idx_tweets_id on tweets(id);\n",
    "    \"\"\")\n",
    "    conn.commit()"
   ]
  },
  {
   "cell_type": "code",
   "execution_count": 74,
   "id": "7bb6e8f8",
   "metadata": {},
   "outputs": [],
   "source": [
    "# twitter.py\n",
    "import psycopg2\n",
    "from datetime import datetime\n",
    "# from config import config\n",
    "import requests\n",
    "\n",
    "def make_auth_header():\n",
    "    token = \"AAAAAAAAAAAAAAAAAAAAAI3njgEAAAAA6XQNEZUNtTM4VbnNjZjTnjPuLts%3DN566JF8Lp5RwiSnbiG2dCWtG6Iv7Thr85s6C1Q7XIvGkf6wYyC\" \n",
    "    return {\"Authorization\": f\"Bearer {token}\"}\n",
    "\n",
    "def get_tweets_from_user(user: str):\n",
    "    auth_header = make_auth_header()\n",
    "    response = requests.get(f\"https://api.twitter.com/2/tweets/search/recent?query=from:{user}\", headers=auth_header)\n",
    "    return response.json()\n",
    "\n",
    "def save_tweet_on_database(user: str, tweet: dict) -> bool:\n",
    "    \"\"\"\n",
    "    Return False if tweet was not saved (was saved before)\n",
    "    Return True otherwise\n",
    "    \"\"\"\n",
    "    if tweet_was_saved_before(tweet[\"id\"]):\n",
    "        return False\n",
    "    with psycopg2.connect(config.DATABASE) as conn:\n",
    "        cur = conn.cursor()\n",
    "        cur.execute(\"\"\"\n",
    "             insert into tweets (id, username, text, detected) values\n",
    "             (%s, %s, %s, %s)\n",
    "        \"\"\", (tweet[\"id\"], user, tweet[\"text\"], datetime.now()))\n",
    "        conn.commit()\n",
    "    \n",
    "    return True\n",
    "\n",
    "def tweet_was_saved_before(tweet_id: int) -> bool:\n",
    "    \"\"\"\n",
    "    Return True if tweet was saved before\n",
    "    Return False otherwise\n",
    "    \"\"\"\n",
    "    with psycopg2.connect(config.DATABASE) as conn:\n",
    "        cur = conn.cursor()\n",
    "        cur.execute(\"select id from tweets where id = %s\", (tweet_id,))\n",
    "        result = cur.fetchall()\n",
    "        return False if len(result) == 0 else True\n"
   ]
  },
  {
   "cell_type": "code",
   "execution_count": 77,
   "id": "1b92da76",
   "metadata": {},
   "outputs": [],
   "source": [
    "# users.py\n",
    "\n",
    "import psycopg2\n",
    "# from config import config\n",
    "\n",
    "USERS = (\n",
    "    \"pythonjazz\",\n",
    "    \"ike_sigma\",\n",
    ")\n",
    "\n",
    "def get_last_user() -> str:\n",
    "    with psycopg2.connect(config.DATABASE) as conn:\n",
    "        cur = conn.cursor()\n",
    "        cur.execute(\"select username, detected from tweets order by detected desc limit 1\")\n",
    "        result = cur.fetchone()\n",
    "        return result[0]\n",
    "    \n",
    "def get_next_user() -> str:\n",
    "    last_user = get_last_user()\n",
    "    last_user_idx = USERS.index(last_user)\n",
    "    if last_user_idx + 1 >= len(USERS):\n",
    "        return USERS[0]\n",
    "    \n",
    "    return USERS[last_user_idx + 1]"
   ]
  },
  {
   "cell_type": "code",
   "execution_count": 80,
   "id": "a80cab7a",
   "metadata": {},
   "outputs": [
    {
     "name": "stdout",
     "output_type": "stream",
     "text": [
      "ike_sigma\n",
      "{'data': [{'edit_history_tweet_ids': ['1596626006315761665'], 'id': '1596626006315761665', 'text': '@zanfranceschi A minha mãe pegava era muito no inverno, fritava e Lepo !'}, {'edit_history_tweet_ids': ['1596621434847219715'], 'id': '1596621434847219715', 'text': 'RT @sseramemes: como identificar um brasileiro no stackoverflow https://t.co/dnovMWhAGX'}, {'edit_history_tweet_ids': ['1596621073533083648'], 'id': '1596621073533083648', 'text': 'Até o morcego treme o pintinho pra não ficar tudo respingado https://t.co/uqmoNUbfHe'}, {'edit_history_tweet_ids': ['1596620864522420224'], 'id': '1596620864522420224', 'text': 'RT @joaopauloz_: O Lionel Messi é cabuloso, temos que respeitar, meus amigos!'}, {'edit_history_tweet_ids': ['1596618992164212737'], 'id': '1596618992164212737', 'text': 'Falou tudo ! 🔝 https://t.co/du1DOrwNo6'}, {'edit_history_tweet_ids': ['1596575779336650752'], 'id': '1596575779336650752', 'text': 'Eu pareço normal, mas já tentei ver a olho nú a  a nebula da bunda do Órion https://t.co/9opipTxkE8'}, {'edit_history_tweet_ids': ['1596574583158902784'], 'id': '1596574583158902784', 'text': 'Eu acho que vou parar de comprar algumas coisas em loja natural, essa aveia veio com sabor bezouro...🗿'}, {'edit_history_tweet_ids': ['1596574236491104258'], 'id': '1596574236491104258', 'text': '@kswgoth @Belmontnrr Amigo que anime vc tá vendo ? Faz tempo que eu ñ acho um pra mim kkkk'}, {'edit_history_tweet_ids': ['1596573926733144064'], 'id': '1596573926733144064', 'text': 'Vocês assinam o Amazon prime só pra comprar sem frete ? 👁️👄👁️'}, {'edit_history_tweet_ids': ['1596573208362516480'], 'id': '1596573208362516480', 'text': '@coproduto E tem uns cursos gratuitos na internet, eu já fiz uns, eu recomendo (\\u2060人\\u2060\\xa0\\u2060•͈\\u2060ᴗ\\u2060•͈\\u2060)'}], 'meta': {'newest_id': '1596626006315761665', 'oldest_id': '1596573208362516480', 'result_count': 10, 'next_token': 'b26v89c19zqg8o3fpzhlquwqjega41d131lyp48tpn0ql'}}\n"
     ]
    }
   ],
   "source": [
    "# main.py\n",
    "\n",
    "# import psycopg2\n",
    "# from twitter import get_tweets_from_user\n",
    "# from twitter import save_tweet_on_database\n",
    "# from twitter import check_if_tweet_was_save_before\n",
    "# from users import get_next_user\n",
    "\n",
    "def main():\n",
    "    user = get_next_user()\n",
    "    print(user)\n",
    "    tweets = get_tweets_from_user(user)\n",
    "    print(tweets)\n",
    "    for tweet in tweets[\"data\"]:\n",
    "        save_tweet_on_database(\"pythonjazz\", tweet)\n",
    "\n",
    "main()"
   ]
  },
  {
   "cell_type": "code",
   "execution_count": null,
   "id": "7b12099c",
   "metadata": {},
   "outputs": [],
   "source": []
  }
 ],
 "metadata": {
  "kernelspec": {
   "display_name": "Python 3 (ipykernel)",
   "language": "python",
   "name": "python3"
  },
  "language_info": {
   "codemirror_mode": {
    "name": "ipython",
    "version": 3
   },
   "file_extension": ".py",
   "mimetype": "text/x-python",
   "name": "python",
   "nbconvert_exporter": "python",
   "pygments_lexer": "ipython3",
   "version": "3.10.6"
  }
 },
 "nbformat": 4,
 "nbformat_minor": 5
}
