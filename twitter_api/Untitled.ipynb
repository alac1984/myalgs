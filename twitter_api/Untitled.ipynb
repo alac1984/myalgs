{
 "cells": [
  {
   "cell_type": "code",
   "execution_count": 1,
   "id": "5fc7341b",
   "metadata": {},
   "outputs": [],
   "source": [
    "# models.py\n",
    "\n",
    "from dataclasses import dataclass\n",
    "    \n",
    "@dataclass\n",
    "class Tweet:\n",
    "    user: str\n",
    "    id: int\n",
    "    text: str\n",
    "\n"
   ]
  },
  {
   "cell_type": "code",
   "execution_count": 2,
   "id": "7bb6e8f8",
   "metadata": {},
   "outputs": [],
   "source": [
    "# twitter.py\n",
    "\n",
    "def make_auth_header():\n",
    "    token = \"AAAAAAAAAAAAAAAAAAAAAI3njgEAAAAA6XQNEZUNtTM4VbnNjZjTnjPuLts%3DN566JF8Lp5RwiSnbiG2dCWtG6Iv7Thr85s6C1Q7XIvGkf6wYyC\" \n",
    "    return {\"Authorization\": f\"Bearer {token}\"}\n",
    "\n",
    "def get_tweets():\n",
    "    auth_header = make_auth_header()\n",
    "    response = requests.get(\"https://api.twitter.com/2/tweets/search/recent?query=from:pythonjazz\", headers=auth_header)\n",
    "    return response.json()\n",
    "\n",
    "def save_tweets():\n",
    "    conn = psycopg2.connect(conn_str)\n",
    "    cur = conn.cursor()\n",
    "    \n",
    "\n"
   ]
  },
  {
   "cell_type": "code",
   "execution_count": 2,
   "id": "8e9daf83",
   "metadata": {},
   "outputs": [
    {
     "ename": "OperationalError",
     "evalue": "connection to server at \"database-1.cu9rorjtbkbf.sa-east-1.rds.amazonaws.com\" (172.31.8.247), port 5432 failed: Connection timed out\n\tIs the server running on that host and accepting TCP/IP connections?\n",
     "output_type": "error",
     "traceback": [
      "\u001b[0;31m---------------------------------------------------------------------------\u001b[0m",
      "\u001b[0;31mOperationalError\u001b[0m                          Traceback (most recent call last)",
      "Cell \u001b[0;32mIn [2], line 35\u001b[0m\n\u001b[1;32m     16\u001b[0m         \u001b[38;5;66;03m# conn = yield conn\u001b[39;00m\n\u001b[1;32m     17\u001b[0m         \u001b[38;5;66;03m# print(\"after yield\")\u001b[39;00m\n\u001b[1;32m     18\u001b[0m         \u001b[38;5;66;03m# if worked:\u001b[39;00m\n\u001b[0;32m   (...)\u001b[0m\n\u001b[1;32m     25\u001b[0m     \u001b[38;5;66;03m# def _cursor(self):\u001b[39;00m\n\u001b[1;32m     26\u001b[0m         \u001b[38;5;66;03m# conn = self._connect()\u001b[39;00m\n\u001b[1;32m     28\u001b[0m db \u001b[38;5;241m=\u001b[39m Database(\n\u001b[1;32m     29\u001b[0m     \u001b[38;5;124m\"\u001b[39m\u001b[38;5;124mpostgres\u001b[39m\u001b[38;5;124m\"\u001b[39m, \n\u001b[1;32m     30\u001b[0m     \u001b[38;5;124m\"\u001b[39m\u001b[38;5;124ma1k8u2andre\u001b[39m\u001b[38;5;124m\"\u001b[39m,\n\u001b[0;32m   (...)\u001b[0m\n\u001b[1;32m     33\u001b[0m     \u001b[38;5;124m\"\u001b[39m\u001b[38;5;124mpostgres\u001b[39m\u001b[38;5;124m\"\u001b[39m\n\u001b[1;32m     34\u001b[0m )\n\u001b[0;32m---> 35\u001b[0m conn \u001b[38;5;241m=\u001b[39m \u001b[43mdb\u001b[49m\u001b[38;5;241;43m.\u001b[39;49m\u001b[43m_connect\u001b[49m\u001b[43m(\u001b[49m\u001b[43m)\u001b[49m\n\u001b[1;32m     36\u001b[0m \u001b[38;5;28mprint\u001b[39m(conn)\n\u001b[1;32m     37\u001b[0m conn\u001b[38;5;241m.\u001b[39mclose()\n",
      "Cell \u001b[0;32mIn [2], line 14\u001b[0m, in \u001b[0;36mDatabase._connect\u001b[0;34m(self)\u001b[0m\n\u001b[1;32m     12\u001b[0m \u001b[38;5;28;01mdef\u001b[39;00m \u001b[38;5;21m_connect\u001b[39m(\u001b[38;5;28mself\u001b[39m):\n\u001b[1;32m     13\u001b[0m     conn_str \u001b[38;5;241m=\u001b[39m \u001b[38;5;124mf\u001b[39m\u001b[38;5;124m\"\u001b[39m\u001b[38;5;124mpostgresql://\u001b[39m\u001b[38;5;132;01m{\u001b[39;00m\u001b[38;5;28mself\u001b[39m\u001b[38;5;241m.\u001b[39muser\u001b[38;5;132;01m}\u001b[39;00m\u001b[38;5;124m:\u001b[39m\u001b[38;5;132;01m{\u001b[39;00m\u001b[38;5;28mself\u001b[39m\u001b[38;5;241m.\u001b[39mpassword\u001b[38;5;132;01m}\u001b[39;00m\u001b[38;5;124m@\u001b[39m\u001b[38;5;132;01m{\u001b[39;00m\u001b[38;5;28mself\u001b[39m\u001b[38;5;241m.\u001b[39mhost\u001b[38;5;132;01m}\u001b[39;00m\u001b[38;5;124m:\u001b[39m\u001b[38;5;132;01m{\u001b[39;00m\u001b[38;5;28mself\u001b[39m\u001b[38;5;241m.\u001b[39mport\u001b[38;5;132;01m}\u001b[39;00m\u001b[38;5;124m/\u001b[39m\u001b[38;5;132;01m{\u001b[39;00m\u001b[38;5;28mself\u001b[39m\u001b[38;5;241m.\u001b[39mdb\u001b[38;5;132;01m}\u001b[39;00m\u001b[38;5;124m\"\u001b[39m\n\u001b[0;32m---> 14\u001b[0m     conn \u001b[38;5;241m=\u001b[39m \u001b[43mpsycopg2\u001b[49m\u001b[38;5;241;43m.\u001b[39;49m\u001b[43mconnect\u001b[49m\u001b[43m(\u001b[49m\u001b[43mconn_str\u001b[49m\u001b[43m)\u001b[49m\n\u001b[1;32m     15\u001b[0m     \u001b[38;5;28;01mreturn\u001b[39;00m conn\n",
      "File \u001b[0;32m~/.cache/pypoetry/virtualenvs/twitter-api-QJsoR-nU-py3.10/lib/python3.10/site-packages/psycopg2/__init__.py:122\u001b[0m, in \u001b[0;36mconnect\u001b[0;34m(dsn, connection_factory, cursor_factory, **kwargs)\u001b[0m\n\u001b[1;32m    119\u001b[0m     kwasync[\u001b[38;5;124m'\u001b[39m\u001b[38;5;124masync_\u001b[39m\u001b[38;5;124m'\u001b[39m] \u001b[38;5;241m=\u001b[39m kwargs\u001b[38;5;241m.\u001b[39mpop(\u001b[38;5;124m'\u001b[39m\u001b[38;5;124masync_\u001b[39m\u001b[38;5;124m'\u001b[39m)\n\u001b[1;32m    121\u001b[0m dsn \u001b[38;5;241m=\u001b[39m _ext\u001b[38;5;241m.\u001b[39mmake_dsn(dsn, \u001b[38;5;241m*\u001b[39m\u001b[38;5;241m*\u001b[39mkwargs)\n\u001b[0;32m--> 122\u001b[0m conn \u001b[38;5;241m=\u001b[39m \u001b[43m_connect\u001b[49m\u001b[43m(\u001b[49m\u001b[43mdsn\u001b[49m\u001b[43m,\u001b[49m\u001b[43m \u001b[49m\u001b[43mconnection_factory\u001b[49m\u001b[38;5;241;43m=\u001b[39;49m\u001b[43mconnection_factory\u001b[49m\u001b[43m,\u001b[49m\u001b[43m \u001b[49m\u001b[38;5;241;43m*\u001b[39;49m\u001b[38;5;241;43m*\u001b[39;49m\u001b[43mkwasync\u001b[49m\u001b[43m)\u001b[49m\n\u001b[1;32m    123\u001b[0m \u001b[38;5;28;01mif\u001b[39;00m cursor_factory \u001b[38;5;129;01mis\u001b[39;00m \u001b[38;5;129;01mnot\u001b[39;00m \u001b[38;5;28;01mNone\u001b[39;00m:\n\u001b[1;32m    124\u001b[0m     conn\u001b[38;5;241m.\u001b[39mcursor_factory \u001b[38;5;241m=\u001b[39m cursor_factory\n",
      "\u001b[0;31mOperationalError\u001b[0m: connection to server at \"database-1.cu9rorjtbkbf.sa-east-1.rds.amazonaws.com\" (172.31.8.247), port 5432 failed: Connection timed out\n\tIs the server running on that host and accepting TCP/IP connections?\n"
     ]
    }
   ],
   "source": [
    "# database.py\n",
    "import psycopg2\n",
    "\n",
    "class Database:\n",
    "    def __init__(self, user, password, host, port, db):\n",
    "        self.user = user\n",
    "        self.password = password\n",
    "        self.host = host\n",
    "        self.port = port\n",
    "        self.db = db\n",
    "    \n",
    "    def _connect(self):\n",
    "        conn_str = f\"postgresql://{self.user}:{self.password}@{self.host}:{self.port}/{self.db}\"\n",
    "        conn = psycopg2.connect(conn_str)\n",
    "        return conn\n",
    "        # conn = yield conn\n",
    "        # print(\"after yield\")\n",
    "        # if worked:\n",
    "        #     conn.commit()\n",
    "        #     conn.close\n",
    "        # else:\n",
    "        #     conn.rollback()\n",
    "        #     conn.close()\n",
    "    \n",
    "    # def _cursor(self):\n",
    "        # conn = self._connect()\n",
    "        \n",
    "db = Database(\n",
    "    \"postgres\", \n",
    "    \"a1k8u2andre\",\n",
    "    \"database-1.cu9rorjtbkbf.sa-east-1.rds.amazonaws.com\",\n",
    "    5432, \n",
    "    \"postgres\"\n",
    ")\n",
    "conn = db._connect()\n",
    "print(conn)\n",
    "conn.close()\n",
    "\n",
    "\n",
    "# cur = conn.cursor()\n",
    "# if cur is not None:\n",
    "    # print(\"cur is real!\")\n",
    "    # conn.send(True)\n",
    "        \n"
   ]
  },
  {
   "cell_type": "code",
   "execution_count": 3,
   "id": "a80cab7a",
   "metadata": {},
   "outputs": [],
   "source": [
    "# main.py\n",
    "\n"
   ]
  },
  {
   "cell_type": "code",
   "execution_count": 16,
   "id": "7e34d0ca",
   "metadata": {},
   "outputs": [
    {
     "name": "stdout",
     "output_type": "stream",
     "text": [
      "Yielding x () and waiting…\n",
      "Got x 10. Doubling.\n",
      "Yielding x (20) and waiting…\n",
      "Got x 123. Doubling.\n",
      "Yielding x (246) and waiting…\n"
     ]
    },
    {
     "data": {
      "text/plain": [
       "246"
      ]
     },
     "execution_count": 16,
     "metadata": {},
     "output_type": "execute_result"
    }
   ],
   "source": [
    "def myfunc():\n",
    "    x = ''\n",
    "    while True:\n",
    "        print(f'Yielding x ({x}) and waiting…')\n",
    "        x = yield x\n",
    "        if x is None: \n",
    "            break\n",
    "        print(f'Got x {x}. Doubling.')\n",
    "        x = x * 2\n",
    "\n",
    "g = myfunc() \n",
    "next(g)\n",
    "g.send(10)\n",
    "g.send(123)"
   ]
  },
  {
   "cell_type": "code",
   "execution_count": null,
   "id": "d94ec77f",
   "metadata": {},
   "outputs": [],
   "source": []
  }
 ],
 "metadata": {
  "kernelspec": {
   "display_name": "Python 3 (ipykernel)",
   "language": "python",
   "name": "python3"
  },
  "language_info": {
   "codemirror_mode": {
    "name": "ipython",
    "version": 3
   },
   "file_extension": ".py",
   "mimetype": "text/x-python",
   "name": "python",
   "nbconvert_exporter": "python",
   "pygments_lexer": "ipython3",
   "version": "3.10.6"
  }
 },
 "nbformat": 4,
 "nbformat_minor": 5
}
