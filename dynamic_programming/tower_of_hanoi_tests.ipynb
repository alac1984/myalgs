{
 "cells": [
  {
   "cell_type": "code",
   "execution_count": 25,
   "id": "d9f8f8d9",
   "metadata": {},
   "outputs": [
    {
     "name": "stdout",
     "output_type": "stream",
     "text": [
      "tower_of_hanoi.ipynb run successfuly\n"
     ]
    }
   ],
   "source": [
    "import ipytest\n",
    "# ipytest.autoconfig(addopts=[\"-x\", \"--pdb\"])\n",
    "ipytest.autoconfig()\n",
    "%run tower_of_hanoi.ipynb"
   ]
  },
  {
   "cell_type": "code",
   "execution_count": 32,
   "id": "b4b3cb7e",
   "metadata": {},
   "outputs": [
    {
     "name": "stdout",
     "output_type": "stream",
     "text": [
      "\n",
      "\u001b[33m\u001b[33mno tests ran\u001b[0m\u001b[33m in 0.00s\u001b[0m\u001b[0m\n"
     ]
    }
   ],
   "source": [
    "%%ipytest\n",
    "\n",
    "\"\"\"Fixtures\"\"\"\n",
    "\n",
    "import pytest\n",
    "\n",
    "@pytest.fixture\n",
    "def rod():\n",
    "    return Rod(\"first\")\n",
    "\n",
    "@pytest.fixture\n",
    "def d1():\n",
    "    return Disc(\"one\", 1)\n",
    "\n",
    "@pytest.fixture\n",
    "def d2():\n",
    "    return Disc(\"two\", 2)\n",
    "\n",
    "@pytest.fixture\n",
    "def d3():\n",
    "    return Disc(\"three\", 3)\n",
    "\n",
    "@pytest.fixture\n",
    "def d4():\n",
    "    return Disc(\"three\", 4)\n",
    "\n",
    "@pytest.fixture\n",
    "def board():\n",
    "    return Board(4, 3)\n",
    "\n",
    "    "
   ]
  },
  {
   "cell_type": "code",
   "execution_count": 33,
   "id": "f98f527e",
   "metadata": {},
   "outputs": [
    {
     "name": "stdout",
     "output_type": "stream",
     "text": [
      "\u001b[32m.\u001b[0m\u001b[32m.\u001b[0m\u001b[32m.\u001b[0m\u001b[32m                                                                                          [100%]\u001b[0m\n",
      "\u001b[32m\u001b[32m\u001b[1m3 passed\u001b[0m\u001b[32m in 0.01s\u001b[0m\u001b[0m\n"
     ]
    }
   ],
   "source": [
    "%%ipytest \n",
    "\"\"\"Rod class tests\"\"\"\n",
    "\n",
    "def test_rod_instantiation(rod):\n",
    "    assert rod is not None\n",
    "    assert rod.name == \"first\"\n",
    "\n",
    "def test_rod_append(rod, d2, d3, d4):\n",
    "    rod.append(d3)\n",
    "    assert rod[0] == d3\n",
    "    assert len(rod) == 1\n",
    "    rod.append(d2)\n",
    "    assert rod[1] == d2\n",
    "    assert len(rod) == 2\n",
    "    with pytest.raises(ValueError):\n",
    "        rod.append(d4)\n",
    "\n",
    "def test_rod_repr(rod, d1, d2, d3):\n",
    "    rod.append(d3)\n",
    "    rod.append(d2)\n",
    "    rod.append(d1)\n",
    "    string = \"-----------\\n[ one ]    \\n[  two  ]  \\n[   three   ]\\n-----------\"\n",
    "    assert rod.__repr__() == string\n"
   ]
  },
  {
   "cell_type": "code",
   "execution_count": 31,
   "id": "2e56f396",
   "metadata": {},
   "outputs": [
    {
     "name": "stdout",
     "output_type": "stream",
     "text": [
      "\u001b[32m.\u001b[0m\u001b[32m.\u001b[0m\u001b[32m                                                                                           [100%]\u001b[0m\n",
      "\u001b[32m\u001b[32m\u001b[1m2 passed\u001b[0m\u001b[32m in 0.01s\u001b[0m\u001b[0m\n"
     ]
    }
   ],
   "source": [
    "%%ipytest\n",
    "\"\"\"Disc class tests\"\"\"\n",
    "\n",
    "def test_disc_instantiaton(d1):\n",
    "    assert d1 is not None\n",
    "    assert d1.name == \"one\"\n",
    "    assert d1.size == 1\n",
    "\n",
    "def test_disc_repr(d1, d2):\n",
    "    assert d1.__repr__() == \"[ one ]    \"\n",
    "    assert d2.__repr__() == \"[  two  ]  \"\n",
    "    "
   ]
  },
  {
   "cell_type": "code",
   "execution_count": 43,
   "id": "31e191c2",
   "metadata": {},
   "outputs": [
    {
     "name": "stdout",
     "output_type": "stream",
     "text": [
      "\u001b[32m.\u001b[0m\u001b[32m.\u001b[0m\u001b[32m.\u001b[0m\u001b[32m                                                                                          [100%]\u001b[0m\n",
      "\u001b[32m\u001b[32m\u001b[1m3 passed\u001b[0m\u001b[32m in 0.01s\u001b[0m\u001b[0m\n"
     ]
    }
   ],
   "source": [
    "%%ipytest\n",
    "\"\"\"Board class tests\"\"\"\n",
    "\n",
    "def test_board_instantiation(board):\n",
    "    assert board is not None\n",
    "    assert len(board.rods) == 3\n",
    "    assert len(board.rods[0]) == 4\n",
    "\n",
    "def test_board_repr(board):\n",
    "    assert board.__repr__() == \"\"\"-----------   -----------   -----------   \n",
    "[0]                                       \n",
    "[ 1 ]                                     \n",
    "[  2  ]                                   \n",
    "[   3   ]                                 \n",
    "-----------   -----------   -----------   \n",
    "\"\"\"\n",
    "\n",
    "def test_board_move(board):\n",
    "    board.move(board.rods[0], board.rods[1])\n",
    "    assert len(board.rods[0]) == 3\n",
    "    assert len(board.rods[1]) == 1\n",
    "    assert len(board.rods[2]) == 0\n",
    "    assert board.__repr__() == \"\"\"-----------   -----------   -----------   \n",
    "                                          \n",
    "[ 1 ]                                     \n",
    "[  2  ]                                   \n",
    "[   3   ]     [0]                         \n",
    "-----------   -----------   -----------   \n",
    "\"\"\""
   ]
  },
  {
   "cell_type": "code",
   "execution_count": null,
   "id": "9e2cb2df",
   "metadata": {},
   "outputs": [],
   "source": []
  }
 ],
 "metadata": {
  "kernelspec": {
   "display_name": "Python 3 (ipykernel)",
   "language": "python",
   "name": "python3"
  },
  "language_info": {
   "codemirror_mode": {
    "name": "ipython",
    "version": 3
   },
   "file_extension": ".py",
   "mimetype": "text/x-python",
   "name": "python",
   "nbconvert_exporter": "python",
   "pygments_lexer": "ipython3",
   "version": "3.10.4"
  }
 },
 "nbformat": 4,
 "nbformat_minor": 5
}
