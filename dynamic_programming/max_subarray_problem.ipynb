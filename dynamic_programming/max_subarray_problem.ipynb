{
 "cells": [
  {
   "cell_type": "markdown",
   "id": "15596d5c",
   "metadata": {},
   "source": [
    "### Max subarray problem\n",
    "_Given an array of integers, the task is to find the maximum subarray sum possible of all the non-empty subarrays._\n",
    "\n",
    "#### Example:\n",
    "\n",
    "**Input:** [-3, -4, 5, -1, 2, -4, 6, -1]\n",
    "\n",
    "**Output:** 8\n",
    "\n",
    "**Explanation:** Subarray [5, -1, 2, -4, 6] is the max sum contiguous subarray with sum 8."
   ]
  },
  {
   "cell_type": "code",
   "execution_count": 35,
   "id": "e36b8893",
   "metadata": {},
   "outputs": [],
   "source": [
    "# Simple approach\n",
    "\n",
    "def maximumSubarraySum1(arr):\n",
    "    n = len(arr)\n",
    "    maxSum = -1e8\n",
    "\n",
    "    for i in range(0, n):\n",
    "        currSum = 0\n",
    "        for j in range(i, n):\n",
    "            currSum = currSum + arr[j]\n",
    "            if(currSum > maxSum):\n",
    "                maxSum = currSum\n",
    "\n",
    "    return maxSum"
   ]
  },
  {
   "cell_type": "code",
   "execution_count": 37,
   "id": "ca36e1fc",
   "metadata": {},
   "outputs": [
    {
     "data": {
      "text/plain": [
       "6"
      ]
     },
     "execution_count": 37,
     "metadata": {},
     "output_type": "execute_result"
    }
   ],
   "source": [
    "maximumSubarraySum1([1, 2, -1, 4, -3])"
   ]
  },
  {
   "cell_type": "code",
   "execution_count": 32,
   "id": "5f533674",
   "metadata": {},
   "outputs": [],
   "source": [
    "# Efficient approach: Kadane's algorithm\n",
    "\n",
    "def maximumSubarraySum2(arr):\n",
    "    n = len(arr)\n",
    "    maxSum = -1e8\n",
    "    currSum = 0\n",
    "\n",
    "    for i in range(0, n):\n",
    "        currSum = currSum + arr[i]\n",
    "        if(currSum > maxSum):\n",
    "            maxSum = currSum\n",
    "        if(currSum < 0):\n",
    "            currSum = 0\n",
    "\n",
    "    return maxSum"
   ]
  },
  {
   "cell_type": "code",
   "execution_count": 33,
   "id": "8d489e51",
   "metadata": {},
   "outputs": [
    {
     "data": {
      "text/plain": [
       "15"
      ]
     },
     "execution_count": 33,
     "metadata": {},
     "output_type": "execute_result"
    }
   ],
   "source": [
    "maximumSubarraySum2([1, 2, 3, 4, 5])"
   ]
  },
  {
   "cell_type": "code",
   "execution_count": 5,
   "id": "d89b006a",
   "metadata": {},
   "outputs": [
    {
     "data": {
      "text/plain": [
       "6"
      ]
     },
     "execution_count": 5,
     "metadata": {},
     "output_type": "execute_result"
    }
   ],
   "source": [
    "def maxsubslow(arr: list) -> int: # O(n³)\n",
    "    n = len(arr)\n",
    "    \n",
    "    m = 0\n",
    "    for j in range(0, n):\n",
    "        for k in range(j, n):\n",
    "            s = 0\n",
    "            for i in range(j, k):\n",
    "                s = s + arr[i]\n",
    "                if s > m:\n",
    "                    m = s\n",
    "    return m\n",
    "    \n",
    "\n",
    "maxsubslow([1, 2, 3, -1, 4])"
   ]
  },
  {
   "cell_type": "code",
   "execution_count": 29,
   "id": "b246f8d5",
   "metadata": {},
   "outputs": [
    {
     "data": {
      "text/plain": [
       "5"
      ]
     },
     "execution_count": 29,
     "metadata": {},
     "output_type": "execute_result"
    }
   ],
   "source": [
    "def prefix_sum(arr: list, idx: int) -> int:\n",
    "    return sum(arr[0:idx+1])\n",
    "\n",
    "def maxsubfaster(arr: list) -> int: # O(n²)\n",
    "    n = len(arr)\n",
    "    m = -1e8\n",
    "    \n",
    "    for j in range(0, n):\n",
    "        for k in range(j, n):\n",
    "            s = prefix_sum(arr, k) - prefix_sum(arr, j)\n",
    "            if s > m:\n",
    "                m = s\n",
    "    \n",
    "    return m\n",
    "    \n",
    "    # for i in range(1, n):\n",
    "    #    s = s[]\n",
    "\n",
    "\n",
    "maxsubfaster([1,2,3,-1])"
   ]
  },
  {
   "cell_type": "code",
   "execution_count": 19,
   "id": "76f697ab",
   "metadata": {},
   "outputs": [],
   "source": [
    "def maxsuffixsum(arr: list, idx: int) -> int:\n",
    "    \n",
    "def maxsubfastest(arr: list) -> int: # O(n)\n",
    "    n = len(arr)\n",
    "    pm = 0\n",
    "    \n",
    "    for t in range(1, n):\n",
    "        m = max()"
   ]
  },
  {
   "cell_type": "code",
   "execution_count": null,
   "id": "7bcc3ad3",
   "metadata": {},
   "outputs": [],
   "source": []
  },
  {
   "cell_type": "code",
   "execution_count": null,
   "id": "f0fe8cee",
   "metadata": {},
   "outputs": [],
   "source": []
  }
 ],
 "metadata": {
  "kernelspec": {
   "display_name": "Python 3 (ipykernel)",
   "language": "python",
   "name": "python3"
  },
  "language_info": {
   "codemirror_mode": {
    "name": "ipython",
    "version": 3
   },
   "file_extension": ".py",
   "mimetype": "text/x-python",
   "name": "python",
   "nbconvert_exporter": "python",
   "pygments_lexer": "ipython3",
   "version": "3.10.4"
  }
 },
 "nbformat": 4,
 "nbformat_minor": 5
}
