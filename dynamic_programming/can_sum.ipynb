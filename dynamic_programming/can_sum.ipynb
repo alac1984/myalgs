{
 "cells": [
  {
   "cell_type": "markdown",
   "id": "43dee7a9",
   "metadata": {},
   "source": [
    "### \"Can Sum\" problem\n",
    "\n",
    "Write a function `can_sum(target_sum, numbers)` that takes in a `target_sum` and a array of numbers as an argument.\n",
    "\n",
    "The function should return a boolean indicating whether or not it is possible to generate the `target_sum` using numbers from the array.\n",
    "\n",
    "You may use an element of the array as many times as needed.\n",
    "\n",
    "You may assume that all input numbers are nonnegative."
   ]
  },
  {
   "cell_type": "code",
   "execution_count": 33,
   "id": "7ef9aa04",
   "metadata": {},
   "outputs": [],
   "source": [
    "from functools import lru_cache\n",
    "\n",
    "# Lists are unhashable in Python, but tuples are. So using a tuple\n",
    "# here in order to use @lru_cache\n",
    "\n",
    "@lru_cache\n",
    "def can_sum(target_sum: int, numbers: tuple[int]) -> bool:\n",
    "    if target_sum == 0:\n",
    "        return True\n",
    "    \n",
    "    if target_sum < 0:\n",
    "        return False\n",
    "    \n",
    "    for num in numbers:\n",
    "        remainder = target_sum - num\n",
    "        if can_sum(remainder, numbers):\n",
    "            return True\n",
    "    \n",
    "    return False\n",
    "    "
   ]
  },
  {
   "cell_type": "code",
   "execution_count": 35,
   "id": "25c7b6f7",
   "metadata": {},
   "outputs": [
    {
     "data": {
      "text/plain": [
       "False"
      ]
     },
     "execution_count": 35,
     "metadata": {},
     "output_type": "execute_result"
    }
   ],
   "source": [
    "can_sum(300, (7, 14))"
   ]
  },
  {
   "cell_type": "markdown",
   "id": "5782cbb2",
   "metadata": {},
   "source": [
    "### \"How sum\" problem\n",
    "\n",
    "Write a function `how_sum` that takes in a `target_sum` and an array of numbers as arguments.\n",
    "\n",
    "The function should return an array containing any combination of elements that add up to exactly the `target_sum`. If there's none that adds to it, return `None`.\n",
    "\n",
    "You can sum a number from array many times repeatedly to get the target sum\n",
    "\n",
    "If there are multiple combinations possible, you may return any single one."
   ]
  },
  {
   "cell_type": "code",
   "execution_count": 12,
   "id": "d06ed22f",
   "metadata": {},
   "outputs": [],
   "source": [
    "from functools import lru_cache\n",
    "\n",
    "@lru_cache\n",
    "def how_sum(target_sum: int, numbers: tuple[int]) -> bool:\n",
    "    \n",
    "    if target_sum == 0:\n",
    "        return []\n",
    "    \n",
    "    if target_sum < 0:\n",
    "        return None\n",
    "    \n",
    "    for num in numbers:\n",
    "        remainder = target_sum - num\n",
    "        result = how_sum(remainder, numbers)\n",
    "        if result is not None:\n",
    "            return [*result, num]\n",
    "            \n",
    "    return None"
   ]
  },
  {
   "cell_type": "code",
   "execution_count": 14,
   "id": "090122b4",
   "metadata": {},
   "outputs": [
    {
     "name": "stdout",
     "output_type": "stream",
     "text": [
      "[2, 2, 2, 2]\n"
     ]
    }
   ],
   "source": [
    "print(how_sum(8, (2, 3, 5)))"
   ]
  },
  {
   "cell_type": "code",
   "execution_count": 18,
   "id": "4bb05865",
   "metadata": {},
   "outputs": [],
   "source": [
    "def how_sum_memo(target_sum: int, numbers: tuple[int], memo: dict[list]) -> bool:\n",
    "    if target_sum in memo:\n",
    "        return memo[target_sum]\n",
    "    \n",
    "    if target_sum == 0:\n",
    "        return []\n",
    "    \n",
    "    if target_sum < 0:\n",
    "        return None\n",
    "    \n",
    "    for num in numbers:\n",
    "        remainder = target_sum - num\n",
    "        result = how_sum_memo(remainder, numbers, memo)\n",
    "        if result is not None:\n",
    "            memo[target_sum] = [*result, num]\n",
    "            return memo[target_sum]\n",
    "            \n",
    "    memo[target_sum] = None\n",
    "    return None"
   ]
  },
  {
   "cell_type": "code",
   "execution_count": 20,
   "id": "45e0d1d6",
   "metadata": {},
   "outputs": [
    {
     "name": "stdout",
     "output_type": "stream",
     "text": [
      "None\n"
     ]
    }
   ],
   "source": [
    "print(how_sum_memo(300, (7, 14), {}))"
   ]
  },
  {
   "cell_type": "code",
   "execution_count": null,
   "id": "0c6893d6",
   "metadata": {},
   "outputs": [],
   "source": []
  }
 ],
 "metadata": {
  "kernelspec": {
   "display_name": "Python 3 (ipykernel)",
   "language": "python",
   "name": "python3"
  },
  "language_info": {
   "codemirror_mode": {
    "name": "ipython",
    "version": 3
   },
   "file_extension": ".py",
   "mimetype": "text/x-python",
   "name": "python",
   "nbconvert_exporter": "python",
   "pygments_lexer": "ipython3",
   "version": "3.10.4"
  }
 },
 "nbformat": 4,
 "nbformat_minor": 5
}
