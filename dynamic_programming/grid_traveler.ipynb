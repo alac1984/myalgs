{
 "cells": [
  {
   "cell_type": "markdown",
   "id": "d96d9b40",
   "metadata": {},
   "source": [
    "### Grid Traveler\n",
    "\n",
    "You're a traveler on a 2D grid. You begin in the top-left corner and your goal is to travel to the bottom right corner. You may only move down and right.\n",
    "\n",
    "In how many ways you can travel to the goal on a grid with dimensions m * n?"
   ]
  },
  {
   "cell_type": "code",
   "execution_count": 9,
   "id": "bbb0bf25",
   "metadata": {},
   "outputs": [],
   "source": [
    "from functools import lru_cache\n",
    "\n",
    "@lru_cache\n",
    "def grid_traveler(row: int, col: int) -> int:\n",
    "    if row <= 0 or col <= 0:\n",
    "        return 0\n",
    "    \n",
    "    if row == 1 and col == 1:\n",
    "        return 1\n",
    "    \n",
    "    down = grid_traveler(row -1, col)\n",
    "    right = grid_traveler(row, col -1)\n",
    "    \n",
    "    return down + right"
   ]
  },
  {
   "cell_type": "code",
   "execution_count": 10,
   "id": "db24290c",
   "metadata": {},
   "outputs": [
    {
     "data": {
      "text/plain": [
       "2333606220"
      ]
     },
     "execution_count": 10,
     "metadata": {},
     "output_type": "execute_result"
    }
   ],
   "source": [
    "grid_traveler(18, 18)"
   ]
  },
  {
   "cell_type": "code",
   "execution_count": null,
   "id": "1e2bcbfc",
   "metadata": {},
   "outputs": [],
   "source": []
  }
 ],
 "metadata": {
  "kernelspec": {
   "display_name": "Python 3 (ipykernel)",
   "language": "python",
   "name": "python3"
  },
  "language_info": {
   "codemirror_mode": {
    "name": "ipython",
    "version": 3
   },
   "file_extension": ".py",
   "mimetype": "text/x-python",
   "name": "python",
   "nbconvert_exporter": "python",
   "pygments_lexer": "ipython3",
   "version": "3.10.4"
  }
 },
 "nbformat": 4,
 "nbformat_minor": 5
}
