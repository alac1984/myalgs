{
 "cells": [
  {
   "cell_type": "code",
   "execution_count": 1,
   "id": "cdbfe7e9",
   "metadata": {},
   "outputs": [],
   "source": [
    "### Reverse a LinkedList"
   ]
  },
  {
   "cell_type": "code",
   "execution_count": 14,
   "id": "dce030cd",
   "metadata": {},
   "outputs": [],
   "source": [
    "from __future__ import annotations\n",
    "from typing import Any\n",
    "\n",
    "class ListNode:\n",
    "    def __init__(self, value: Any = None, _next: ListNode = None):\n",
    "        self.value = value\n",
    "        self.next = _next\n",
    "        \n",
    "    def __repr__(self):\n",
    "        return f\"ListNode(value={self.value}, next={self.next})\"\n"
   ]
  },
  {
   "cell_type": "code",
   "execution_count": 26,
   "id": "252ab738",
   "metadata": {},
   "outputs": [],
   "source": [
    "l3 = ListNode(3)\n",
    "l2 = ListNode(2, l3)\n",
    "l1 = ListNode(1, l2)\n"
   ]
  },
  {
   "cell_type": "code",
   "execution_count": 21,
   "id": "890388e0",
   "metadata": {},
   "outputs": [],
   "source": [
    "def reverse_list(head: ListNode) -> ListNode:\n",
    "    \"\"\" Time complexity: O(n); Memory complexity: O(1)\"\"\"\n",
    "    # import ipdb; ipdb.set_trace()\n",
    "    prev, curr = None, head\n",
    "    \n",
    "    while curr:\n",
    "        nxt = curr.next\n",
    "        curr.next = prev\n",
    "        prev = curr\n",
    "        curr = nxt\n",
    "        \n",
    "    return prev\n"
   ]
  },
  {
   "cell_type": "code",
   "execution_count": 22,
   "id": "3e77f9b1",
   "metadata": {},
   "outputs": [
    {
     "name": "stdout",
     "output_type": "stream",
     "text": [
      "ListNode(value=1, next=ListNode(value=2, next=ListNode(value=3, next=None)))\n",
      "ListNode(value=1, next=None)\n"
     ]
    }
   ],
   "source": [
    "print(l1)\n",
    "reverse_list(l1)\n",
    "print(l1)"
   ]
  },
  {
   "cell_type": "code",
   "execution_count": 23,
   "id": "1b11a438",
   "metadata": {},
   "outputs": [
    {
     "data": {
      "text/plain": [
       "ListNode(value=3, next=ListNode(value=2, next=ListNode(value=1, next=None)))"
      ]
     },
     "execution_count": 23,
     "metadata": {},
     "output_type": "execute_result"
    }
   ],
   "source": [
    "l3"
   ]
  },
  {
   "cell_type": "code",
   "execution_count": 31,
   "id": "71321a90",
   "metadata": {},
   "outputs": [],
   "source": [
    "def reverse_link_recursive(head: ListNode) -> ListNode:\n",
    "    if not head.next:\n",
    "        return None\n",
    "    \n",
    "    new_head = head\n",
    "    if head.next:\n",
    "        new_head = reverse_link_recursive(head.next)\n",
    "        head.next.next = head\n",
    "    head.next = None "
   ]
  },
  {
   "cell_type": "code",
   "execution_count": 32,
   "id": "22543fa9",
   "metadata": {},
   "outputs": [
    {
     "name": "stdout",
     "output_type": "stream",
     "text": [
      "ListNode(value=1, next=ListNode(value=2, next=ListNode(value=3, next=None)))\n",
      "ListNode(value=3, next=ListNode(value=2, next=ListNode(value=1, next=None)))\n"
     ]
    }
   ],
   "source": [
    "l3 = ListNode(3)\n",
    "l2 = ListNode(2, l3)\n",
    "l1 = ListNode(1, l2)\n",
    "\n",
    "print(l1)\n",
    "reverse_link_recursive(l1)\n",
    "print(l3)"
   ]
  },
  {
   "cell_type": "code",
   "execution_count": null,
   "id": "ca38f10f",
   "metadata": {},
   "outputs": [],
   "source": []
  }
 ],
 "metadata": {
  "kernelspec": {
   "display_name": "Python 3 (ipykernel)",
   "language": "python",
   "name": "python3"
  },
  "language_info": {
   "codemirror_mode": {
    "name": "ipython",
    "version": 3
   },
   "file_extension": ".py",
   "mimetype": "text/x-python",
   "name": "python",
   "nbconvert_exporter": "python",
   "pygments_lexer": "ipython3",
   "version": "3.10.4"
  }
 },
 "nbformat": 4,
 "nbformat_minor": 5
}
