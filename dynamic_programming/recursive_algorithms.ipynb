{
 "cells": [
  {
   "cell_type": "markdown",
   "id": "0cc08358",
   "metadata": {},
   "source": [
    "### Sum of digits of a number\n",
    "\n",
    "Given an int, find the sum of digits of that int\n",
    "\n",
    "Ex.: `sum_of_digits(1234) -> 10`\n"
   ]
  },
  {
   "cell_type": "code",
   "execution_count": 15,
   "id": "8a4767f1",
   "metadata": {},
   "outputs": [],
   "source": [
    "def sum_of_digits(num: int):\n",
    "    if num == 0:\n",
    "        return 0\n",
    "    \n",
    "    return num % 10 + sum_of_digits(int(num/10))"
   ]
  },
  {
   "cell_type": "code",
   "execution_count": 23,
   "id": "2d0cddfb",
   "metadata": {},
   "outputs": [
    {
     "data": {
      "text/plain": [
       "10"
      ]
     },
     "execution_count": 23,
     "metadata": {},
     "output_type": "execute_result"
    }
   ],
   "source": [
    "sum_of_digits(1234)"
   ]
  },
  {
   "cell_type": "markdown",
   "id": "a7e6d84d",
   "metadata": {},
   "source": [
    "### Sum of the n first natural numbers\n"
   ]
  },
  {
   "cell_type": "code",
   "execution_count": 40,
   "id": "3ba4fb10",
   "metadata": {},
   "outputs": [],
   "source": [
    "def sum_naturals(n: int):\n",
    "    if n == 0:\n",
    "        return 0\n",
    "    \n",
    "    return n + sum_naturals(n-1)"
   ]
  },
  {
   "cell_type": "code",
   "execution_count": 41,
   "id": "f572ebf9",
   "metadata": {},
   "outputs": [
    {
     "data": {
      "text/plain": [
       "500500"
      ]
     },
     "execution_count": 41,
     "metadata": {},
     "output_type": "execute_result"
    }
   ],
   "source": [
    "sum_naturals(1000)"
   ]
  },
  {
   "cell_type": "markdown",
   "id": "13da69fb",
   "metadata": {},
   "source": [
    "### Power of a number"
   ]
  },
  {
   "cell_type": "code",
   "execution_count": 43,
   "id": "f9e6dfa3",
   "metadata": {},
   "outputs": [],
   "source": [
    "def power(num: int, topwr: int):\n",
    "    if topwr == 0:\n",
    "        return 1\n",
    "    \n",
    "    return num * power(num, topwr-1)"
   ]
  },
  {
   "cell_type": "code",
   "execution_count": 46,
   "id": "fed53e19",
   "metadata": {},
   "outputs": [
    {
     "data": {
      "text/plain": [
       "100000"
      ]
     },
     "execution_count": 46,
     "metadata": {},
     "output_type": "execute_result"
    }
   ],
   "source": [
    "power(10, 5)"
   ]
  },
  {
   "cell_type": "markdown",
   "id": "7eb50846",
   "metadata": {},
   "source": [
    "### Least common multiple (LCM)"
   ]
  },
  {
   "cell_type": "code",
   "execution_count": 74,
   "id": "8f5552a1",
   "metadata": {},
   "outputs": [],
   "source": [
    "def lcm(n1: int, n2: int) -> int:\n",
    "    remainder = n1 % n2\n",
    "    if remainder == 0:\n",
    "        return n1\n",
    "    \n",
    "    return int(n1 * lcm(n2, remainder) / remainder)"
   ]
  },
  {
   "cell_type": "code",
   "execution_count": 81,
   "id": "75aa36bd",
   "metadata": {},
   "outputs": [
    {
     "data": {
      "text/plain": [
       "300"
      ]
     },
     "execution_count": 81,
     "metadata": {},
     "output_type": "execute_result"
    }
   ],
   "source": [
    "lcm(30, 100)"
   ]
  },
  {
   "cell_type": "markdown",
   "id": "f2e412d1",
   "metadata": {},
   "source": [
    "### Greatest Common Divisor (GCD)"
   ]
  },
  {
   "cell_type": "code",
   "execution_count": 85,
   "id": "e3147b9e",
   "metadata": {},
   "outputs": [],
   "source": [
    "def gcd(a: int, b: int) -> int:\n",
    "    low = min(a, b)\n",
    "    high = max(a, b)\n",
    "    \n",
    "    if low == 0:\n",
    "        return high\n",
    "    \n",
    "    if low == 1:\n",
    "        return 1\n",
    "    \n",
    "    return gcd(low, high % low)"
   ]
  },
  {
   "cell_type": "code",
   "execution_count": 86,
   "id": "e9db41d8",
   "metadata": {},
   "outputs": [
    {
     "data": {
      "text/plain": [
       "2"
      ]
     },
     "execution_count": 86,
     "metadata": {},
     "output_type": "execute_result"
    }
   ],
   "source": [
    "gcd(10, 4)"
   ]
  },
  {
   "cell_type": "markdown",
   "id": "8ffb7cba",
   "metadata": {},
   "source": [
    "### Merge sort"
   ]
  },
  {
   "cell_type": "code",
   "execution_count": 88,
   "id": "6d642f8b",
   "metadata": {},
   "outputs": [],
   "source": [
    "def merge_sort(arr: list) -> None:\n",
    "    size = len(arr)\n",
    "    if size > 1:\n",
    "        middle = size // 2\n",
    "        left = arr[:middle]\n",
    "        right= arr[middle:]\n",
    "        \n",
    "        merge_sort(left)\n",
    "        merge_sort(right)\n",
    "        \n",
    "        p = 0\n",
    "        q = 0\n",
    "        r = 0\n",
    "        \n",
    "        left_size = len(left)\n",
    "        right_size = len(right)\n",
    "        \n",
    "        while p < left_size and q < right_size:\n",
    "            if left[p] < right[q]:\n",
    "                arr[r] = left[p]\n",
    "                p += 1\n",
    "            else:\n",
    "                arr[r] = right[q]\n",
    "                q += 1\n",
    "                \n",
    "            r += 1\n",
    "            \n",
    "        while p < left_size:\n",
    "            arr[r] = left[p]\n",
    "            p += 1\n",
    "            r += 1\n",
    "            \n",
    "        while q < right_size:\n",
    "            arr[r] = right[q]\n",
    "            q += 1\n",
    "            r += 1"
   ]
  },
  {
   "cell_type": "code",
   "execution_count": 90,
   "id": "28fc3cb6",
   "metadata": {},
   "outputs": [
    {
     "name": "stdout",
     "output_type": "stream",
     "text": [
      "[-1, 1, 2, 3, 5]\n"
     ]
    }
   ],
   "source": [
    "arr = [2, 1, 3, 5, -1]\n",
    "merge_sort(arr)\n",
    "print(arr)"
   ]
  },
  {
   "cell_type": "code",
   "execution_count": 101,
   "id": "47edafc4",
   "metadata": {},
   "outputs": [],
   "source": [
    "def merge_sort_verbose(arr: list) -> None:\n",
    "    size = len(arr)\n",
    "    print(f\"size: {size}\")\n",
    "    if size > 1:\n",
    "        print(f\"size > 1 is {size > 1}\")\n",
    "        middle = size // 2\n",
    "        print(f\"middle: {middle}\")\n",
    "        left = arr[:middle]\n",
    "        print(f\"left: {left}\")\n",
    "        right= arr[middle:]\n",
    "        print(f\"right: {right}\")\n",
    "        \n",
    "        merge_sort(left)\n",
    "        merge_sort(right)\n",
    "        \n",
    "        p = 0\n",
    "        print(f\"p: {p}\")\n",
    "        q = 0\n",
    "        print(f\"q: {q}\")\n",
    "        r = 0\n",
    "        print(f\"r: {r}\")\n",
    "        \n",
    "        left_size = len(left)\n",
    "        print(f\"left_size: {left_size}\")\n",
    "        right_size = len(right)\n",
    "        print(f\"right_size: {right_size}\")\n",
    "        \n",
    "        while p < left_size and q < right_size:\n",
    "            if left[p] < right[q]:\n",
    "                print(f\"left[{p}] < right[{q}] is True\")\n",
    "                print(f\"arr is {arr}\")\n",
    "                arr[r] = left[p]\n",
    "                print(f\"{arr} is arr after arr[r] = left[p]\")\n",
    "                p += 1\n",
    "                print(f\"p: {p}\")\n",
    "            else:\n",
    "                print(f\"left[{p}] < right[{q}] is False\")\n",
    "                print(f\"arr is {arr}\")\n",
    "                arr[r] = right[q]\n",
    "                print(f\"{arr} is arr after arr[r] = right[q]\")\n",
    "                q += 1\n",
    "                print(f\"q: {q}\")\n",
    "                \n",
    "            r += 1\n",
    "            \n",
    "        while p < left_size:\n",
    "            print(f\"p < left_size is True\")\n",
    "            print(f\"arr is {arr}\")\n",
    "            arr[r] = left[p]\n",
    "            print(f\"arr after arr[r] = left[p] is {arr}\")\n",
    "            p += 1\n",
    "            r += 1\n",
    "            \n",
    "        while q < right_size:\n",
    "            print(f\"q < right_size is True\")\n",
    "            arr[r] = right[q]\n",
    "            print(f\"arr after arr[r] = right[q] is {arr}\")\n",
    "            q += 1\n",
    "            r += 1"
   ]
  },
  {
   "cell_type": "code",
   "execution_count": 102,
   "id": "980ed5ee",
   "metadata": {},
   "outputs": [
    {
     "name": "stdout",
     "output_type": "stream",
     "text": [
      "size: 7\n",
      "size > 1 is True\n",
      "middle: 3\n",
      "left: [2, -3, 3]\n",
      "right: [5, -1, 9, 4]\n",
      "p: 0\n",
      "q: 0\n",
      "r: 0\n",
      "left_size: 3\n",
      "right_size: 4\n",
      "left[0] < right[0] is True\n",
      "arr is [2, -3, 3, 5, -1, 9, 4]\n",
      "[-3, -3, 3, 5, -1, 9, 4] is arr after arr[r] = left[p]\n",
      "p: 1\n",
      "left[1] < right[0] is False\n",
      "arr is [-3, -3, 3, 5, -1, 9, 4]\n",
      "[-3, -1, 3, 5, -1, 9, 4] is arr after arr[r] = right[q]\n",
      "q: 1\n",
      "left[1] < right[1] is True\n",
      "arr is [-3, -1, 3, 5, -1, 9, 4]\n",
      "[-3, -1, 2, 5, -1, 9, 4] is arr after arr[r] = left[p]\n",
      "p: 2\n",
      "left[2] < right[1] is True\n",
      "arr is [-3, -1, 2, 5, -1, 9, 4]\n",
      "[-3, -1, 2, 3, -1, 9, 4] is arr after arr[r] = left[p]\n",
      "p: 3\n",
      "q < right_size is True\n",
      "arr after arr[r] = right[q] is [-3, -1, 2, 3, 4, 9, 4]\n",
      "q < right_size is True\n",
      "arr after arr[r] = right[q] is [-3, -1, 2, 3, 4, 5, 4]\n",
      "q < right_size is True\n",
      "arr after arr[r] = right[q] is [-3, -1, 2, 3, 4, 5, 9]\n"
     ]
    },
    {
     "data": {
      "text/plain": [
       "[-3, -1, 2, 3, 4, 5, 9]"
      ]
     },
     "execution_count": 102,
     "metadata": {},
     "output_type": "execute_result"
    }
   ],
   "source": [
    "arr2 = [2, -3, 3, 5, -1, 9, 4]\n",
    "merge_sort_verbose(arr2)\n",
    "arr2"
   ]
  },
  {
   "cell_type": "markdown",
   "id": "1df3d6f8",
   "metadata": {},
   "source": [
    "### Tower of Hanoi"
   ]
  },
  {
   "cell_type": "code",
   "execution_count": 104,
   "id": "38695106",
   "metadata": {},
   "outputs": [
    {
     "name": "stdout",
     "output_type": "stream",
     "text": [
      "Move disk 1 from source A to destination C\n",
      "Move disk 2 from source A to destination B\n",
      "Move disk 1 from source C to destination B\n",
      "Move disk 3 from source A to destination C\n",
      "Move disk 1 from source B to destination A\n",
      "Move disk 2 from source B to destination C\n",
      "Move disk 1 from source A to destination C\n",
      "Move disk 4 from source A to destination B\n",
      "Move disk 1 from source C to destination B\n",
      "Move disk 2 from source C to destination A\n",
      "Move disk 1 from source B to destination A\n",
      "Move disk 3 from source C to destination B\n",
      "Move disk 1 from source A to destination C\n",
      "Move disk 2 from source A to destination B\n",
      "Move disk 1 from source C to destination B\n"
     ]
    }
   ],
   "source": [
    "def TowerOfHanoi(n, source, destination, auxiliary):\n",
    "    if n == 1:\n",
    "        print(\"Move disk 1 from source\", source, \"to destination\", destination)\n",
    "        return\n",
    "    TowerOfHanoi(n - 1, source, auxiliary, destination)\n",
    "    print(\"Move disk\", n, \"from source\", source, \"to destination\", destination)\n",
    "    TowerOfHanoi(n - 1, auxiliary, destination, source)\n",
    "\n",
    "n = 4\n",
    "TowerOfHanoi(n, 'A', 'B', 'C')"
   ]
  },
  {
   "cell_type": "markdown",
   "id": "2ac95edc",
   "metadata": {},
   "source": [
    "### Reverse a string"
   ]
  },
  {
   "cell_type": "code",
   "execution_count": 106,
   "id": "c0e5283b",
   "metadata": {},
   "outputs": [],
   "source": [
    "def reverse(string: str) -> str:\n",
    "    if len(string) == 0:\n",
    "        return string\n",
    "    \n",
    "    return reverse(string[1:]) + string[0]\n"
   ]
  },
  {
   "cell_type": "code",
   "execution_count": 107,
   "id": "72472f0d",
   "metadata": {},
   "outputs": [
    {
     "data": {
      "text/plain": [
       "'érdna'"
      ]
     },
     "execution_count": 107,
     "metadata": {},
     "output_type": "execute_result"
    }
   ],
   "source": [
    "reverse(\"andré\")"
   ]
  },
  {
   "cell_type": "markdown",
   "id": "dafbd4b7",
   "metadata": {},
   "source": [
    "### Pascal Triangle"
   ]
  },
  {
   "cell_type": "code",
   "execution_count": 116,
   "id": "94578b33",
   "metadata": {},
   "outputs": [],
   "source": [
    "def pascal(n: int):\n",
    "    if n == 1:\n",
    "        return [1]\n",
    "    else:\n",
    "        line = [1]\n",
    "        previous_line = pascal(n-1)\n",
    "        for i in range(len(previous_line)-1):\n",
    "            line.append(previous_line[i] + previous_line[i + 1])\n",
    "        line += [1]\n",
    "    return line\n"
   ]
  },
  {
   "cell_type": "code",
   "execution_count": 120,
   "id": "042478a9",
   "metadata": {},
   "outputs": [
    {
     "data": {
      "text/plain": [
       "[1, 5, 10, 10, 5, 1]"
      ]
     },
     "execution_count": 120,
     "metadata": {},
     "output_type": "execute_result"
    }
   ],
   "source": [
    "pascal(6)"
   ]
  },
  {
   "cell_type": "code",
   "execution_count": null,
   "id": "9c586be1",
   "metadata": {},
   "outputs": [],
   "source": []
  }
 ],
 "metadata": {
  "kernelspec": {
   "display_name": "Python 3 (ipykernel)",
   "language": "python",
   "name": "python3"
  },
  "language_info": {
   "codemirror_mode": {
    "name": "ipython",
    "version": 3
   },
   "file_extension": ".py",
   "mimetype": "text/x-python",
   "name": "python",
   "nbconvert_exporter": "python",
   "pygments_lexer": "ipython3",
   "version": "3.10.4"
  }
 },
 "nbformat": 4,
 "nbformat_minor": 5
}
