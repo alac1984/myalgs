{
 "cells": [
  {
   "cell_type": "code",
   "execution_count": 36,
   "id": "3e8fbe20",
   "metadata": {},
   "outputs": [],
   "source": [
    "\"\"\"Function that solve an equation for multiple values\"\"\"\n",
    "import sympy as sy\n",
    "from sympy.core.relational import Equality\n",
    "from sympy.core.symbol import Symbol\n",
    "\n",
    "def eq_solutions(equation: Equality, symbol: Symbol, values: list[int]) -> list:\n",
    "    from IPython.core.debugger import Pdb; Pdb().set_trace()\n",
    "    # List equation symbols\n",
    "    symbols = list(eq.free_symbols)\n",
    "    # Create a dict with all symbols\n",
    "    subs = {symbols[0]: symbols[1]}\n",
    "    solutions = []\n",
    "    \n",
    "    for n in values:\n",
    "        # Change the value of the symbol to substitute\n",
    "        subs[symbols[1]] = symbol\n",
    "        # Substitute the equation for the new one with values\n",
    "        subs_eq = eq.subs(subs)\n",
    "        solutions.append(sy.solve(subs_eq)[0])\n",
    "    \n",
    "    return solutions\n",
    "    \n"
   ]
  },
  {
   "cell_type": "code",
   "execution_count": 37,
   "id": "505fcac8",
   "metadata": {},
   "outputs": [
    {
     "name": "stdout",
     "output_type": "stream",
     "text": [
      "> \u001b[0;32m/tmp/ipykernel_16276/3715771336.py\u001b[0m(18)\u001b[0;36meq_solutions\u001b[0;34m()\u001b[0m\n",
      "\u001b[0;32m     16 \u001b[0;31m        \u001b[0;32mfrom\u001b[0m \u001b[0mIPython\u001b[0m\u001b[0;34m.\u001b[0m\u001b[0mcore\u001b[0m\u001b[0;34m.\u001b[0m\u001b[0mdebugger\u001b[0m \u001b[0;32mimport\u001b[0m \u001b[0mPdb\u001b[0m\u001b[0;34m;\u001b[0m \u001b[0mPdb\u001b[0m\u001b[0;34m(\u001b[0m\u001b[0;34m)\u001b[0m\u001b[0;34m.\u001b[0m\u001b[0mset_trace\u001b[0m\u001b[0;34m(\u001b[0m\u001b[0;34m)\u001b[0m\u001b[0;34m\u001b[0m\u001b[0;34m\u001b[0m\u001b[0m\n",
      "\u001b[0m\u001b[0;32m     17 \u001b[0;31m        \u001b[0;31m# Substitute the equation for the new one with values\u001b[0m\u001b[0;34m\u001b[0m\u001b[0;34m\u001b[0m\u001b[0m\n",
      "\u001b[0m\u001b[0;32m---> 18 \u001b[0;31m        \u001b[0msubstituted_eq\u001b[0m \u001b[0;34m=\u001b[0m \u001b[0meq\u001b[0m\u001b[0;34m.\u001b[0m\u001b[0msubs\u001b[0m\u001b[0;34m(\u001b[0m\u001b[0msubs\u001b[0m\u001b[0;34m)\u001b[0m\u001b[0;34m\u001b[0m\u001b[0;34m\u001b[0m\u001b[0m\n",
      "\u001b[0m\u001b[0;32m     19 \u001b[0;31m        \u001b[0msolutions\u001b[0m\u001b[0;34m.\u001b[0m\u001b[0mappend\u001b[0m\u001b[0;34m(\u001b[0m\u001b[0msy\u001b[0m\u001b[0;34m.\u001b[0m\u001b[0msolve\u001b[0m\u001b[0;34m(\u001b[0m\u001b[0msubstituted_eq\u001b[0m\u001b[0;34m)\u001b[0m\u001b[0;34m[\u001b[0m\u001b[0;36m0\u001b[0m\u001b[0;34m]\u001b[0m\u001b[0;34m)\u001b[0m\u001b[0;34m\u001b[0m\u001b[0;34m\u001b[0m\u001b[0m\n",
      "\u001b[0m\u001b[0;32m     20 \u001b[0;31m\u001b[0;34m\u001b[0m\u001b[0m\n",
      "\u001b[0m\n",
      "ipdb> subs\n",
      "{y: n, n: n}\n",
      "ipdb> symbols\n",
      "[y, n]\n",
      "ipdb> n\n",
      "> \u001b[0;32m/tmp/ipykernel_16276/3715771336.py\u001b[0m(19)\u001b[0;36meq_solutions\u001b[0;34m()\u001b[0m\n",
      "\u001b[0;32m     17 \u001b[0;31m        \u001b[0;31m# Substitute the equation for the new one with values\u001b[0m\u001b[0;34m\u001b[0m\u001b[0;34m\u001b[0m\u001b[0m\n",
      "\u001b[0m\u001b[0;32m     18 \u001b[0;31m        \u001b[0msubstituted_eq\u001b[0m \u001b[0;34m=\u001b[0m \u001b[0meq\u001b[0m\u001b[0;34m.\u001b[0m\u001b[0msubs\u001b[0m\u001b[0;34m(\u001b[0m\u001b[0msubs\u001b[0m\u001b[0;34m)\u001b[0m\u001b[0;34m\u001b[0m\u001b[0;34m\u001b[0m\u001b[0m\n",
      "\u001b[0m\u001b[0;32m---> 19 \u001b[0;31m        \u001b[0msolutions\u001b[0m\u001b[0;34m.\u001b[0m\u001b[0mappend\u001b[0m\u001b[0;34m(\u001b[0m\u001b[0msy\u001b[0m\u001b[0;34m.\u001b[0m\u001b[0msolve\u001b[0m\u001b[0;34m(\u001b[0m\u001b[0msubstituted_eq\u001b[0m\u001b[0;34m)\u001b[0m\u001b[0;34m[\u001b[0m\u001b[0;36m0\u001b[0m\u001b[0;34m]\u001b[0m\u001b[0;34m)\u001b[0m\u001b[0;34m\u001b[0m\u001b[0;34m\u001b[0m\u001b[0m\n",
      "\u001b[0m\u001b[0;32m     20 \u001b[0;31m\u001b[0;34m\u001b[0m\u001b[0m\n",
      "\u001b[0m\u001b[0;32m     21 \u001b[0;31m    \u001b[0;32mreturn\u001b[0m \u001b[0msolutions\u001b[0m\u001b[0;34m\u001b[0m\u001b[0;34m\u001b[0m\u001b[0m\n",
      "\u001b[0m\n",
      "ipdb> substituded_eq\n",
      "*** NameError: name 'substituded_eq' is not defined\n",
      "ipdb> substituted_eq\n",
      "Eq(n, 3*n + 8)\n",
      "ipdb> symbol\n",
      "n\n",
      "ipdb> type(symbol)\n",
      "<class 'sympy.core.symbol.Symbol'>\n",
      "ipdb> q\n"
     ]
    }
   ],
   "source": [
    "sy.var('y n')\n",
    "eq = sy.Eq(y, 3*n + 8)\n",
    "n_values = list(range(1, 20))\n",
    "y_values = eq_solutions(eq, n, n_values)\n",
    "y_values\n"
   ]
  },
  {
   "cell_type": "code",
   "execution_count": null,
   "id": "80f7712d",
   "metadata": {},
   "outputs": [],
   "source": []
  }
 ],
 "metadata": {
  "kernelspec": {
   "display_name": "Python 3 (ipykernel)",
   "language": "python",
   "name": "python3"
  },
  "language_info": {
   "codemirror_mode": {
    "name": "ipython",
    "version": 3
   },
   "file_extension": ".py",
   "mimetype": "text/x-python",
   "name": "python",
   "nbconvert_exporter": "python",
   "pygments_lexer": "ipython3",
   "version": "3.10.6"
  }
 },
 "nbformat": 4,
 "nbformat_minor": 5
}
