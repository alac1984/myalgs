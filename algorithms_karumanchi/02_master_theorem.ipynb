{
 "cells": [
  {
   "cell_type": "code",
   "execution_count": 1,
   "id": "cef6e4de",
   "metadata": {},
   "outputs": [],
   "source": [
    "# Best video to remember: https://www.youtube.com/watch?v=2H0GKdrIowU&ab_channel=Rman"
   ]
  },
  {
   "cell_type": "markdown",
   "id": "267b6e32",
   "metadata": {},
   "source": [
    "Problem 1:\n",
    "\n",
    "a = 3, b = 2, d = 2\n",
    "\n",
    "As d >= log ab, O(n^2)\n",
    "\n",
    "Problem 2:\n",
    "\n",
    "a = 4, b = 2, d = 2\n",
    "\n",
    "As d = log ab, O(n^2 * logn)\n",
    "\n",
    "Problem 3:\n",
    "\n",
    "a = 1, b = 2, d = 2\n",
    "\n",
    "As d >= log ab, O(n^2)\n",
    "\n"
   ]
  },
  {
   "cell_type": "code",
   "execution_count": 3,
   "id": "09756bd8",
   "metadata": {},
   "outputs": [
    {
     "data": {
      "text/plain": [
       "2.0"
      ]
     },
     "execution_count": 3,
     "metadata": {},
     "output_type": "execute_result"
    }
   ],
   "source": [
    "import math\n",
    "\n",
    "math.log(4, 2)"
   ]
  },
  {
   "cell_type": "code",
   "execution_count": null,
   "id": "b044eebd",
   "metadata": {},
   "outputs": [],
   "source": []
  }
 ],
 "metadata": {
  "kernelspec": {
   "display_name": "Python 3 (ipykernel)",
   "language": "python",
   "name": "python3"
  },
  "language_info": {
   "codemirror_mode": {
    "name": "ipython",
    "version": 3
   },
   "file_extension": ".py",
   "mimetype": "text/x-python",
   "name": "python",
   "nbconvert_exporter": "python",
   "pygments_lexer": "ipython3",
   "version": "3.10.6"
  }
 },
 "nbformat": 4,
 "nbformat_minor": 5
}
