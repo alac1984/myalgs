{
 "cells": [
  {
   "cell_type": "code",
   "execution_count": 3,
   "id": "4ae59db5",
   "metadata": {},
   "outputs": [
    {
     "name": "stdout",
     "output_type": "stream",
     "text": [
      "Node and Tree classes added to path\n"
     ]
    }
   ],
   "source": [
    "%run 02_node_tree.ipynb"
   ]
  },
  {
   "cell_type": "code",
   "execution_count": null,
   "id": "c740df92",
   "metadata": {},
   "outputs": [],
   "source": [
    "# TODO: solve this node creation problem: every recursion the same nodes\n",
    "# are being created again and again\n",
    "\n",
    "class HasPathTree(Tree):\n",
    "    def has_path(self, src: str, dst: str) -> bool:\n",
    "        src_node = self.get_node(src)\n",
    "        dst_node = self.get_node(dst)\n",
    "        import ipdb; ipdb.set_trace()\n",
    "        \n",
    "        if src_node == dst_node:\n",
    "            return True\n",
    "        \n",
    "        for neighbor in src_node.neighbors:\n",
    "            self.has_path(src=neighbor.name, dst=dst)\n",
    "        \n",
    "        return False\n",
    "        \n",
    "        "
   ]
  },
  {
   "cell_type": "code",
   "execution_count": 32,
   "id": "477a38a5",
   "metadata": {},
   "outputs": [
    {
     "data": {
      "text/plain": [
       "HasPathTree(name='has_path', nodes=[Node(name='f', neighbors=[Node(name='g', neighbors=[Node(name='h', neighbors=[])]), Node(name='i', neighbors=[Node(name='g', neighbors=[Node(name='h', neighbors=[])]), Node(name='k', neighbors=[])])]), Node(name='g', neighbors=[Node(name='h', neighbors=[])]), Node(name='i', neighbors=[Node(name='g', neighbors=[Node(name='h', neighbors=[])]), Node(name='k', neighbors=[])]), Node(name='h', neighbors=[]), Node(name='k', neighbors=[]), Node(name='j', neighbors=[Node(name='i', neighbors=[Node(name='g', neighbors=[Node(name='h', neighbors=[])]), Node(name='k', neighbors=[])])])])"
      ]
     },
     "execution_count": 32,
     "metadata": {},
     "output_type": "execute_result"
    }
   ],
   "source": [
    "graph = {\n",
    "    \"f\": [\"g\", \"i\"],\n",
    "    \"g\": [\"h\"],\n",
    "    \"h\": [],\n",
    "    \"i\": [\"g\", \"k\"],\n",
    "    \"j\": [\"i\"],\n",
    "    \"k\": [],\n",
    "}\n",
    "\n",
    "tree = HasPathTree.from_dict(name=\"has_path\", data=graph)\n",
    "tree"
   ]
  },
  {
   "cell_type": "code",
   "execution_count": 33,
   "id": "697ccf8e",
   "metadata": {},
   "outputs": [
    {
     "name": "stdout",
     "output_type": "stream",
     "text": [
      "> \u001b[0;32m/tmp/ipykernel_33790/2383767496.py\u001b[0m(10)\u001b[0;36mhas_path\u001b[0;34m()\u001b[0m\n",
      "\u001b[0;32m      9 \u001b[0;31m\u001b[0;34m\u001b[0m\u001b[0m\n",
      "\u001b[0m\u001b[0;32m---> 10 \u001b[0;31m        \u001b[0;32mif\u001b[0m \u001b[0msrc_node\u001b[0m \u001b[0;34m==\u001b[0m \u001b[0mdst_node\u001b[0m\u001b[0;34m:\u001b[0m\u001b[0;34m\u001b[0m\u001b[0;34m\u001b[0m\u001b[0m\n",
      "\u001b[0m\u001b[0;32m     11 \u001b[0;31m            \u001b[0;32mreturn\u001b[0m \u001b[0;32mTrue\u001b[0m\u001b[0;34m\u001b[0m\u001b[0;34m\u001b[0m\u001b[0m\n",
      "\u001b[0m\n",
      "ipdb> dir()\n",
      "['dst', 'dst_node', 'ipdb', 'self', 'src', 'src_node']\n",
      "ipdb> src_node\n",
      "Node(name='f', neighbors=[Node(name='g', neighbors=[Node(name='h', neighbors=[])]), Node(name='i', neighbors=[Node(name='g', neighbors=[Node(name='h', neighbors=[])]), Node(name='k', neighbors=[])])])\n",
      "ipdb> dst_node\n",
      "Node(name='g', neighbors=[Node(name='h', neighbors=[])])\n",
      "ipdb> n\n",
      "> \u001b[0;32m/tmp/ipykernel_33790/2383767496.py\u001b[0m(13)\u001b[0;36mhas_path\u001b[0;34m()\u001b[0m\n",
      "\u001b[0;32m     12 \u001b[0;31m\u001b[0;34m\u001b[0m\u001b[0m\n",
      "\u001b[0m\u001b[0;32m---> 13 \u001b[0;31m        \u001b[0;32mfor\u001b[0m \u001b[0mneighbor\u001b[0m \u001b[0;32min\u001b[0m \u001b[0msrc_node\u001b[0m\u001b[0;34m.\u001b[0m\u001b[0mneighbors\u001b[0m\u001b[0;34m:\u001b[0m\u001b[0;34m\u001b[0m\u001b[0;34m\u001b[0m\u001b[0m\n",
      "\u001b[0m\u001b[0;32m     14 \u001b[0;31m            \u001b[0mself\u001b[0m\u001b[0;34m.\u001b[0m\u001b[0mhas_path\u001b[0m\u001b[0;34m(\u001b[0m\u001b[0msrc\u001b[0m\u001b[0;34m=\u001b[0m\u001b[0mneighbor\u001b[0m\u001b[0;34m.\u001b[0m\u001b[0mname\u001b[0m\u001b[0;34m,\u001b[0m \u001b[0mdst\u001b[0m\u001b[0;34m=\u001b[0m\u001b[0mdst\u001b[0m\u001b[0;34m)\u001b[0m\u001b[0;34m\u001b[0m\u001b[0;34m\u001b[0m\u001b[0m\n",
      "\u001b[0m\n",
      "ipdb> n\n",
      "> \u001b[0;32m/tmp/ipykernel_33790/2383767496.py\u001b[0m(14)\u001b[0;36mhas_path\u001b[0;34m()\u001b[0m\n",
      "\u001b[0;32m     13 \u001b[0;31m        \u001b[0;32mfor\u001b[0m \u001b[0mneighbor\u001b[0m \u001b[0;32min\u001b[0m \u001b[0msrc_node\u001b[0m\u001b[0;34m.\u001b[0m\u001b[0mneighbors\u001b[0m\u001b[0;34m:\u001b[0m\u001b[0;34m\u001b[0m\u001b[0;34m\u001b[0m\u001b[0m\n",
      "\u001b[0m\u001b[0;32m---> 14 \u001b[0;31m            \u001b[0mself\u001b[0m\u001b[0;34m.\u001b[0m\u001b[0mhas_path\u001b[0m\u001b[0;34m(\u001b[0m\u001b[0msrc\u001b[0m\u001b[0;34m=\u001b[0m\u001b[0mneighbor\u001b[0m\u001b[0;34m.\u001b[0m\u001b[0mname\u001b[0m\u001b[0;34m,\u001b[0m \u001b[0mdst\u001b[0m\u001b[0;34m=\u001b[0m\u001b[0mdst\u001b[0m\u001b[0;34m)\u001b[0m\u001b[0;34m\u001b[0m\u001b[0;34m\u001b[0m\u001b[0m\n",
      "\u001b[0m\u001b[0;32m     15 \u001b[0;31m\u001b[0;34m\u001b[0m\u001b[0m\n",
      "\u001b[0m\n",
      "ipdb> neighbor\n",
      "Node(name='g', neighbors=[Node(name='h', neighbors=[])])\n",
      "ipdb> n\n",
      "> \u001b[0;32m/tmp/ipykernel_33790/2383767496.py\u001b[0m(10)\u001b[0;36mhas_path\u001b[0;34m()\u001b[0m\n",
      "\u001b[0;32m      9 \u001b[0;31m\u001b[0;34m\u001b[0m\u001b[0m\n",
      "\u001b[0m\u001b[0;32m---> 10 \u001b[0;31m        \u001b[0;32mif\u001b[0m \u001b[0msrc_node\u001b[0m \u001b[0;34m==\u001b[0m \u001b[0mdst_node\u001b[0m\u001b[0;34m:\u001b[0m\u001b[0;34m\u001b[0m\u001b[0;34m\u001b[0m\u001b[0m\n",
      "\u001b[0m\u001b[0;32m     11 \u001b[0;31m            \u001b[0;32mreturn\u001b[0m \u001b[0;32mTrue\u001b[0m\u001b[0;34m\u001b[0m\u001b[0;34m\u001b[0m\u001b[0m\n",
      "\u001b[0m\n",
      "ipdb> src_node\n",
      "Node(name='g', neighbors=[Node(name='h', neighbors=[])])\n",
      "ipdb> dst_node\n",
      "Node(name='g', neighbors=[Node(name='h', neighbors=[])])\n",
      "ipdb> src_node == dst_node\n",
      "True\n",
      "ipdb> n\n",
      "> \u001b[0;32m/tmp/ipykernel_33790/2383767496.py\u001b[0m(11)\u001b[0;36mhas_path\u001b[0;34m()\u001b[0m\n",
      "\u001b[0;32m     10 \u001b[0;31m        \u001b[0;32mif\u001b[0m \u001b[0msrc_node\u001b[0m \u001b[0;34m==\u001b[0m \u001b[0mdst_node\u001b[0m\u001b[0;34m:\u001b[0m\u001b[0;34m\u001b[0m\u001b[0;34m\u001b[0m\u001b[0m\n",
      "\u001b[0m\u001b[0;32m---> 11 \u001b[0;31m            \u001b[0;32mreturn\u001b[0m \u001b[0;32mTrue\u001b[0m\u001b[0;34m\u001b[0m\u001b[0;34m\u001b[0m\u001b[0m\n",
      "\u001b[0m\u001b[0;32m     12 \u001b[0;31m\u001b[0;34m\u001b[0m\u001b[0m\n",
      "\u001b[0m\n",
      "ipdb> n\n",
      "--Return--\n",
      "True\n",
      "> \u001b[0;32m/tmp/ipykernel_33790/2383767496.py\u001b[0m(11)\u001b[0;36mhas_path\u001b[0;34m()\u001b[0m\n",
      "\u001b[0;32m     10 \u001b[0;31m        \u001b[0;32mif\u001b[0m \u001b[0msrc_node\u001b[0m \u001b[0;34m==\u001b[0m \u001b[0mdst_node\u001b[0m\u001b[0;34m:\u001b[0m\u001b[0;34m\u001b[0m\u001b[0;34m\u001b[0m\u001b[0m\n",
      "\u001b[0m\u001b[0;32m---> 11 \u001b[0;31m            \u001b[0;32mreturn\u001b[0m \u001b[0;32mTrue\u001b[0m\u001b[0;34m\u001b[0m\u001b[0;34m\u001b[0m\u001b[0m\n",
      "\u001b[0m\u001b[0;32m     12 \u001b[0;31m\u001b[0;34m\u001b[0m\u001b[0m\n",
      "\u001b[0m\n",
      "ipdb> n\n",
      "> \u001b[0;32m/tmp/ipykernel_33790/2383767496.py\u001b[0m(13)\u001b[0;36mhas_path\u001b[0;34m()\u001b[0m\n",
      "\u001b[0;32m     12 \u001b[0;31m\u001b[0;34m\u001b[0m\u001b[0m\n",
      "\u001b[0m\u001b[0;32m---> 13 \u001b[0;31m        \u001b[0;32mfor\u001b[0m \u001b[0mneighbor\u001b[0m \u001b[0;32min\u001b[0m \u001b[0msrc_node\u001b[0m\u001b[0;34m.\u001b[0m\u001b[0mneighbors\u001b[0m\u001b[0;34m:\u001b[0m\u001b[0;34m\u001b[0m\u001b[0;34m\u001b[0m\u001b[0m\n",
      "\u001b[0m\u001b[0;32m     14 \u001b[0;31m            \u001b[0mself\u001b[0m\u001b[0;34m.\u001b[0m\u001b[0mhas_path\u001b[0m\u001b[0;34m(\u001b[0m\u001b[0msrc\u001b[0m\u001b[0;34m=\u001b[0m\u001b[0mneighbor\u001b[0m\u001b[0;34m.\u001b[0m\u001b[0mname\u001b[0m\u001b[0;34m,\u001b[0m \u001b[0mdst\u001b[0m\u001b[0;34m=\u001b[0m\u001b[0mdst\u001b[0m\u001b[0;34m)\u001b[0m\u001b[0;34m\u001b[0m\u001b[0;34m\u001b[0m\u001b[0m\n",
      "\u001b[0m\n",
      "ipdb> neighbor\n",
      "Node(name='g', neighbors=[Node(name='h', neighbors=[])])\n",
      "ipdb> n\n",
      "> \u001b[0;32m/tmp/ipykernel_33790/2383767496.py\u001b[0m(14)\u001b[0;36mhas_path\u001b[0;34m()\u001b[0m\n",
      "\u001b[0;32m     13 \u001b[0;31m        \u001b[0;32mfor\u001b[0m \u001b[0mneighbor\u001b[0m \u001b[0;32min\u001b[0m \u001b[0msrc_node\u001b[0m\u001b[0;34m.\u001b[0m\u001b[0mneighbors\u001b[0m\u001b[0;34m:\u001b[0m\u001b[0;34m\u001b[0m\u001b[0;34m\u001b[0m\u001b[0m\n",
      "\u001b[0m\u001b[0;32m---> 14 \u001b[0;31m            \u001b[0mself\u001b[0m\u001b[0;34m.\u001b[0m\u001b[0mhas_path\u001b[0m\u001b[0;34m(\u001b[0m\u001b[0msrc\u001b[0m\u001b[0;34m=\u001b[0m\u001b[0mneighbor\u001b[0m\u001b[0;34m.\u001b[0m\u001b[0mname\u001b[0m\u001b[0;34m,\u001b[0m \u001b[0mdst\u001b[0m\u001b[0;34m=\u001b[0m\u001b[0mdst\u001b[0m\u001b[0;34m)\u001b[0m\u001b[0;34m\u001b[0m\u001b[0;34m\u001b[0m\u001b[0m\n",
      "\u001b[0m\u001b[0;32m     15 \u001b[0;31m\u001b[0;34m\u001b[0m\u001b[0m\n",
      "\u001b[0m\n",
      "ipdb> q\n"
     ]
    }
   ],
   "source": [
    "print(tree.has_path(\"f\", \"g\"))"
   ]
  },
  {
   "cell_type": "code",
   "execution_count": null,
   "id": "14a55fe3",
   "metadata": {},
   "outputs": [],
   "source": []
  }
 ],
 "metadata": {
  "kernelspec": {
   "display_name": "Python 3 (ipykernel)",
   "language": "python",
   "name": "python3"
  },
  "language_info": {
   "codemirror_mode": {
    "name": "ipython",
    "version": 3
   },
   "file_extension": ".py",
   "mimetype": "text/x-python",
   "name": "python",
   "nbconvert_exporter": "python",
   "pygments_lexer": "ipython3",
   "version": "3.10.4"
  }
 },
 "nbformat": 4,
 "nbformat_minor": 5
}
