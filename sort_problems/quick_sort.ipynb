{
 "cells": [
  {
   "cell_type": "code",
   "execution_count": 52,
   "id": "6a26b550",
   "metadata": {},
   "outputs": [],
   "source": [
    "def quicksort_verbose(l: list, start=0, end=None) -> list:\n",
    "    print(\"QUICKSORT STARTS -----------------------------\")\n",
    "    if end == None:\n",
    "        print(\"Hey, end == None!\")\n",
    "        end = len(l) - 1\n",
    "        print(f\"end is now {end}\")\n",
    "    \n",
    "    if start < end:\n",
    "        print(\"Hey, start < end !\")\n",
    "        p = partition(l, start, end)\n",
    "        print(f\"From quicksort, p is {p}\")\n",
    "        quicksort(l, start, p-1)\n",
    "        print(\"Quicksort called above!\")\n",
    "        quicksort(l, p+1, end)\n",
    "        print(\"Quicksort called again!\")\n",
    "        \n",
    "    print(\"QUICKSORT ENDS -----------------------------\")\n",
    "    \n",
    "def partition(l: list, start: int, end: int) -> list:\n",
    "    print(\"PARTITION STARTS -----------------------------\")\n",
    "    pivot = l[end]\n",
    "    print(f\"pivot is {pivot}\")\n",
    "    i = start\n",
    "    print(f\"i is {i}\")\n",
    "    for j in range(start, end): # end is not included ;)\n",
    "        print(f\"This round j is {j}\")\n",
    "        if l[j] <= pivot:\n",
    "            print(f\"Wow, l[{j}] ({l[j]}) is less than our pivot {pivot}\")\n",
    "            print(f\"The operation about to be performed is l[{j}], l[{i}] = l[{i}], l[{j}]\")\n",
    "            print(f\"List before: {l}\")\n",
    "            l[j], l[i] = l[i], l[j]\n",
    "            print(f\"List after:  {l}\")\n",
    "            i += 1\n",
    "            print(f\"i now is {i}\")\n",
    "        else:\n",
    "            print(f\"Well, it seems that l[{j}] ({l[j]}) is not less than our pivot {pivot}\")\n",
    "        \n",
    "    print(\"At the end of partition, we will change pivot's position\")\n",
    "    print(f\"The operation about to be performed is l[{i}], l[{end}] = l[{end}], l[{i}]\")\n",
    "    print(f\"List before: {l}\")\n",
    "    l[i], l[end] = l[end], l[i]\n",
    "    print(f\"List after:  {l}\")\n",
    "    print(\"PARTITION ENDS -----------------------------\")\n",
    "    return i\n",
    "        "
   ]
  },
  {
   "cell_type": "code",
   "execution_count": 53,
   "id": "068e9237",
   "metadata": {},
   "outputs": [
    {
     "name": "stdout",
     "output_type": "stream",
     "text": [
      "QUICKSORT STARTS -----------------------------\n",
      "Hey, end == None!\n",
      "end is now 3\n",
      "Hey, start < end !\n",
      "PARTITION STARTS -----------------------------\n",
      "pivot is 1\n",
      "i is 0\n",
      "This round j is 0\n",
      "Well, it seems that l[0] (5) is not less than our pivot 1\n",
      "This round j is 1\n",
      "Well, it seems that l[1] (3) is not less than our pivot 1\n",
      "This round j is 2\n",
      "Well, it seems that l[2] (2) is not less than our pivot 1\n",
      "At the end of partition, we will change pivot's position\n",
      "The operation about to be performed is l[0], l[3] = l[3], l[0]\n",
      "List before: [5, 3, 2, 1]\n",
      "List after:  [1, 3, 2, 5]\n",
      "PARTITION ENDS -----------------------------\n",
      "From quicksort, p is 0\n",
      "Quicksort called above!\n",
      "PARTITION STARTS -----------------------------\n",
      "pivot is 5\n",
      "i is 1\n",
      "This round j is 1\n",
      "Wow, l[1] (3) is less than our pivot 5\n",
      "The operation about to be performed is l[1], l[1] = l[1], l[1]\n",
      "List before: [1, 3, 2, 5]\n",
      "List after:  [1, 3, 2, 5]\n",
      "i now is 2\n",
      "This round j is 2\n",
      "Wow, l[2] (2) is less than our pivot 5\n",
      "The operation about to be performed is l[2], l[2] = l[2], l[2]\n",
      "List before: [1, 3, 2, 5]\n",
      "List after:  [1, 3, 2, 5]\n",
      "i now is 3\n",
      "At the end of partition, we will change pivot's position\n",
      "The operation about to be performed is l[3], l[3] = l[3], l[3]\n",
      "List before: [1, 3, 2, 5]\n",
      "List after:  [1, 3, 2, 5]\n",
      "PARTITION ENDS -----------------------------\n",
      "PARTITION STARTS -----------------------------\n",
      "pivot is 2\n",
      "i is 1\n",
      "This round j is 1\n",
      "Well, it seems that l[1] (3) is not less than our pivot 2\n",
      "At the end of partition, we will change pivot's position\n",
      "The operation about to be performed is l[1], l[2] = l[2], l[1]\n",
      "List before: [1, 3, 2, 5]\n",
      "List after:  [1, 2, 3, 5]\n",
      "PARTITION ENDS -----------------------------\n",
      "Quicksort called again!\n",
      "QUICKSORT ENDS -----------------------------\n"
     ]
    }
   ],
   "source": [
    "l = [5, 3, 2, 1]\n",
    "quicksort_verbose(l)"
   ]
  },
  {
   "cell_type": "code",
   "execution_count": 50,
   "id": "8658d3d9",
   "metadata": {},
   "outputs": [],
   "source": [
    "def quicksort(l: list, start=0, end=None) -> list:\n",
    "    if end == None:\n",
    "        end = len(l) - 1\n",
    "    \n",
    "    if start < end:\n",
    "        p = partition(l, start, end)\n",
    "        quicksort(l, start, p-1)\n",
    "        quicksort(l, p+1, end)\n",
    "        \n",
    "def partition(l: list, start: int, end: int) -> list:\n",
    "    pivot = l[end]\n",
    "    i = start\n",
    "    for j in range(start, end): # end is not included ;)\n",
    "        if l[j] <= pivot:\n",
    "            l[j], l[i] = l[i], l[j]\n",
    "            i += 1\n",
    "    l[i], l[end] = l[end], l[i]\n",
    "    return i"
   ]
  },
  {
   "cell_type": "code",
   "execution_count": 51,
   "id": "19c91cd8",
   "metadata": {},
   "outputs": [
    {
     "data": {
      "text/plain": [
       "[-1, 2, 5, 7, 7, 8, 12]"
      ]
     },
     "execution_count": 51,
     "metadata": {},
     "output_type": "execute_result"
    }
   ],
   "source": [
    "l2 = [2, -1, 7, 8, 7, 12, 5]\n",
    "quicksort(l2)\n",
    "l2"
   ]
  },
  {
   "cell_type": "code",
   "execution_count": null,
   "id": "51b72100",
   "metadata": {},
   "outputs": [],
   "source": []
  }
 ],
 "metadata": {
  "kernelspec": {
   "display_name": "Python 3 (ipykernel)",
   "language": "python",
   "name": "python3"
  },
  "language_info": {
   "codemirror_mode": {
    "name": "ipython",
    "version": 3
   },
   "file_extension": ".py",
   "mimetype": "text/x-python",
   "name": "python",
   "nbconvert_exporter": "python",
   "pygments_lexer": "ipython3",
   "version": "3.10.4"
  }
 },
 "nbformat": 4,
 "nbformat_minor": 5
}
