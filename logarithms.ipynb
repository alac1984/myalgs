{
 "cells": [
  {
   "cell_type": "code",
   "execution_count": 1,
   "id": "f87335ed",
   "metadata": {},
   "outputs": [
    {
     "data": {
      "text/plain": [
       "5.0"
      ]
     },
     "execution_count": 1,
     "metadata": {},
     "output_type": "execute_result"
    }
   ],
   "source": [
    "from math import log\n",
    "\n",
    "log(4, 2) # 2\n",
    "log(8, 2) # 3\n",
    "log(9, 3) # 2\n",
    "log(16, 4) # 2\n",
    "log(27, 3) # 3\n",
    "log(32, 2) # 5"
   ]
  },
  {
   "cell_type": "code",
   "execution_count": 2,
   "id": "193d343f",
   "metadata": {},
   "outputs": [
    {
     "data": {
      "text/plain": [
       "1.3862943611198906"
      ]
     },
     "execution_count": 2,
     "metadata": {},
     "output_type": "execute_result"
    }
   ],
   "source": [
    "log(4) # 1.3876..., without a base, default is e"
   ]
  },
  {
   "cell_type": "code",
   "execution_count": 3,
   "id": "e51c6f3d",
   "metadata": {},
   "outputs": [
    {
     "name": "stdout",
     "output_type": "stream",
     "text": [
      "[2.5, 2.5, 2.5, 2.5]\n"
     ]
    },
    {
     "data": {
      "text/plain": [
       "39.0625"
      ]
     },
     "execution_count": 3,
     "metadata": {},
     "output_type": "execute_result"
    }
   ],
   "source": [
    "# Understanding e\n",
    "# https://www.quantamagazine.org/why-eulers-number-is-just-the-best-20211124/\n",
    "\n",
    "from functools import reduce\n",
    "\n",
    "def split_number(num: int, parts: int) -> list[float]:\n",
    "    return [num/parts for _ in range(parts)]\n",
    "\n",
    "def multiply_them(values: list) -> float:\n",
    "    return reduce((lambda x, y: x * y), values)\n",
    "        \n",
    "    \n",
    "splitted = split_number(10, 4)\n",
    "print(splitted)\n",
    "multiply_them(splitted)\n"
   ]
  },
  {
   "cell_type": "code",
   "execution_count": 4,
   "id": "ccf8acd6",
   "metadata": {},
   "outputs": [
    {
     "data": {
      "text/plain": [
       "3"
      ]
     },
     "execution_count": 4,
     "metadata": {},
     "output_type": "execute_result"
    }
   ],
   "source": [
    "log(10, 10) # 1\n",
    "log(100, 10) # 2\n",
    "round(log(1000, 10)) # 3, Python is so dumb"
   ]
  },
  {
   "cell_type": "code",
   "execution_count": 5,
   "id": "b19c8e8a",
   "metadata": {},
   "outputs": [
    {
     "data": {
      "text/plain": [
       "-5"
      ]
     },
     "execution_count": 5,
     "metadata": {},
     "output_type": "execute_result"
    }
   ],
   "source": [
    "round(log(0.1, 10)) # -1\n",
    "round(log(0.01, 10)) # -2\n",
    "round(log(0.001, 10)) # -3\n",
    "round(log(0.001, 10)) # -3\n",
    "round(log(0.00001, 10)) # -5"
   ]
  },
  {
   "cell_type": "code",
   "execution_count": 6,
   "id": "eb743104",
   "metadata": {},
   "outputs": [
    {
     "ename": "ValueError",
     "evalue": "math domain error",
     "output_type": "error",
     "traceback": [
      "\u001b[0;31m---------------------------------------------------------------------------\u001b[0m",
      "\u001b[0;31mValueError\u001b[0m                                Traceback (most recent call last)",
      "Input \u001b[0;32mIn [6]\u001b[0m, in \u001b[0;36m<cell line: 1>\u001b[0;34m()\u001b[0m\n\u001b[0;32m----> 1\u001b[0m \u001b[43mlog\u001b[49m\u001b[43m(\u001b[49m\u001b[38;5;241;43m0\u001b[39;49m\u001b[43m,\u001b[49m\u001b[43m \u001b[49m\u001b[38;5;241;43m10\u001b[39;49m\u001b[43m)\u001b[49m \u001b[38;5;66;03m# error\u001b[39;00m\n\u001b[1;32m      2\u001b[0m log(\u001b[38;5;241m-\u001b[39m\u001b[38;5;241m5\u001b[39m, \u001b[38;5;241m10\u001b[39m)\n",
      "\u001b[0;31mValueError\u001b[0m: math domain error"
     ]
    }
   ],
   "source": [
    "log(0, 10) # error\n",
    "log(-5, 10) # error\n",
    "# log(x), x > 0"
   ]
  },
  {
   "cell_type": "code",
   "execution_count": null,
   "id": "58bb74c9",
   "metadata": {},
   "outputs": [],
   "source": [
    "log(16, 4) # 2\n",
    "log(1/16, 4) # 4 elevado a qual número dá 1/16? Obviamente -2\n",
    "log(4, 16) # 16 elevado a qual número dá 4? Raiz de 16 dá 4, logo é 1/2\n",
    "log(1/4, 16) # 16 elevado a qual número dá -4? O inverso do acima, -1/2"
   ]
  },
  {
   "cell_type": "code",
   "execution_count": null,
   "id": "447bf188",
   "metadata": {},
   "outputs": [],
   "source": [
    "log(216, 6) # 3\n",
    "log(1/216, 6) # -3\n",
    "log(1/6, 216) # - 1/3\n",
    "log(6, 216) # 1/3"
   ]
  },
  {
   "cell_type": "code",
   "execution_count": 11,
   "id": "99b23e65",
   "metadata": {},
   "outputs": [
    {
     "ename": "TypeError",
     "evalue": "only size-1 arrays can be converted to Python scalars",
     "output_type": "error",
     "traceback": [
      "\u001b[0;31m---------------------------------------------------------------------------\u001b[0m",
      "\u001b[0;31mTypeError\u001b[0m                                 Traceback (most recent call last)",
      "Input \u001b[0;32mIn [11]\u001b[0m, in \u001b[0;36m<cell line: 6>\u001b[0;34m()\u001b[0m\n\u001b[1;32m      3\u001b[0m \u001b[38;5;28;01mimport\u001b[39;00m \u001b[38;5;21;01mnumpy\u001b[39;00m \u001b[38;5;28;01mas\u001b[39;00m \u001b[38;5;21;01mnp\u001b[39;00m\n\u001b[1;32m      5\u001b[0m x \u001b[38;5;241m=\u001b[39m np\u001b[38;5;241m.\u001b[39mlinspace(\u001b[38;5;241m-\u001b[39m\u001b[38;5;241m5\u001b[39m, \u001b[38;5;241m5\u001b[39m, \u001b[38;5;241m100\u001b[39m)\n\u001b[0;32m----> 6\u001b[0m y \u001b[38;5;241m=\u001b[39m \u001b[43mlog\u001b[49m\u001b[43m(\u001b[49m\u001b[43mx\u001b[49m\u001b[43m,\u001b[49m\u001b[43m \u001b[49m\u001b[38;5;241;43m2\u001b[39;49m\u001b[43m)\u001b[49m\n\u001b[1;32m      8\u001b[0m plot\u001b[38;5;241m.\u001b[39mplot(x, y)\n\u001b[1;32m      9\u001b[0m plot\u001b[38;5;241m.\u001b[39mshow()\n",
      "\u001b[0;31mTypeError\u001b[0m: only size-1 arrays can be converted to Python scalars"
     ]
    }
   ],
   "source": [
    "import math\n",
    "import matplotlib.pyplot as plot\n",
    "import numpy as np\n",
    "\n",
    "x = np.linspace(-5, 5, 100)\n",
    "y = log(x, 2)\n",
    "\n",
    "plot.plot(x, y)\n",
    "plot.show()\n",
    "\n",
    "# fig = plot.figure()\n"
   ]
  }
 ],
 "metadata": {
  "kernelspec": {
   "display_name": "Python 3 (ipykernel)",
   "language": "python",
   "name": "python3"
  },
  "language_info": {
   "codemirror_mode": {
    "name": "ipython",
    "version": 3
   },
   "file_extension": ".py",
   "mimetype": "text/x-python",
   "name": "python",
   "nbconvert_exporter": "python",
   "pygments_lexer": "ipython3",
   "version": "3.10.4"
  }
 },
 "nbformat": 4,
 "nbformat_minor": 5
}
