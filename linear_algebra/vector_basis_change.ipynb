{
 "cells": [
  {
   "cell_type": "code",
   "execution_count": 17,
   "id": "db15610a",
   "metadata": {},
   "outputs": [],
   "source": [
    "import numpy as np\n",
    "import os\n",
    "\n",
    "def change_matrix(b1: np.ndarray, b2: np.ndarray) -> np.ndarray:\n",
    "    \"\"\"\n",
    "    change_matrix is a function that receives two vector system's bases and outputs \n",
    "    a change of coordinate's matrix to be used to convert vectors with b1 basis \n",
    "    into vectors with b2 basis\n",
    "    \"\"\"\n",
    "    \n",
    "    # 01. Check if base1 and base2 are indeed basis\n",
    "    for base in locals().values():\n",
    "        if np.linalg.det(base) == 0:\n",
    "            raise ValueError(f\"{base} is not a valid base\")\n",
    "    \n",
    "    # 02. Calculate change_matrix\n",
    "    answer = np.zeros(b1.shape)\n",
    "    \n",
    "    for idx, vector in enumerate(b1):\n",
    "        partial = np.linalg.solve(np.transpose(b2), vector)\n",
    "        answer[idx] = partial\n",
    "    \n",
    "    return np.transpose(answer)\n",
    "\n",
    "def change_vector_base(v: np.ndarray, vb: np.ndarray, nb: np.ndarray) -> np.ndarray:\n",
    "    \"\"\"\n",
    "    This function receives a vector v, its base vb and a new base nb as input, and\n",
    "    outputs a new vector that represents v in nb base.\n",
    "    \"\"\"\n",
    "    \n",
    "    # 01. Calculate change matrix from vb to nb\n",
    "    cm = change_matrix(vb, nb)\n",
    "    \n",
    "    # 02. Change v's basis\n",
    "    return np.matmul(cm, v)\n"
   ]
  },
  {
   "cell_type": "code",
   "execution_count": 20,
   "id": "a4bc4af7",
   "metadata": {},
   "outputs": [
    {
     "data": {
      "text/plain": [
       "(3, 3)"
      ]
     },
     "execution_count": 20,
     "metadata": {},
     "output_type": "execute_result"
    }
   ],
   "source": [
    "a = np.array([\n",
    "    [1, 0, 1],\n",
    "    [1, 1, 0],\n",
    "    [2, 2, -3]\n",
    "])\n",
    "\n",
    "b = np.array([\n",
    "    [3, 1, 1],\n",
    "    [0, 0, 1],\n",
    "    [-1, 2, 0]\n",
    "])\n",
    "\n",
    "vector = np.array([2, -1, 3])\n",
    "change_vector_base(vector, a, b)\n",
    "vector.shape\n",
    "a.shape"
   ]
  },
  {
   "cell_type": "code",
   "execution_count": 7,
   "id": "c8ff5416",
   "metadata": {},
   "outputs": [
    {
     "name": "stdout",
     "output_type": "stream",
     "text": [
      "0.7142857142857143\n"
     ]
    }
   ],
   "source": [
    "print(5/7)"
   ]
  },
  {
   "cell_type": "code",
   "execution_count": null,
   "id": "dd55903e",
   "metadata": {},
   "outputs": [],
   "source": []
  },
  {
   "cell_type": "code",
   "execution_count": null,
   "id": "fb6d4ff8",
   "metadata": {},
   "outputs": [],
   "source": []
  }
 ],
 "metadata": {
  "kernelspec": {
   "display_name": "Python 3 (ipykernel)",
   "language": "python",
   "name": "python3"
  },
  "language_info": {
   "codemirror_mode": {
    "name": "ipython",
    "version": 3
   },
   "file_extension": ".py",
   "mimetype": "text/x-python",
   "name": "python",
   "nbconvert_exporter": "python",
   "pygments_lexer": "ipython3",
   "version": "3.10.4"
  }
 },
 "nbformat": 4,
 "nbformat_minor": 5
}
