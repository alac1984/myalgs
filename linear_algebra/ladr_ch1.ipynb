{
 "cells": [
  {
   "cell_type": "markdown",
   "id": "cbbd3010",
   "metadata": {},
   "source": [
    "Multiplication in C\n",
    "\n",
    "$(a + bi)(c + di) $ \\\n",
    "$ac + adi + bci + bdi^2 $  \n",
    "$ac + adi + bci - bd $  \n",
    "$(ac - bd) + (ad + bc)i $  \n"
   ]
  },
  {
   "cell_type": "code",
   "execution_count": null,
   "id": "213d67b6",
   "metadata": {},
   "outputs": [],
   "source": []
  }
 ],
 "metadata": {
  "kernelspec": {
   "display_name": "Python 3 (ipykernel)",
   "language": "python",
   "name": "python3"
  },
  "language_info": {
   "codemirror_mode": {
    "name": "ipython",
    "version": 3
   },
   "file_extension": ".py",
   "mimetype": "text/x-python",
   "name": "python",
   "nbconvert_exporter": "python",
   "pygments_lexer": "ipython3",
   "version": "3.10.6"
  }
 },
 "nbformat": 4,
 "nbformat_minor": 5
}
