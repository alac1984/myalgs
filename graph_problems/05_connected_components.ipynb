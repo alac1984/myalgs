{
 "cells": [
  {
   "cell_type": "markdown",
   "id": "cfe8008e",
   "metadata": {},
   "source": [
    "### Connected Components\n",
    "&nbsp;  \n",
    "#### Description of the Problem:\n",
    "&nbsp;  \n",
    "&nbsp;From a given graph, we want to know how many \"island\" (i.e. interconnected components) we have. "
   ]
  },
  {
   "cell_type": "code",
   "execution_count": 1,
   "id": "d0f2858a",
   "metadata": {},
   "outputs": [],
   "source": [
    "def connected_components_count(graph: dict):\n",
    "    visited = set()\n",
    "    count = 0\n",
    "    for node in graph.keys():\n",
    "        if explore(graph, node, visited):\n",
    "            count += 1\n",
    "    \n",
    "    return count\n",
    "\n",
    "        \n",
    "def explore(graph: dict, current: int, visited: list[int]) -> bool:\n",
    "    if current in visited:\n",
    "        return False\n",
    "    \n",
    "    visited.add(current)\n",
    "    \n",
    "    for neighbor in graph[current]:\n",
    "        explore(graph, neighbor, visited)\n",
    "    \n",
    "    return True\n",
    "    "
   ]
  },
  {
   "cell_type": "code",
   "execution_count": 2,
   "id": "057bf3ed",
   "metadata": {},
   "outputs": [
    {
     "data": {
      "text/plain": [
       "2"
      ]
     },
     "execution_count": 2,
     "metadata": {},
     "output_type": "execute_result"
    }
   ],
   "source": [
    "graph = {\n",
    "    0: [8, 1, 5],\n",
    "    1: [0],\n",
    "    5: [0, 8],\n",
    "    8: [0, 5],\n",
    "    2: [3, 4],\n",
    "    3: [2, 4],\n",
    "    4: [3, 2]\n",
    "}\n",
    "\n",
    "connected_components_count(graph)"
   ]
  },
  {
   "cell_type": "code",
   "execution_count": null,
   "id": "df557000",
   "metadata": {},
   "outputs": [],
   "source": []
  }
 ],
 "metadata": {
  "kernelspec": {
   "display_name": "Python 3 (ipykernel)",
   "language": "python",
   "name": "python3"
  },
  "language_info": {
   "codemirror_mode": {
    "name": "ipython",
    "version": 3
   },
   "file_extension": ".py",
   "mimetype": "text/x-python",
   "name": "python",
   "nbconvert_exporter": "python",
   "pygments_lexer": "ipython3",
   "version": "3.10.4"
  }
 },
 "nbformat": 4,
 "nbformat_minor": 5
}
