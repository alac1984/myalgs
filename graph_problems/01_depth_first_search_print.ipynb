{
 "cells": [
  {
   "cell_type": "code",
   "execution_count": 3,
   "id": "74205d46",
   "metadata": {},
   "outputs": [],
   "source": [
    "def depth_first_search_loop(graph: dict, source: str) -> None:\n",
    "    \"\"\"Non recursive version\"\"\"\n",
    "    stack = [source]\n",
    "    \n",
    "    while len(stack) > 0:\n",
    "        current = stack.pop()\n",
    "        print(current)\n",
    "        \n",
    "        for neighbor in graph[current]:\n",
    "            stack.append(neighbor)\n"
   ]
  },
  {
   "cell_type": "code",
   "execution_count": 4,
   "id": "4a362efb",
   "metadata": {},
   "outputs": [
    {
     "name": "stdout",
     "output_type": "stream",
     "text": [
      "a\n",
      "c\n",
      "e\n",
      "b\n",
      "d\n",
      "f\n"
     ]
    }
   ],
   "source": [
    "graph = {\n",
    "    \"a\": [\"b\", \"c\"],\n",
    "    \"b\": [\"d\"],\n",
    "    \"c\": [\"e\"],\n",
    "    \"d\": [\"f\"],\n",
    "    \"e\": [],\n",
    "    \"f\": []\n",
    "}\n",
    "\n",
    "depth_first_search_loop(graph, \"a\")"
   ]
  },
  {
   "cell_type": "code",
   "execution_count": 8,
   "id": "af9b54c2",
   "metadata": {},
   "outputs": [],
   "source": [
    "def depth_first_search_recur(graph: dict, source: str) -> None:\n",
    "    print(source)\n",
    "    for neighbor in graph[source]:\n",
    "        depth_first_search_recur(graph, neighbor)\n"
   ]
  },
  {
   "cell_type": "code",
   "execution_count": 9,
   "id": "7b54c697",
   "metadata": {},
   "outputs": [
    {
     "name": "stdout",
     "output_type": "stream",
     "text": [
      "a\n",
      "b\n",
      "d\n",
      "f\n",
      "c\n",
      "e\n"
     ]
    }
   ],
   "source": [
    "depth_first_search_recur(graph, \"a\")"
   ]
  },
  {
   "cell_type": "code",
   "execution_count": null,
   "id": "807bdcaa",
   "metadata": {},
   "outputs": [],
   "source": []
  }
 ],
 "metadata": {
  "kernelspec": {
   "display_name": "Python 3 (ipykernel)",
   "language": "python",
   "name": "python3"
  },
  "language_info": {
   "codemirror_mode": {
    "name": "ipython",
    "version": 3
   },
   "file_extension": ".py",
   "mimetype": "text/x-python",
   "name": "python",
   "nbconvert_exporter": "python",
   "pygments_lexer": "ipython3",
   "version": "3.10.4"
  }
 },
 "nbformat": 4,
 "nbformat_minor": 5
}
