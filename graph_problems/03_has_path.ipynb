{
 "cells": [
  {
   "cell_type": "code",
   "execution_count": 2,
   "id": "0836172f",
   "metadata": {},
   "outputs": [],
   "source": [
    "# Depth First search version\n",
    "\n",
    "def has_path_depth(graph: dict, src: str, dst: str) -> bool:\n",
    "    if (src == dst):\n",
    "        return True\n",
    "    \n",
    "    for neighbor in graph[src]:\n",
    "        if has_path_depth(graph, neighbor, dst):\n",
    "            return True\n",
    "        \n",
    "    return False"
   ]
  },
  {
   "cell_type": "code",
   "execution_count": 3,
   "id": "4bee5844",
   "metadata": {},
   "outputs": [
    {
     "data": {
      "text/plain": [
       "False"
      ]
     },
     "execution_count": 3,
     "metadata": {},
     "output_type": "execute_result"
    }
   ],
   "source": [
    "graph = {\n",
    "    \"a\": [\"b\", \"c\"],\n",
    "    \"b\": [\"d\"],\n",
    "    \"c\": [\"e\"],\n",
    "    \"d\": [\"f\"],\n",
    "    \"e\": [],\n",
    "    \"f\": [],\n",
    "    \"x\": [\"y\"],\n",
    "    \"y\": []\n",
    "}\n",
    "\n",
    "has_path_depth(graph, \"x\", \"y\") # True\n",
    "has_path_depth(graph, \"a\", \"x\") # False"
   ]
  },
  {
   "cell_type": "code",
   "execution_count": 6,
   "id": "45d98e5a",
   "metadata": {},
   "outputs": [],
   "source": [
    "# Breadth First Search version\n",
    "\n",
    "def has_path_breadth(graph: dict, src: str, dst: str) -> bool:\n",
    "    queue = [src]\n",
    "    queue.append(src)\n",
    "    \n",
    "    while len(queue) > 0:\n",
    "        current = queue.pop(0)\n",
    "        if current == dst:\n",
    "            return True\n",
    "        \n",
    "        for neighbor in graph[current]:\n",
    "            queue.append(neighbor)\n",
    "    \n",
    "    return False"
   ]
  },
  {
   "cell_type": "code",
   "execution_count": 8,
   "id": "4226b91d",
   "metadata": {},
   "outputs": [
    {
     "data": {
      "text/plain": [
       "False"
      ]
     },
     "execution_count": 8,
     "metadata": {},
     "output_type": "execute_result"
    }
   ],
   "source": [
    "has_path_breadth(graph, \"a\", \"d\") # True\n",
    "has_path_breadth(graph, \"a\", \"x\") # False"
   ]
  }
 ],
 "metadata": {
  "kernelspec": {
   "display_name": "Python 3 (ipykernel)",
   "language": "python",
   "name": "python3"
  },
  "language_info": {
   "codemirror_mode": {
    "name": "ipython",
    "version": 3
   },
   "file_extension": ".py",
   "mimetype": "text/x-python",
   "name": "python",
   "nbconvert_exporter": "python",
   "pygments_lexer": "ipython3",
   "version": "3.10.4"
  }
 },
 "nbformat": 4,
 "nbformat_minor": 5
}
