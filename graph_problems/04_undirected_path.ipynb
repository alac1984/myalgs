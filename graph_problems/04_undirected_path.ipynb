{
 "cells": [
  {
   "cell_type": "code",
   "execution_count": 5,
   "id": "5b0d3458",
   "metadata": {},
   "outputs": [],
   "source": [
    "# The graph here is a 'edges' graph. It contains only the connections between\n",
    "# nodes. So we have to create a function to convert this edges graph to the\n",
    "# common graph we are working with\n",
    "\n",
    "def build_graph(edges: list) -> dict:\n",
    "    graph = {}\n",
    "    for edge in edges:\n",
    "        x, y = edge\n",
    "        if not graph.get(x):\n",
    "            graph[x] = []\n",
    "        \n",
    "        if not graph.get(y):\n",
    "            graph[y] = []\n",
    "        \n",
    "        graph[x].append(y)\n",
    "        graph[y].append(x)\n",
    "            \n",
    "    return graph\n",
    "        "
   ]
  },
  {
   "cell_type": "code",
   "execution_count": 6,
   "id": "524d7963",
   "metadata": {},
   "outputs": [
    {
     "data": {
      "text/plain": [
       "{'i': ['j', 'k'],\n",
       " 'j': ['i'],\n",
       " 'k': ['i', 'm', 'l'],\n",
       " 'm': ['k'],\n",
       " 'l': ['k'],\n",
       " 'o': ['n'],\n",
       " 'n': ['o']}"
      ]
     },
     "execution_count": 6,
     "metadata": {},
     "output_type": "execute_result"
    }
   ],
   "source": [
    "edges = [\n",
    "    ['i', 'j'],\n",
    "    ['k', 'i'],\n",
    "    ['m', 'k'],\n",
    "    ['k', 'l'],\n",
    "    ['o', 'n']\n",
    "]\n",
    "\n",
    "build_graph(edges)"
   ]
  },
  {
   "cell_type": "code",
   "execution_count": 13,
   "id": "16e9ac9b",
   "metadata": {},
   "outputs": [],
   "source": [
    "# The undirected path is a \"has path problem\", but we can have\n",
    "# infinite loops on it (because all paths are \"two way paths\")\n",
    "\n",
    "def has_path(graph: dict, src: str, dst: str, visited: list) -> bool:\n",
    "    if src == dst:\n",
    "        return True\n",
    "    \n",
    "    if src in visited:\n",
    "        return False\n",
    "    \n",
    "    visited.add(src)\n",
    "    \n",
    "    for neighbor in graph[src]:\n",
    "        if has_path(graph, neighbor, dst, visited):\n",
    "            return True\n",
    "    \n",
    "    return False\n",
    "\n",
    "def undirected_path(edges: list, src: str, dst: str) -> bool:\n",
    "    graph = build_graph(edges)\n",
    "    return has_path(graph, src, dst, set())"
   ]
  },
  {
   "cell_type": "code",
   "execution_count": 16,
   "id": "5e2fac2d",
   "metadata": {},
   "outputs": [
    {
     "data": {
      "text/plain": [
       "False"
      ]
     },
     "execution_count": 16,
     "metadata": {},
     "output_type": "execute_result"
    }
   ],
   "source": [
    "undirected_path(edges, \"i\", \"m\") # True\n",
    "undirected_path(edges, \"i\", \"o\") # False"
   ]
  },
  {
   "cell_type": "code",
   "execution_count": null,
   "id": "4263422f",
   "metadata": {},
   "outputs": [],
   "source": []
  }
 ],
 "metadata": {
  "kernelspec": {
   "display_name": "Python 3 (ipykernel)",
   "language": "python",
   "name": "python3"
  },
  "language_info": {
   "codemirror_mode": {
    "name": "ipython",
    "version": 3
   },
   "file_extension": ".py",
   "mimetype": "text/x-python",
   "name": "python",
   "nbconvert_exporter": "python",
   "pygments_lexer": "ipython3",
   "version": "3.10.4"
  }
 },
 "nbformat": 4,
 "nbformat_minor": 5
}
