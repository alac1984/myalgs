{
 "cells": [
  {
   "cell_type": "code",
   "execution_count": 4,
   "id": "d1d2c16c",
   "metadata": {},
   "outputs": [],
   "source": [
    "def shortest_path(graph: dict, start: str, end: str):\n",
    "    start_node = (start, 0)\n",
    "    queue = [start_node]\n",
    "    visited = set()\n",
    "    \n",
    "    while len(queue) > 0:\n",
    "        current_node, distance = queue.pop(0)\n",
    "            \n",
    "        if current_node == end:\n",
    "            return distance\n",
    "        \n",
    "        visited.add(current_node)\n",
    "        \n",
    "        for node in graph[current_node]:\n",
    "            if node not in visited:\n",
    "                queue.append((node, distance + 1))\n",
    "    \n",
    "    return -1"
   ]
  },
  {
   "cell_type": "code",
   "execution_count": 5,
   "id": "274d8522",
   "metadata": {},
   "outputs": [
    {
     "data": {
      "text/plain": [
       "2"
      ]
     },
     "execution_count": 5,
     "metadata": {},
     "output_type": "execute_result"
    }
   ],
   "source": [
    "graph = {\n",
    "    \"w\": [\"x\", \"v\"],\n",
    "    \"x\": [\"w\"],\n",
    "    \"v\": [\"z\"],\n",
    "    \"y\": [\"x\", \"z\"],\n",
    "    \"z\": [\"y\", \"v\"]\n",
    "}\n",
    "\n",
    "graph2 = {\n",
    "    \n",
    "}\n",
    "\n",
    "shortest_path(graph, \"w\", \"z\")"
   ]
  },
  {
   "cell_type": "code",
   "execution_count": null,
   "id": "3acfa438",
   "metadata": {},
   "outputs": [],
   "source": []
  }
 ],
 "metadata": {
  "kernelspec": {
   "display_name": "Python 3 (ipykernel)",
   "language": "python",
   "name": "python3"
  },
  "language_info": {
   "codemirror_mode": {
    "name": "ipython",
    "version": 3
   },
   "file_extension": ".py",
   "mimetype": "text/x-python",
   "name": "python",
   "nbconvert_exporter": "python",
   "pygments_lexer": "ipython3",
   "version": "3.10.4"
  }
 },
 "nbformat": 4,
 "nbformat_minor": 5
}
