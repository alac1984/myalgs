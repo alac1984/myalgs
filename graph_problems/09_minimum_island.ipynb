{
 "cells": [
  {
   "cell_type": "code",
   "execution_count": 9,
   "id": "9cc911fa",
   "metadata": {},
   "outputs": [],
   "source": [
    "import math\n",
    "def minimum_island(graph: list[list]):\n",
    "    visited = set()\n",
    "    shortest = math.inf\n",
    "    for rid, row in enumerate(graph):\n",
    "        for cid, col in enumerate(row):\n",
    "            if col == \"l\":\n",
    "                size = explore(graph, rid, cid, visited)\n",
    "                if size < shortest and size > 0: # NEAT!\n",
    "                    shortest = size\n",
    "    \n",
    "    return shortest\n",
    "\n",
    "def explore(graph: list[list], rid: int, cid: int, visited: set) -> int:\n",
    "    row_inbounds = rid >= 0 and rid < len(graph)\n",
    "    col_inbounds = cid >= 0 and cid < len(graph[0])\n",
    "    \n",
    "    if not row_inbounds or not col_inbounds:\n",
    "        return 0\n",
    "    \n",
    "    if grid[rid][cid] == \"w\":\n",
    "        return 0\n",
    "    \n",
    "    position = f\"{rid},{cid}\"\n",
    "    if position in visited:\n",
    "        return 0\n",
    "    \n",
    "    visited.add(position)\n",
    "    \n",
    "    size = 1\n",
    "    size += explore(grid, rid + 1, cid, visited)\n",
    "    size += explore(grid, rid - 1, cid, visited)\n",
    "    size += explore(grid, rid, cid + 1, visited)\n",
    "    size += explore(grid, rid, cid - 1, visited)\n",
    "    \n",
    "    return size\n",
    "    "
   ]
  },
  {
   "cell_type": "code",
   "execution_count": 10,
   "id": "0831d547",
   "metadata": {},
   "outputs": [
    {
     "data": {
      "text/plain": [
       "2"
      ]
     },
     "execution_count": 10,
     "metadata": {},
     "output_type": "execute_result"
    }
   ],
   "source": [
    "grid = [\n",
    "    ['w', 'l', 'w', 'w', 'l', 'w'],\n",
    "    ['l', 'l', 'w', 'w', 'l', 'w'],\n",
    "    ['w', 'l', 'w', 'w', 'w', 'w'],\n",
    "    ['w', 'w', 'w', 'l', 'l', 'w'],\n",
    "    ['w', 'w', 'w', 'l', 'l', 'w'],\n",
    "    ['w', 'w', 'w', 'l', 'w', 'w'],\n",
    "]\n",
    "\n",
    "minimum_island(grid)"
   ]
  },
  {
   "cell_type": "code",
   "execution_count": null,
   "id": "91f00f6b",
   "metadata": {},
   "outputs": [],
   "source": []
  }
 ],
 "metadata": {
  "kernelspec": {
   "display_name": "Python 3 (ipykernel)",
   "language": "python",
   "name": "python3"
  },
  "language_info": {
   "codemirror_mode": {
    "name": "ipython",
    "version": 3
   },
   "file_extension": ".py",
   "mimetype": "text/x-python",
   "name": "python",
   "nbconvert_exporter": "python",
   "pygments_lexer": "ipython3",
   "version": "3.10.4"
  }
 },
 "nbformat": 4,
 "nbformat_minor": 5
}
