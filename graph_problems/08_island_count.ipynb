{
 "cells": [
  {
   "cell_type": "code",
   "execution_count": 2,
   "id": "e638a495",
   "metadata": {},
   "outputs": [],
   "source": [
    "def island_count(grid: list[list]):\n",
    "    visited = set()\n",
    "    count = 0\n",
    "    for row_id, row in enumerate(grid):\n",
    "        for node_id, node in enumerate(row):\n",
    "            if explore(grid, row_id, node_id, visited):\n",
    "                count += 1\n",
    "    \n",
    "    return count\n",
    "                \n",
    "\n",
    "def explore(grid: list[list], row_id: int, node_id: int, visited: set) -> bool:\n",
    "    row_inbounds = row_id >= 0 and row_id < len(grid)\n",
    "    node_inbounds = node_id >= 0 and node_id < len(grid[0])\n",
    "    \n",
    "    if not row_inbounds or not node_inbounds:\n",
    "        return False\n",
    "    \n",
    "    if grid[row_id][node_id] == 'w':\n",
    "        return False\n",
    "    \n",
    "    position = f\"{row_id},{node_id}\"\n",
    "    if position in visited:\n",
    "        return False\n",
    "    \n",
    "    visited.add(position)\n",
    "    \n",
    "    explore(grid, row_id - 1, node_id, visited)\n",
    "    explore(grid, row_id + 1, node_id, visited)\n",
    "    explore(grid, row_id, node_id - 1, visited)\n",
    "    explore(grid, row_id, node_id + 1, visited)\n",
    "    \n",
    "    return True\n"
   ]
  },
  {
   "cell_type": "code",
   "execution_count": 3,
   "id": "6bec4f9a",
   "metadata": {},
   "outputs": [
    {
     "data": {
      "text/plain": [
       "3"
      ]
     },
     "execution_count": 3,
     "metadata": {},
     "output_type": "execute_result"
    }
   ],
   "source": [
    "board = [\n",
    "    ['w', 'l', 'w', 'w', 'l', 'w'],\n",
    "    ['l', 'l', 'w', 'w', 'l', 'w'],\n",
    "    ['w', 'l', 'w', 'w', 'w', 'w'],\n",
    "    ['w', 'w', 'w', 'l', 'l', 'w'],\n",
    "    ['w', 'l', 'w', 'l', 'l', 'w'],\n",
    "    ['w', 'w', 'w', 'w', 'w', 'w'],\n",
    "]\n",
    "\n",
    "grid = [\n",
    "    ['w', 'l', 'w', 'w', 'l', 'w'],\n",
    "    ['l', 'l', 'w', 'w', 'l', 'w'],\n",
    "    ['w', 'l', 'w', 'w', 'w', 'w'],\n",
    "    ['w', 'w', 'w', 'l', 'l', 'w'],\n",
    "    ['w', 'w', 'w', 'l', 'l', 'w'],\n",
    "    ['w', 'w', 'w', 'l', 'w', 'w'],\n",
    "]\n",
    "\n",
    "island_count(grid)"
   ]
  },
  {
   "cell_type": "code",
   "execution_count": null,
   "id": "4a553d6e",
   "metadata": {},
   "outputs": [],
   "source": []
  }
 ],
 "metadata": {
  "kernelspec": {
   "display_name": "Python 3 (ipykernel)",
   "language": "python",
   "name": "python3"
  },
  "language_info": {
   "codemirror_mode": {
    "name": "ipython",
    "version": 3
   },
   "file_extension": ".py",
   "mimetype": "text/x-python",
   "name": "python",
   "nbconvert_exporter": "python",
   "pygments_lexer": "ipython3",
   "version": "3.10.4"
  }
 },
 "nbformat": 4,
 "nbformat_minor": 5
}
