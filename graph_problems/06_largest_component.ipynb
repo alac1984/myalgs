{
 "cells": [
  {
   "cell_type": "code",
   "execution_count": 11,
   "id": "0d823137",
   "metadata": {},
   "outputs": [],
   "source": [
    "def largest_component(graph: dict):\n",
    "    visited = set()\n",
    "    longest = 0\n",
    "    \n",
    "    for node in graph.keys():\n",
    "        size = explore_size(graph, node, visited)\n",
    "    \n",
    "    if size > longest:\n",
    "        longest = size\n",
    "    \n",
    "    return longest\n",
    "\n",
    "        \n",
    "def explore_size(graph: dict, current: int, visited: set[str]) -> bool:\n",
    "    if current in visited:\n",
    "        return 0\n",
    "    \n",
    "    visited.add(current)\n",
    "    size = 1\n",
    "    \n",
    "    for neighbor in graph[current]:\n",
    "        size += explore_size(graph, neighbor, visited)\n",
    "    \n",
    "    return size\n",
    "    "
   ]
  },
  {
   "cell_type": "code",
   "execution_count": 12,
   "id": "75999147",
   "metadata": {},
   "outputs": [
    {
     "data": {
      "text/plain": [
       "4"
      ]
     },
     "execution_count": 12,
     "metadata": {},
     "output_type": "execute_result"
    }
   ],
   "source": [
    "graph = {\n",
    "    0: [8, 1, 5],\n",
    "    1: [0],\n",
    "    5: [0, 8],\n",
    "    8: [0, 5],\n",
    "    2: [3, 4],\n",
    "    3: [2, 4],\n",
    "    4: [3, 2]\n",
    "}\n",
    "\n",
    "explore_size(graph, 0, set())"
   ]
  },
  {
   "cell_type": "code",
   "execution_count": null,
   "id": "8b9b5d77",
   "metadata": {},
   "outputs": [],
   "source": []
  }
 ],
 "metadata": {
  "kernelspec": {
   "display_name": "Python 3 (ipykernel)",
   "language": "python",
   "name": "python3"
  },
  "language_info": {
   "codemirror_mode": {
    "name": "ipython",
    "version": 3
   },
   "file_extension": ".py",
   "mimetype": "text/x-python",
   "name": "python",
   "nbconvert_exporter": "python",
   "pygments_lexer": "ipython3",
   "version": "3.10.4"
  }
 },
 "nbformat": 4,
 "nbformat_minor": 5
}
