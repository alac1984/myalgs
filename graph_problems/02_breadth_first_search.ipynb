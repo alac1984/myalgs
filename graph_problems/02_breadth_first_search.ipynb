{
 "cells": [
  {
   "cell_type": "code",
   "execution_count": 1,
   "id": "b16e4438",
   "metadata": {},
   "outputs": [],
   "source": [
    "def breadth_first_search(graph: dict, source: str) -> None:\n",
    "    queue = [source]\n",
    "    while len(queue) > 0:\n",
    "        current = queue.pop(0)\n",
    "        print(current)\n",
    "        \n",
    "        for neighbor in graph[current]:\n",
    "            queue.append(neighbor)"
   ]
  },
  {
   "cell_type": "code",
   "execution_count": 2,
   "id": "f5812668",
   "metadata": {},
   "outputs": [
    {
     "name": "stdout",
     "output_type": "stream",
     "text": [
      "a\n",
      "b\n",
      "c\n",
      "d\n",
      "e\n",
      "f\n"
     ]
    }
   ],
   "source": [
    "graph = {\n",
    "    \"a\": [\"b\", \"c\"],\n",
    "    \"b\": [\"d\"],\n",
    "    \"c\": [\"e\"],\n",
    "    \"d\": [\"f\"],\n",
    "    \"e\": [],\n",
    "    \"f\": []\n",
    "}\n",
    "\n",
    "breadth_first_search(graph, \"a\")"
   ]
  }
 ],
 "metadata": {
  "kernelspec": {
   "display_name": "Python 3 (ipykernel)",
   "language": "python",
   "name": "python3"
  },
  "language_info": {
   "codemirror_mode": {
    "name": "ipython",
    "version": 3
   },
   "file_extension": ".py",
   "mimetype": "text/x-python",
   "name": "python",
   "nbconvert_exporter": "python",
   "pygments_lexer": "ipython3",
   "version": "3.10.4"
  }
 },
 "nbformat": 4,
 "nbformat_minor": 5
}
