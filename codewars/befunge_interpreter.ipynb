{
 "cells": [
  {
   "cell_type": "code",
   "execution_count": 1,
   "id": "15e08eb9",
   "metadata": {},
   "outputs": [],
   "source": [
    "# Befunge Interpreter\n",
    "# https://www.codewars.com/kata/526c7b931666d07889000a3c/train/python"
   ]
  },
  {
   "cell_type": "code",
   "execution_count": 4,
   "id": "39dbcab2",
   "metadata": {},
   "outputs": [],
   "source": [
    "from dataclasses import dataclass, field\n",
    "\n",
    "def interpret(code: str):\n",
    "    ...\n",
    "    \n",
    "@dataclass\n",
    "class Cursor:\n",
    "    grid: list[list[str]]\n",
    "    pos: list[int] = field(default_factory=list)\n",
    "        \n",
    "    def __post_init__(self):\n",
    "        self.grid.append(0)\n",
    "        self.grid.append(0)\n",
    "    \n",
    "    @property\n",
    "    def get_pos_value(self):\n",
    "        return self.grid[pos[0], pos[1]]\n",
    "    "
   ]
  },
  {
   "cell_type": "code",
   "execution_count": 6,
   "id": "69c64e6b",
   "metadata": {},
   "outputs": [],
   "source": [
    "g = [\n",
    "    [1, 2, 3],\n",
    "    [4, 5, 6]\n",
    "]\n",
    "\n",
    "c = Cursor(g)"
   ]
  },
  {
   "cell_type": "code",
   "execution_count": 7,
   "id": "373330e4",
   "metadata": {},
   "outputs": [
    {
     "data": {
      "text/plain": [
       "[]"
      ]
     },
     "execution_count": 7,
     "metadata": {},
     "output_type": "execute_result"
    }
   ],
   "source": [
    "c.pos"
   ]
  },
  {
   "cell_type": "code",
   "execution_count": null,
   "id": "feb55253",
   "metadata": {},
   "outputs": [],
   "source": []
  }
 ],
 "metadata": {
  "kernelspec": {
   "display_name": "Python 3 (ipykernel)",
   "language": "python",
   "name": "python3"
  },
  "language_info": {
   "codemirror_mode": {
    "name": "ipython",
    "version": 3
   },
   "file_extension": ".py",
   "mimetype": "text/x-python",
   "name": "python",
   "nbconvert_exporter": "python",
   "pygments_lexer": "ipython3",
   "version": "3.10.4"
  }
 },
 "nbformat": 4,
 "nbformat_minor": 5
}
