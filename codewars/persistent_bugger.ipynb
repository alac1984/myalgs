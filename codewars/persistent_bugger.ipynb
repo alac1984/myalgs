{
 "cells": [
  {
   "cell_type": "code",
   "execution_count": 22,
   "id": "e386acf5",
   "metadata": {},
   "outputs": [],
   "source": [
    "def persistence(n):\n",
    "    if len(str(n)) == 1:\n",
    "        return 0\n",
    "    \n",
    "    counter = 0\n",
    "    new_n = 1\n",
    "    while len(str(n)) > 1:\n",
    "        for c in str(n):\n",
    "            new_n *= int(c)\n",
    "        n = new_n\n",
    "        new_n = 1\n",
    "        counter += 1\n",
    "    \n",
    "    return counter\n",
    "            "
   ]
  },
  {
   "cell_type": "code",
   "execution_count": 23,
   "id": "eae98f45",
   "metadata": {},
   "outputs": [
    {
     "data": {
      "text/plain": [
       "3"
      ]
     },
     "execution_count": 23,
     "metadata": {},
     "output_type": "execute_result"
    }
   ],
   "source": [
    "persistence(39)"
   ]
  },
  {
   "cell_type": "code",
   "execution_count": null,
   "id": "f3e572ac",
   "metadata": {},
   "outputs": [],
   "source": []
  }
 ],
 "metadata": {
  "kernelspec": {
   "display_name": "Python 3 (ipykernel)",
   "language": "python",
   "name": "python3"
  },
  "language_info": {
   "codemirror_mode": {
    "name": "ipython",
    "version": 3
   },
   "file_extension": ".py",
   "mimetype": "text/x-python",
   "name": "python",
   "nbconvert_exporter": "python",
   "pygments_lexer": "ipython3",
   "version": "3.10.6"
  }
 },
 "nbformat": 4,
 "nbformat_minor": 5
}
