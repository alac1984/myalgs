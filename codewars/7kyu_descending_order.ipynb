{
 "cells": [
  {
   "cell_type": "code",
   "execution_count": 21,
   "id": "142a0bd5",
   "metadata": {},
   "outputs": [],
   "source": [
    "# Descending order\n",
    "# https://www.codewars.com/kata/5467e4d82edf8bbf40000155\n",
    "\n",
    "def descending_order(num):\n",
    "    digits = [int(d) for d in str(num)]\n",
    "    digits.sort(reverse=True)\n",
    "    return int(\"\".join(str(d) for d in digits))"
   ]
  },
  {
   "cell_type": "code",
   "execution_count": 24,
   "id": "9df713ab",
   "metadata": {},
   "outputs": [
    {
     "data": {
      "text/plain": [
       "9998543210"
      ]
     },
     "execution_count": 24,
     "metadata": {},
     "output_type": "execute_result"
    }
   ],
   "source": [
    "descending_order(1234058999)"
   ]
  },
  {
   "cell_type": "code",
   "execution_count": 1,
   "id": "d16d570a",
   "metadata": {},
   "outputs": [],
   "source": [
    "# Better solution\n",
    "\n",
    "def descending_order(num):\n",
    "    return int(\"\".join(sorted(str(num), reverse=True)))"
   ]
  },
  {
   "cell_type": "code",
   "execution_count": 2,
   "id": "dcbddb2c",
   "metadata": {},
   "outputs": [
    {
     "data": {
      "text/plain": [
       "9998543210"
      ]
     },
     "execution_count": 2,
     "metadata": {},
     "output_type": "execute_result"
    }
   ],
   "source": [
    "descending_order(1234058999)"
   ]
  },
  {
   "cell_type": "code",
   "execution_count": null,
   "id": "d096e235",
   "metadata": {},
   "outputs": [],
   "source": []
  }
 ],
 "metadata": {
  "kernelspec": {
   "display_name": "Python 3 (ipykernel)",
   "language": "python",
   "name": "python3"
  },
  "language_info": {
   "codemirror_mode": {
    "name": "ipython",
    "version": 3
   },
   "file_extension": ".py",
   "mimetype": "text/x-python",
   "name": "python",
   "nbconvert_exporter": "python",
   "pygments_lexer": "ipython3",
   "version": "3.10.6"
  }
 },
 "nbformat": 4,
 "nbformat_minor": 5
}
