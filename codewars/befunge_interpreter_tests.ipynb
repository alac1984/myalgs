{
 "cells": [
  {
   "cell_type": "code",
   "execution_count": 33,
   "id": "811016a3",
   "metadata": {},
   "outputs": [],
   "source": [
    "import ipytest\n",
    "# ipytest.autoconfig(addopts=[\"-x\", \"--pdb\"])\n",
    "ipytest.autoconfig()"
   ]
  },
  {
   "cell_type": "code",
   "execution_count": 43,
   "id": "1c5bbacb",
   "metadata": {},
   "outputs": [
    {
     "name": "stdout",
     "output_type": "stream",
     "text": [
      "All classes and functions were loaded\n"
     ]
    }
   ],
   "source": [
    "%run befunge_interpreter.ipynb"
   ]
  },
  {
   "cell_type": "code",
   "execution_count": 45,
   "id": "5e434150",
   "metadata": {},
   "outputs": [
    {
     "name": "stdout",
     "output_type": "stream",
     "text": [
      "\u001b[32m.\u001b[0m\u001b[32m.\u001b[0m\u001b[32m.\u001b[0m\u001b[32m.\u001b[0m\u001b[32m.\u001b[0m\u001b[32m                                                                                        [100%]\u001b[0m\n",
      "\u001b[32m\u001b[32m\u001b[1m5 passed\u001b[0m\u001b[32m in 0.01s\u001b[0m\u001b[0m\n"
     ]
    }
   ],
   "source": [
    "%%ipytest\n",
    "import pytest\n",
    "\n",
    "# Cursor class tests\n",
    "\n",
    "@pytest.fixture\n",
    "def grid():\n",
    "    yield [\n",
    "        [1,  2,  3,  4 ],\n",
    "        [5,  6,  7,  8 ],\n",
    "        [9,  10, 11, 12],\n",
    "        [13, 14, 15, 16],\n",
    "        [17, 18, 19, 20],\n",
    "    ]\n",
    "\n",
    "def test_cursor_instantiation(grid):\n",
    "    assert Cursor(grid) is not None\n",
    "    assert Cursor(grid).grid is not None\n",
    "    assert Cursor(grid).pos is not None\n",
    "\n",
    "def test_cursor_initial_position(grid):\n",
    "    cur = Cursor(grid)\n",
    "    assert cur.pos == [0, 0]\n",
    "\n",
    "def test_cursor_current(grid):\n",
    "    cur = Cursor(grid)\n",
    "    assert cur.current == 1\n",
    "    cur.pos = [2, 3]\n",
    "    assert cur.current == 12\n",
    "    cur.pos = [1, 2] \n",
    "    assert cur.current == 7\n",
    "\n",
    "def test_cursor_change_pos(grid):\n",
    "    cur = Cursor(grid)\n",
    "    cur.change_pos(2, 3)\n",
    "    assert cur.grid[cur.pos[0]][cur.pos[1]] == 12\n",
    "    cur.change_pos(1, 2)\n",
    "    assert cur.grid[cur.pos[0]][cur.pos[1]] == 7\n",
    "\n",
    "def test_cursor_execute():\n",
    "    cur = Cursor([[\">\", \"1\", \"2\", \"<\"]])\n",
    "    ex = Executor()\n",
    "    cur.execute(ex)\n",
    "    "
   ]
  },
  {
   "cell_type": "code",
   "execution_count": null,
   "id": "9686f97b",
   "metadata": {},
   "outputs": [],
   "source": []
  }
 ],
 "metadata": {
  "kernelspec": {
   "display_name": "Python 3 (ipykernel)",
   "language": "python",
   "name": "python3"
  },
  "language_info": {
   "codemirror_mode": {
    "name": "ipython",
    "version": 3
   },
   "file_extension": ".py",
   "mimetype": "text/x-python",
   "name": "python",
   "nbconvert_exporter": "python",
   "pygments_lexer": "ipython3",
   "version": "3.10.4"
  }
 },
 "nbformat": 4,
 "nbformat_minor": 5
}
