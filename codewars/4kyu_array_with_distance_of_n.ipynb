{
 "cells": [
  {
   "cell_type": "markdown",
   "id": "e9a878ec",
   "metadata": {},
   "source": [
    "### Definitions"
   ]
  },
  {
   "cell_type": "code",
   "execution_count": 130,
   "id": "2fa9bf65",
   "metadata": {},
   "outputs": [],
   "source": [
    "import math\n",
    "\n",
    "def generate(num: int) -> list[int]:\n",
    "    if num == 0:\n",
    "        return [0]\n",
    "    \n",
    "    left = [abs(n) for n in range(-1 * num + 1, num, 2)]\n",
    "    right = [abs(n) for n in range(-1 * num + 2, num, 2)]\n",
    "    \n",
    "    if num % 2 == 0:\n",
    "        left.insert(math.ceil(num/2), -1)\n",
    "        right.insert(math.ceil(num/2), -1)\n",
    "    else:\n",
    "        left.insert(math.ceil(num/2) - 1, -1)\n",
    "        right.insert(math.ceil(num/2) - 1, -1)\n",
    "    \n",
    "    result = left + right\n",
    "    for idx, el in enumerate(result):\n",
    "        if el == -1:\n",
    "            result[idx] = num\n",
    "\n",
    "    return result\n"
   ]
  },
  {
   "cell_type": "code",
   "execution_count": 131,
   "id": "bb999102",
   "metadata": {},
   "outputs": [
    {
     "data": {
      "text/plain": [
       "True"
      ]
     },
     "execution_count": 131,
     "metadata": {},
     "output_type": "execute_result"
    }
   ],
   "source": [
    "l = generate(128)\n",
    "is_valid(l)"
   ]
  },
  {
   "cell_type": "code",
   "execution_count": 132,
   "id": "df054903",
   "metadata": {},
   "outputs": [],
   "source": [
    "# Function that checks if a generated list is valid\n",
    "def is_valid(l: list[int]) -> bool:\n",
    "    pairs = set(l)\n",
    "    for pair in pairs:\n",
    "        idxs = [idx for (idx, num) in enumerate(l) if num == pair]\n",
    "        # Check if there's just one zero\n",
    "        if pair == 0 and (len(idxs) > 1 or len(idxs) == 0):\n",
    "            return False\n",
    "        # Check if there's n elements between n pairs\n",
    "        if pair != 0:\n",
    "            sublist = l[idxs[0]+1:idxs[1]]\n",
    "            if not len(sublist) == pair:\n",
    "                return False\n",
    "    \n",
    "    return True\n",
    "        "
   ]
  },
  {
   "cell_type": "markdown",
   "id": "d0df48ed",
   "metadata": {},
   "source": [
    "### Tests"
   ]
  },
  {
   "cell_type": "code",
   "execution_count": 133,
   "id": "70964d0f",
   "metadata": {},
   "outputs": [],
   "source": [
    "import pytest\n",
    "import ipytest\n",
    "ipytest.autoconfig(magics=True)"
   ]
  },
  {
   "cell_type": "code",
   "execution_count": 137,
   "id": "65d746b8",
   "metadata": {},
   "outputs": [
    {
     "name": "stdout",
     "output_type": "stream",
     "text": [
      "\u001b[32m.\u001b[0m\u001b[32m.\u001b[0m\u001b[32m                                                                                           [100%]\u001b[0m\n"
     ]
    }
   ],
   "source": [
    "%%ipytest -qq\n",
    "\n",
    "def test_is_valid():\n",
    "    assert is_valid([0])\n",
    "    assert is_valid([1, 0, 1])\n",
    "    assert is_valid([1, 2, 1, 0, 2] )\n",
    "    assert is_valid([1, 3, 1, 4, 2, 3, 0, 2, 4])\n",
    "    assert not is_valid([1, 3, 1, 4, 2, 3, 0, 4, 2])\n",
    "    assert not is_valid([0, 0])\n",
    "    assert is_valid([0])\n",
    "    \n",
    "def test_generate():\n",
    "    assert is_valid(generate(0))\n",
    "    assert is_valid(generate(1))\n",
    "    assert is_valid(generate(2))\n",
    "    assert is_valid(generate(3))\n",
    "    assert is_valid(generate(4))\n",
    "    assert is_valid(generate(5))\n",
    "    assert is_valid(generate(6))\n",
    "    assert is_valid(generate(7))\n",
    "    "
   ]
  },
  {
   "cell_type": "code",
   "execution_count": null,
   "id": "ced433b6",
   "metadata": {},
   "outputs": [],
   "source": []
  }
 ],
 "metadata": {
  "kernelspec": {
   "display_name": "Python 3 (ipykernel)",
   "language": "python",
   "name": "python3"
  },
  "language_info": {
   "codemirror_mode": {
    "name": "ipython",
    "version": 3
   },
   "file_extension": ".py",
   "mimetype": "text/x-python",
   "name": "python",
   "nbconvert_exporter": "python",
   "pygments_lexer": "ipython3",
   "version": "3.10.6"
  }
 },
 "nbformat": 4,
 "nbformat_minor": 5
}
