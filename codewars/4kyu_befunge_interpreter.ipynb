{
 "cells": [
  {
   "cell_type": "code",
   "execution_count": 1,
   "id": "15e08eb9",
   "metadata": {},
   "outputs": [],
   "source": [
    "# Befunge Interpreter\n",
    "# https://www.codewars.com/kata/526c7b931666d07889000a3c/train/python"
   ]
  },
  {
   "cell_type": "code",
   "execution_count": 16,
   "id": "580562d4",
   "metadata": {},
   "outputs": [],
   "source": [
    "class Parser:\n",
    "    \n",
    "    def __init__(self):\n",
    "        self.symbols = {\n",
    "            \">\": self.move_right\n",
    "        }\n",
    "        self.stack: list[int] = field(default_factory=list)\n",
    "    \n",
    "    def move_right(self, **kwargs):\n",
    "        print(f\"right, {kwargs}\")\n",
    "    \n"
   ]
  },
  {
   "cell_type": "code",
   "execution_count": 15,
   "id": "39dbcab2",
   "metadata": {},
   "outputs": [],
   "source": [
    "from dataclasses import dataclass, field\n",
    "\n",
    "def interpret(code: str):\n",
    "    ...\n",
    "    \n",
    "@dataclass\n",
    "class Cursor:\n",
    "    grid: list[list[str]]\n",
    "    pos: list[int] = field(default_factory=list)\n",
    "        \n",
    "    def __post_init__(self):\n",
    "        self.pos = [0, 0]\n",
    "    \n",
    "    @property\n",
    "    def current(self) -> int:\n",
    "        return self.grid[self.pos[0]][self.pos[1]]\n",
    "    \n",
    "    def change_pos(self, x: int, y: int) -> None:\n",
    "        if x >= len(self.grid) or x < 0:\n",
    "            raise ValueError(\"Incorrect x coordinate value\")\n",
    "            \n",
    "        if y >= len(self.grid[0]) or y < 0:\n",
    "            raise ValueError(\"Incorrect y coordinate value\")\n",
    "        self.pos[0] = x\n",
    "        self.pos[1] = y\n",
    "    \n",
    "    def execute(self, ex: Executor, **kwargs):\n",
    "        func = ex.symbols.get(self.current)\n",
    "        ret = func(**kwargs)\n",
    "        print(\"Executed!\")\n",
    "        \n",
    "    "
   ]
  },
  {
   "cell_type": "code",
   "execution_count": 6,
   "id": "b56cc389",
   "metadata": {},
   "outputs": [
    {
     "name": "stdout",
     "output_type": "stream",
     "text": [
      "All classes and functions were loaded\n"
     ]
    }
   ],
   "source": [
    "print(\"All classes and functions were loaded\")"
   ]
  },
  {
   "cell_type": "code",
   "execution_count": null,
   "id": "4930ad5a",
   "metadata": {},
   "outputs": [],
   "source": []
  }
 ],
 "metadata": {
  "kernelspec": {
   "display_name": "Python 3 (ipykernel)",
   "language": "python",
   "name": "python3"
  },
  "language_info": {
   "codemirror_mode": {
    "name": "ipython",
    "version": 3
   },
   "file_extension": ".py",
   "mimetype": "text/x-python",
   "name": "python",
   "nbconvert_exporter": "python",
   "pygments_lexer": "ipython3",
   "version": "3.10.4"
  }
 },
 "nbformat": 4,
 "nbformat_minor": 5
}
