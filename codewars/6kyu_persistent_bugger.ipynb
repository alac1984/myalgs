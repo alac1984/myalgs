{
 "cells": [
  {
   "cell_type": "code",
   "execution_count": 47,
   "id": "e386acf5",
   "metadata": {},
   "outputs": [],
   "source": [
    "# Persistent Bugger\n",
    "# https://www.codewars.com/kata/55bf01e5a717a0d57e0000ec\n",
    "\n",
    "# An interesting solution that counts every recursive loop, but it needs a global\n",
    "# counter variable that need to be reseted after function usage\n",
    "\n",
    "counter = 0\n",
    "\n",
    "def persistence(n):\n",
    "    if len(str(n)) == 1:\n",
    "        return 0\n",
    "    \n",
    "    p = 1\n",
    "    for c in str(n):\n",
    "        p *= int(c)\n",
    "    \n",
    "    if len(str(p)) >= 1:\n",
    "        persistence(p)\n",
    "        global counter\n",
    "        counter += 1\n",
    "    \n",
    "    return counter\n",
    "            "
   ]
  },
  {
   "cell_type": "code",
   "execution_count": 48,
   "id": "eae98f45",
   "metadata": {},
   "outputs": [
    {
     "data": {
      "text/plain": [
       "2"
      ]
     },
     "execution_count": 48,
     "metadata": {},
     "output_type": "execute_result"
    }
   ],
   "source": [
    "persistence(25)\n"
   ]
  },
  {
   "cell_type": "code",
   "execution_count": 53,
   "id": "f3e572ac",
   "metadata": {},
   "outputs": [],
   "source": [
    "def persistence(n):\n",
    "    if len(str(n)) == 1:\n",
    "        return 0\n",
    "    \n",
    "    new_n = 1\n",
    "    counter = 0\n",
    "    while len(str(n)) > 1:\n",
    "        for c in str(n):\n",
    "            new_n *= int(c)\n",
    "        \n",
    "        n = new_n\n",
    "        new_n = 1\n",
    "        counter += 1\n",
    "    \n",
    "    return counter"
   ]
  },
  {
   "cell_type": "code",
   "execution_count": 57,
   "id": "74d86343",
   "metadata": {},
   "outputs": [
    {
     "name": "stdout",
     "output_type": "stream",
     "text": [
      "729\n",
      "126\n",
      "12\n",
      "2\n"
     ]
    },
    {
     "data": {
      "text/plain": [
       "4"
      ]
     },
     "execution_count": 57,
     "metadata": {},
     "output_type": "execute_result"
    }
   ],
   "source": [
    "persistence(999)"
   ]
  },
  {
   "cell_type": "code",
   "execution_count": null,
   "id": "546b43e5",
   "metadata": {},
   "outputs": [],
   "source": [
    "# Best solution\n",
    "\n",
    "import operator\n",
    "def persistence(n):\n",
    "    i = 0\n",
    "    while n>=10:\n",
    "        n=reduce(operator.mul,[int(x) for x in str(n)],1)\n",
    "        i+=1\n",
    "    return i"
   ]
  }
 ],
 "metadata": {
  "kernelspec": {
   "display_name": "Python 3 (ipykernel)",
   "language": "python",
   "name": "python3"
  },
  "language_info": {
   "codemirror_mode": {
    "name": "ipython",
    "version": 3
   },
   "file_extension": ".py",
   "mimetype": "text/x-python",
   "name": "python",
   "nbconvert_exporter": "python",
   "pygments_lexer": "ipython3",
   "version": "3.10.6"
  }
 },
 "nbformat": 4,
 "nbformat_minor": 5
}
