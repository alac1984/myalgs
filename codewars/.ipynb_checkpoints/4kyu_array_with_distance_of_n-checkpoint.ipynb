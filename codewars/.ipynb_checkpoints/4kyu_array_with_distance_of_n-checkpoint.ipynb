{
 "cells": [
  {
   "cell_type": "markdown",
   "id": "e9a878ec",
   "metadata": {},
   "source": [
    "### Definitions"
   ]
  },
  {
   "cell_type": "code",
   "execution_count": 119,
   "id": "2fa9bf65",
   "metadata": {},
   "outputs": [],
   "source": [
    "def generate(num: int) -> list[int]:\n",
    "    # from IPython.core.debugger import Pdb; Pdb().set_trace()\n",
    "    left = [abs(n) for n in range(-1 * num + 1, num, 2)]\n",
    "    right = [abs(n) for n in range(-1 * num + 2, num, 2)]\n",
    "    \n",
    "    if num % 2 == 0:\n",
    "        left.insert(math.ceil(num/2), -1)\n",
    "        right.insert(math.ceil(num/2), -1)\n",
    "    else:\n",
    "        left.insert(math.ceil(num/2) - 1, -1)\n",
    "        right.insert(math.ceil(num/2) - 1, -1)\n",
    "    \n",
    "    result = left + right\n",
    "    for idx, el in enumerate(result):\n",
    "        if el == -1:\n",
    "            result[idx] = num\n",
    "\n",
    "    return result\n"
   ]
  },
  {
   "cell_type": "code",
   "execution_count": 127,
   "id": "3e0a7e94",
   "metadata": {},
   "outputs": [
    {
     "data": {
      "text/plain": [
       "True"
      ]
     },
     "execution_count": 127,
     "metadata": {},
     "output_type": "execute_result"
    }
   ],
   "source": [
    "l = generate(128)\n",
    "is_valid(l)"
   ]
  },
  {
   "cell_type": "code",
   "execution_count": 93,
   "id": "0706c3f1",
   "metadata": {},
   "outputs": [],
   "source": [
    "# Function that checks if a generated list is valid\n",
    "def is_valid(l: list[int]) -> bool:\n",
    "    pairs = set(l)\n",
    "    for pair in pairs:\n",
    "        idxs = [idx for (idx, num) in enumerate(l) if num == pair]\n",
    "        # Check if there's just one zero\n",
    "        if pair == 0 and (len(idxs) > 1 or len(idxs) == 0):\n",
    "            return False\n",
    "        # Check if there's n elements between n pairs\n",
    "        if pair != 0:\n",
    "            sublist = l[idxs[0]+1:idxs[1]]\n",
    "            if not len(sublist) == pair:\n",
    "                return False\n",
    "    \n",
    "    return True\n",
    "        "
   ]
  },
  {
   "cell_type": "markdown",
   "id": "d0df48ed",
   "metadata": {},
   "source": [
    "### Tests"
   ]
  },
  {
   "cell_type": "code",
   "execution_count": 94,
   "id": "70964d0f",
   "metadata": {},
   "outputs": [],
   "source": [
    "import pytest\n",
    "import ipytest\n",
    "ipytest.autoconfig(magics=True)"
   ]
  },
  {
   "cell_type": "code",
   "execution_count": 95,
   "id": "65d746b8",
   "metadata": {},
   "outputs": [
    {
     "name": "stdout",
     "output_type": "stream",
     "text": [
      "\u001b[32m.\u001b[0mipdb> q\n",
      "\u001b[31mF\u001b[0m\u001b[31m                                                                                           [100%]\u001b[0m\n",
      "============================================= FAILURES =============================================\n",
      "\u001b[31m\u001b[1m__________________________________________ test_generate ___________________________________________\u001b[0m\n",
      "\n",
      "    \u001b[94mdef\u001b[39;49;00m \u001b[92mtest_generate\u001b[39;49;00m():\n",
      ">       \u001b[94massert\u001b[39;49;00m generate(\u001b[94m3\u001b[39;49;00m) == [\u001b[94m3\u001b[39;49;00m, \u001b[94m1\u001b[39;49;00m, \u001b[94m2\u001b[39;49;00m, \u001b[94m1\u001b[39;49;00m, \u001b[94m3\u001b[39;49;00m, \u001b[94m2\u001b[39;49;00m, \u001b[94m0\u001b[39;49;00m]\n",
      "\n",
      "\u001b[1m\u001b[31m/tmp/ipykernel_6504/1717404928.py\u001b[0m:10: \n",
      "_ _ _ _ _ _ _ _ _ _ _ _ _ _ _ _ _ _ _ _ _ _ _ _ _ _ _ _ _ _ _ _ _ _ _ _ _ _ _ _ _ _ _ _ _ _ _ _ _ _ \n",
      "\u001b[1m\u001b[31m/tmp/ipykernel_6504/3061843578.py\u001b[0m:3: in generate\n",
      "    left_list = [\u001b[96mabs\u001b[39;49;00m(n) \u001b[94mfor\u001b[39;49;00m n \u001b[95min\u001b[39;49;00m \u001b[96mrange\u001b[39;49;00m(-\u001b[94m1\u001b[39;49;00m * num + \u001b[94m1\u001b[39;49;00m, num, \u001b[94m2\u001b[39;49;00m)]\n",
      "\u001b[1m\u001b[31m/tmp/ipykernel_6504/3061843578.py\u001b[0m:3: in generate\n",
      "    left_list = [\u001b[96mabs\u001b[39;49;00m(n) \u001b[94mfor\u001b[39;49;00m n \u001b[95min\u001b[39;49;00m \u001b[96mrange\u001b[39;49;00m(-\u001b[94m1\u001b[39;49;00m * num + \u001b[94m1\u001b[39;49;00m, num, \u001b[94m2\u001b[39;49;00m)]\n",
      "\u001b[1m\u001b[31m/usr/lib/python3.10/bdb.py\u001b[0m:90: in trace_dispatch\n",
      "    \u001b[94mreturn\u001b[39;49;00m \u001b[96mself\u001b[39;49;00m.dispatch_line(frame)\n",
      "_ _ _ _ _ _ _ _ _ _ _ _ _ _ _ _ _ _ _ _ _ _ _ _ _ _ _ _ _ _ _ _ _ _ _ _ _ _ _ _ _ _ _ _ _ _ _ _ _ _ \n",
      "\n",
      "self = <IPython.core.debugger.InterruptiblePdb object at 0x7fa60c1451b0>\n",
      "frame = <frame at 0x7fa5fc3d5300, file '/tmp/ipykernel_6504/3061843578.py', line 3, code generate>\n",
      "\n",
      "    \u001b[94mdef\u001b[39;49;00m \u001b[92mdispatch_line\u001b[39;49;00m(\u001b[96mself\u001b[39;49;00m, frame):\n",
      "        \u001b[33m\"\"\"Invoke user function and return trace function for line event.\u001b[39;49;00m\n",
      "    \u001b[33m\u001b[39;49;00m\n",
      "    \u001b[33m    If the debugger stops on the current line, invoke\u001b[39;49;00m\n",
      "    \u001b[33m    self.user_line(). Raise BdbQuit if self.quitting is set.\u001b[39;49;00m\n",
      "    \u001b[33m    Return self.trace_dispatch to continue tracing in this scope.\u001b[39;49;00m\n",
      "    \u001b[33m    \"\"\"\u001b[39;49;00m\n",
      "        \u001b[94mif\u001b[39;49;00m \u001b[96mself\u001b[39;49;00m.stop_here(frame) \u001b[95mor\u001b[39;49;00m \u001b[96mself\u001b[39;49;00m.break_here(frame):\n",
      "            \u001b[96mself\u001b[39;49;00m.user_line(frame)\n",
      ">           \u001b[94mif\u001b[39;49;00m \u001b[96mself\u001b[39;49;00m.quitting: \u001b[94mraise\u001b[39;49;00m BdbQuit\n",
      "\u001b[1m\u001b[31mE           bdb.BdbQuit\u001b[0m\n",
      "\n",
      "\u001b[1m\u001b[31m/usr/lib/python3.10/bdb.py\u001b[0m:115: BdbQuit\n",
      "--------------------------------------- Captured stdout call ---------------------------------------\n",
      "> \u001b[0;32m/tmp/ipykernel_6504/3061843578.py\u001b[0m(3)\u001b[0;36mgenerate\u001b[0;34m()\u001b[0m\n",
      "\u001b[0;32m      1 \u001b[0;31m\u001b[0;32mdef\u001b[0m \u001b[0mgenerate\u001b[0m\u001b[0;34m(\u001b[0m\u001b[0mnum\u001b[0m\u001b[0;34m:\u001b[0m \u001b[0mint\u001b[0m\u001b[0;34m)\u001b[0m \u001b[0;34m->\u001b[0m \u001b[0mlist\u001b[0m\u001b[0;34m[\u001b[0m\u001b[0mint\u001b[0m\u001b[0;34m]\u001b[0m\u001b[0;34m:\u001b[0m\u001b[0;34m\u001b[0m\u001b[0;34m\u001b[0m\u001b[0m\n",
      "\u001b[0m\u001b[0;32m      2 \u001b[0;31m    \u001b[0;32mfrom\u001b[0m \u001b[0mIPython\u001b[0m\u001b[0;34m.\u001b[0m\u001b[0mcore\u001b[0m\u001b[0;34m.\u001b[0m\u001b[0mdebugger\u001b[0m \u001b[0;32mimport\u001b[0m \u001b[0mPdb\u001b[0m\u001b[0;34m;\u001b[0m \u001b[0mPdb\u001b[0m\u001b[0;34m(\u001b[0m\u001b[0;34m)\u001b[0m\u001b[0;34m.\u001b[0m\u001b[0mset_trace\u001b[0m\u001b[0;34m(\u001b[0m\u001b[0;34m)\u001b[0m\u001b[0;34m\u001b[0m\u001b[0;34m\u001b[0m\u001b[0m\n",
      "\u001b[0m\u001b[0;32m----> 3 \u001b[0;31m    \u001b[0mleft_list\u001b[0m \u001b[0;34m=\u001b[0m \u001b[0;34m[\u001b[0m\u001b[0mabs\u001b[0m\u001b[0;34m(\u001b[0m\u001b[0mn\u001b[0m\u001b[0;34m)\u001b[0m \u001b[0;32mfor\u001b[0m \u001b[0mn\u001b[0m \u001b[0;32min\u001b[0m \u001b[0mrange\u001b[0m\u001b[0;34m(\u001b[0m\u001b[0;34m-\u001b[0m\u001b[0;36m1\u001b[0m \u001b[0;34m*\u001b[0m \u001b[0mnum\u001b[0m \u001b[0;34m+\u001b[0m \u001b[0;36m1\u001b[0m\u001b[0;34m,\u001b[0m \u001b[0mnum\u001b[0m\u001b[0;34m,\u001b[0m \u001b[0;36m2\u001b[0m\u001b[0;34m)\u001b[0m\u001b[0;34m]\u001b[0m\u001b[0;34m\u001b[0m\u001b[0;34m\u001b[0m\u001b[0m\n",
      "\u001b[0m\u001b[0;32m      4 \u001b[0;31m    \u001b[0;32mif\u001b[0m \u001b[0mnum\u001b[0m \u001b[0;34m%\u001b[0m \u001b[0;36m2\u001b[0m \u001b[0;34m==\u001b[0m \u001b[0;36m0\u001b[0m\u001b[0;34m:\u001b[0m\u001b[0;34m\u001b[0m\u001b[0;34m\u001b[0m\u001b[0m\n",
      "\u001b[0m\u001b[0;32m      5 \u001b[0;31m        \u001b[0mleft_list\u001b[0m\u001b[0;34m.\u001b[0m\u001b[0minsert\u001b[0m\u001b[0;34m(\u001b[0m\u001b[0mmath\u001b[0m\u001b[0;34m.\u001b[0m\u001b[0mceil\u001b[0m\u001b[0;34m(\u001b[0m\u001b[0mnum\u001b[0m\u001b[0;34m/\u001b[0m\u001b[0;36m2\u001b[0m\u001b[0;34m)\u001b[0m\u001b[0;34m,\u001b[0m \u001b[0;34m-\u001b[0m\u001b[0;36m1\u001b[0m\u001b[0;34m)\u001b[0m\u001b[0;34m\u001b[0m\u001b[0;34m\u001b[0m\u001b[0m\n",
      "\u001b[0m\n",
      "\u001b[36m\u001b[1m===================================== short test summary info ======================================\u001b[0m\n",
      "\u001b[31mFAILED\u001b[0m t_bf7b3e50be0d4b72ba1015bb1b448768.py::\u001b[1mtest_generate\u001b[0m - bdb.BdbQuit\n"
     ]
    }
   ],
   "source": [
    "%%ipytest -qq\n",
    "\n",
    "def test_is_valid():\n",
    "    assert is_valid([0])\n",
    "    assert is_valid([1, 0, 1])\n",
    "    assert is_valid([1, 2, 1, 0, 2] )\n",
    "    assert is_valid([1, 3, 1, 4, 2, 3, 0, 2, 4])\n",
    "    assert not is_valid([1, 3, 1, 4, 2, 3, 0, 4, 2])\n",
    "    assert not is_valid([0, 0])\n",
    "    \n",
    "def test_generate():\n",
    "    assert generate(3) == [3, 1, 2, 1, 3, 2, 0]\n",
    "    "
   ]
  }
 ],
 "metadata": {
  "kernelspec": {
   "display_name": "Python 3 (ipykernel)",
   "language": "python",
   "name": "python3"
  },
  "language_info": {
   "codemirror_mode": {
    "name": "ipython",
    "version": 3
   },
   "file_extension": ".py",
   "mimetype": "text/x-python",
   "name": "python",
   "nbconvert_exporter": "python",
   "pygments_lexer": "ipython3",
   "version": "3.10.6"
  }
 },
 "nbformat": 4,
 "nbformat_minor": 5
}
