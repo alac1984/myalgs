{
 "cells": [
  {
   "cell_type": "markdown",
   "id": "623a8390",
   "metadata": {},
   "source": [
    "&nbsp;   \n",
    "#### **Moving Zeros To The End**\n",
    "#### Rank: 5 kyu\n",
    "\n",
    "---\n",
    "&nbsp;   \n",
    "**Descrição**:   \n",
    "Escreva um algoritmo que recebe uma lista e move todos os zeros para o final, preservando a ordem dos outros elementos.\n",
    "\n",
    "```python\n",
    "move_zeros([1, 0, 1, 2, 0, 1, 3]) \n",
    "# retorna [1, 1, 2, 1, 3, 0, 0]\n",
    "\n",
    "```\n",
    "**Link**:   \n",
    "https://www.codewars.com/kata/52597aa56021e91c93000cb0/train/python\n",
    "\n",
    "&nbsp;   \n"
   ]
  },
  {
   "cell_type": "code",
   "execution_count": 2,
   "id": "96bb8171",
   "metadata": {},
   "outputs": [
    {
     "data": {
      "text/plain": [
       "[1, 2, 3, 0, 0, 0]"
      ]
     },
     "execution_count": 2,
     "metadata": {},
     "output_type": "execute_result"
    }
   ],
   "source": [
    "# ----------------------------------|-----------|-----------|---------\n",
    "\n",
    "def move_zeros(lst):\n",
    "    ordered = []\n",
    "    zeros = []\n",
    "    for el in lst:\n",
    "        if el > 0:\n",
    "            ordered.append(el)\n",
    "        else:\n",
    "            zeros.append(0)\n",
    "    return ordered + zeros\n",
    "\n",
    "move_zeros([1, 0, 2, 0, 3, 0])\n"
   ]
  },
  {
   "cell_type": "code",
   "execution_count": null,
   "id": "4ba68eca",
   "metadata": {},
   "outputs": [],
   "source": []
  }
 ],
 "metadata": {
  "kernelspec": {
   "display_name": "Python 3 (ipykernel)",
   "language": "python",
   "name": "python3"
  },
  "language_info": {
   "codemirror_mode": {
    "name": "ipython",
    "version": 3
   },
   "file_extension": ".py",
   "mimetype": "text/x-python",
   "name": "python",
   "nbconvert_exporter": "python",
   "pygments_lexer": "ipython3",
   "version": "3.10.6"
  }
 },
 "nbformat": 4,
 "nbformat_minor": 5
}
