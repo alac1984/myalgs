{
 "cells": [
  {
   "cell_type": "markdown",
   "id": "d2bd4be7",
   "metadata": {},
   "source": [
    "### Definitions"
   ]
  },
  {
   "cell_type": "code",
   "execution_count": 92,
   "id": "e5555791",
   "metadata": {},
   "outputs": [],
   "source": [
    "\"\"\"\n",
    "Function that gets a array and 'reduces' it, suppressing a line and a column. It's part of\n",
    "Laplace's method to solve determinants.\n",
    "\"\"\"\n",
    "\n",
    "def laplace_reduction(matrix: list, pos: int) -> list:\n",
    "    if len(matrix) < 2:\n",
    "        raise Exception(\"It's the shortest possible already\")\n",
    "    \n",
    "    if pos > len(matrix) - 1:\n",
    "        raise Exception(\"Pos number too big\")\n",
    "    \n",
    "    if pos == 0:\n",
    "        return [line[1:] for line in matrix[1:len(matrix)]]\n",
    "    \n",
    "    if pos == len(matrix) - 1:\n",
    "        return [line[1:] for line in matrix[:len(matrix)-1]]\n",
    "    \n",
    "    return [line[1:] for line in (matrix[0:pos] + matrix[pos+1:len(matrix)])]\n"
   ]
  },
  {
   "cell_type": "code",
   "execution_count": 118,
   "id": "da0964ed",
   "metadata": {},
   "outputs": [],
   "source": [
    "\"\"\"\n",
    "Function that calculate the determinant of a square matrix using Laplace's method.\n",
    "\"\"\"\n",
    "    \n",
    "def determinant(matrix: list):\n",
    "    if len(matrix) == 1:\n",
    "        return matrix[0][0]\n",
    "    \n",
    "    if len(matrix) == 2:\n",
    "        return matrix[0][0] * matrix[1][1] - matrix[0][1] * matrix[1][0]\n",
    "    \n",
    "    if len(matrix) > 2:\n",
    "        value = 0\n",
    "        for i in range(len(matrix)):\n",
    "            value += matrix[i][0] * (-1)**(i+2) * determinant(laplace_reduction(matrix, i))\n",
    "        \n",
    "        return value"
   ]
  },
  {
   "cell_type": "markdown",
   "id": "227462a6",
   "metadata": {},
   "source": [
    "### Tests"
   ]
  },
  {
   "cell_type": "code",
   "execution_count": 119,
   "id": "55ce7641",
   "metadata": {},
   "outputs": [],
   "source": [
    "import pytest\n",
    "import ipytest\n",
    "ipytest.autoconfig(magics=True)"
   ]
  },
  {
   "cell_type": "markdown",
   "id": "28540c5d",
   "metadata": {},
   "source": [
    "#### Testing `reduction` function"
   ]
  },
  {
   "cell_type": "code",
   "execution_count": 120,
   "id": "866e40be",
   "metadata": {},
   "outputs": [
    {
     "name": "stdout",
     "output_type": "stream",
     "text": [
      "\u001b[32m.\u001b[0m\u001b[32m                                                                                            [100%]\u001b[0m\n"
     ]
    }
   ],
   "source": [
    "%%ipytest -qq\n",
    "\n",
    "def test_reduction_less_than_2x2():\n",
    "    \"\"\"If a matrix is less that 2x2, raises an exception\"\"\"\n",
    "    matrix = [\n",
    "        [2]\n",
    "    ]\n",
    "    \n",
    "    with pytest.raises(Exception):\n",
    "        laplace_reduction(matrix, 0)\n",
    "    \n"
   ]
  },
  {
   "cell_type": "code",
   "execution_count": 121,
   "id": "da12da50",
   "metadata": {},
   "outputs": [
    {
     "name": "stdout",
     "output_type": "stream",
     "text": [
      "\u001b[32m.\u001b[0m\u001b[32m                                                                                            [100%]\u001b[0m\n"
     ]
    }
   ],
   "source": [
    "%%ipytest -qq\n",
    "\n",
    "def test_reduction_out_of_range():\n",
    "    \"\"\"\n",
    "    If i try to use a line index greater or equal than the last position on matrix,\n",
    "    raises an exception. Testing with an number equal to \n",
    "    \"\"\"\n",
    "    # Matrix of length 3\n",
    "    matrix = [\n",
    "        [2,2,2],\n",
    "        [2,2,2],\n",
    "        [2,2,2]\n",
    "    ]\n",
    "    \n",
    "    # Position 3\n",
    "    with pytest.raises(Exception):\n",
    "        laplace_reduction(matrix, 3)"
   ]
  },
  {
   "cell_type": "code",
   "execution_count": 122,
   "id": "f95072d9",
   "metadata": {},
   "outputs": [
    {
     "name": "stdout",
     "output_type": "stream",
     "text": [
      "\u001b[32m.\u001b[0m\u001b[32m.\u001b[0m\u001b[32m                                                                                           [100%]\u001b[0m\n"
     ]
    }
   ],
   "source": [
    "%%ipytest -qq\n",
    "\n",
    "def test_reduction_first_index_3x3():\n",
    "    \"\"\"\n",
    "    If pos == 0, than removes first column and first row\n",
    "    \"\"\"\n",
    "    matrix = [\n",
    "        [3, 3, 3],\n",
    "        [3, 2, 2],\n",
    "        [3, 2, 2]\n",
    "    ]\n",
    "    \n",
    "    result = laplace_reduction(matrix, 0)\n",
    "    \n",
    "    assert result == [[2,2],[2,2]]\n",
    "    \n",
    "def test_reduction_first_index_4x4():\n",
    "    \"\"\"\n",
    "    Same as above, but with 4x4 matrix\n",
    "    \"\"\"\n",
    "    matrix = [\n",
    "        [3, 3, 3, 3],\n",
    "        [3, 2, 2, 2],\n",
    "        [3, 2, 2, 2],\n",
    "        [3, 2, 2, 2]\n",
    "    ]\n",
    "    \n",
    "    result = laplace_reduction(matrix, 0)\n",
    "    \n",
    "    assert result == [[2,2,2],[2,2,2],[2,2,2]]\n",
    "\n"
   ]
  },
  {
   "cell_type": "code",
   "execution_count": 123,
   "id": "971c1a9c",
   "metadata": {},
   "outputs": [
    {
     "name": "stdout",
     "output_type": "stream",
     "text": [
      "\u001b[32m.\u001b[0m\u001b[32m.\u001b[0m\u001b[32m                                                                                           [100%]\u001b[0m\n"
     ]
    }
   ],
   "source": [
    "%%ipytest -qq\n",
    "\n",
    "def test_reduction_last_index_3x3():\n",
    "    \"\"\"\n",
    "    If pos == len(matrix), than removes first column and last row\n",
    "    \"\"\"\n",
    "    matrix = [\n",
    "        [3, 2, 2],\n",
    "        [3, 2, 2],\n",
    "        [3, 3, 3]\n",
    "    ]\n",
    "    \n",
    "    result = laplace_reduction(matrix, 2)\n",
    "    \n",
    "    assert result == [[2,2],[2,2]]\n",
    "\n",
    "def test_reduction_last_index_4x4():\n",
    "    \"\"\"\n",
    "    Same as above, but with 4x4 matrix\n",
    "    \"\"\"\n",
    "    matrix = [\n",
    "        [3, 2, 2, 2],\n",
    "        [3, 2, 2, 2],\n",
    "        [3, 2, 2, 2],\n",
    "        [3, 3, 3, 3]\n",
    "    ]\n",
    "    \n",
    "    result = laplace_reduction(matrix, 3)\n",
    "    \n",
    "    assert result == [[2,2,2],[2,2,2],[2,2,2]]\n"
   ]
  },
  {
   "cell_type": "code",
   "execution_count": 124,
   "id": "41ce5556",
   "metadata": {},
   "outputs": [
    {
     "name": "stdout",
     "output_type": "stream",
     "text": [
      "\u001b[32m.\u001b[0m\u001b[32m.\u001b[0m\u001b[32m.\u001b[0m\u001b[32m                                                                                          [100%]\u001b[0m\n"
     ]
    }
   ],
   "source": [
    "%%ipytest -qq\n",
    "\n",
    "def test_reduction_middle_index_3x3():\n",
    "    \"\"\"\n",
    "    If pos > 0 and pos <= len(matrix), than removes first column and correspondant row\n",
    "    \"\"\"\n",
    "    matrix = [\n",
    "        [3, 2, 2],\n",
    "        [3, 3, 3],\n",
    "        [3, 2, 2]\n",
    "    ]\n",
    "    \n",
    "    result = laplace_reduction(matrix, 1)\n",
    "    \n",
    "    assert result == [[2,2],[2,2]]\n",
    "\n",
    "def test_reduction_last_index_4x4_second_line():\n",
    "    \"\"\"\n",
    "    Same as above, but with 4x4 matrix second line to be removed\n",
    "    \"\"\"\n",
    "    matrix = [\n",
    "        [3, 2, 2, 2],\n",
    "        [3, 3, 3, 3],\n",
    "        [3, 2, 2, 2],\n",
    "        [3, 2, 2, 2]\n",
    "    ]\n",
    "    \n",
    "    result = laplace_reduction(matrix, 1)\n",
    "    \n",
    "    assert result == [[2,2,2],[2,2,2],[2,2,2]]\n",
    "    \n",
    "def test_reduction_last_index_4x4_third_line():\n",
    "    \"\"\"\n",
    "    Same as above, but with 4x4 matrix third line to be removed\n",
    "    \"\"\"\n",
    "    matrix = [\n",
    "        [3, 2, 2, 2],\n",
    "        [3, 2, 2, 2],\n",
    "        [3, 3, 3, 3],\n",
    "        [3, 2, 2, 2]\n",
    "    ]\n",
    "    \n",
    "    result = laplace_reduction(matrix, 2)\n",
    "    \n",
    "    assert result == [[2,2,2],[2,2,2],[2,2,2]]"
   ]
  },
  {
   "cell_type": "markdown",
   "id": "369884d8",
   "metadata": {},
   "source": [
    "#### Testing `determinant` function"
   ]
  },
  {
   "cell_type": "code",
   "execution_count": 126,
   "id": "4c5fe059",
   "metadata": {},
   "outputs": [
    {
     "name": "stdout",
     "output_type": "stream",
     "text": [
      "\u001b[32m.\u001b[0m\u001b[32m.\u001b[0m\u001b[32m.\u001b[0m\u001b[32m.\u001b[0m\u001b[32m                                                                                         [100%]\u001b[0m\n"
     ]
    }
   ],
   "source": [
    "%%ipytest -qq\n",
    "\n",
    "def test_determinant_1x1():\n",
    "    \"\"\"Check a 1x1 case\"\"\"\n",
    "    \n",
    "    matrix = [[1]]\n",
    "    assert determinant(matrix) == 1\n",
    "\n",
    "def test_determinant_2x2():\n",
    "    \"\"\"Check a 2x2 case\"\"\"\n",
    "    \n",
    "    matrix = [\n",
    "        [2,1],\n",
    "        [1,2]\n",
    "    ]\n",
    "    \n",
    "    assert determinant(matrix) == 3\n",
    "\n",
    "def test_determinant_3x3():\n",
    "    \"\"\"Check a 3x3 case\"\"\"\n",
    "    \n",
    "    matrix = [\n",
    "        [1, 4, 1],\n",
    "        [2, 2, -1],\n",
    "        [3, 0, 1]\n",
    "    ]\n",
    "    \n",
    "    assert determinant(matrix) == -24\n",
    "    \n",
    "def test_determinant_4x4():\n",
    "    \"\"\"Check a 4x4 case\"\"\"\n",
    "    \n",
    "    matrix = [\n",
    "        [4, 3, 2, 2],\n",
    "        [0, 1, -3, 3],\n",
    "        [0, -1, 3, 3],\n",
    "        [0, 3, 1, 1],\n",
    "    ]\n",
    "    \n",
    "    assert determinant(matrix) == -240"
   ]
  },
  {
   "cell_type": "markdown",
   "id": "e77f6ef3",
   "metadata": {},
   "source": [
    "### Annotations\n"
   ]
  },
  {
   "cell_type": "code",
   "execution_count": 46,
   "id": "c3b1b527",
   "metadata": {},
   "outputs": [
    {
     "data": {
      "text/plain": [
       "[[1, 2], [4, 5], [7, 8]]"
      ]
     },
     "execution_count": 46,
     "metadata": {},
     "output_type": "execute_result"
    }
   ],
   "source": [
    "# Calculations used to create reduced function\n",
    "\n",
    "m = [[0,1,2],\n",
    "     [3,4,5],\n",
    "     [6,7,8],\n",
    "     [9,10,11]]\n",
    "\n",
    "# Element 0\n",
    "\n",
    "lines = m[1:4]  # [[3, 4, 5], [6, 7, 8], [9, 10, 11]]\n",
    "red = [line[1:] for line in lines]\n",
    "red\n",
    "\n",
    "# Element 1\n",
    "\n",
    "lines = m[0:1] + m[2:4]  # [[3, 4, 5], [6, 7, 8], [9, 10, 11]]\n",
    "red = [line[1:] for line in lines]\n",
    "red\n",
    "\n",
    "# Element 2\n",
    "\n",
    "lines = m[0:2] + m[3:4]  # [[3, 4, 5], [6, 7, 8], [9, 10, 11]]\n",
    "red = [line[1:] for line in lines]\n",
    "red\n",
    "\n",
    "# Element 3\n",
    "\n",
    "lines = m[0:3]  # [[3, 4, 5], [6, 7, 8], [9, 10, 11]]\n",
    "red = [line[1:] for line in lines]\n",
    "red"
   ]
  },
  {
   "cell_type": "code",
   "execution_count": null,
   "id": "905aea29",
   "metadata": {},
   "outputs": [],
   "source": []
  }
 ],
 "metadata": {
  "kernelspec": {
   "display_name": "Python 3 (ipykernel)",
   "language": "python",
   "name": "python3"
  },
  "language_info": {
   "codemirror_mode": {
    "name": "ipython",
    "version": 3
   },
   "file_extension": ".py",
   "mimetype": "text/x-python",
   "name": "python",
   "nbconvert_exporter": "python",
   "pygments_lexer": "ipython3",
   "version": "3.10.6"
  }
 },
 "nbformat": 4,
 "nbformat_minor": 5
}
