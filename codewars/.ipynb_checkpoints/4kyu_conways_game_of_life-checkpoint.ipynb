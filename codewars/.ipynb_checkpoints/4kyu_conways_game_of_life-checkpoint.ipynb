{
 "cells": [
  {
   "cell_type": "code",
   "execution_count": 2,
   "id": "9aa94300",
   "metadata": {},
   "outputs": [
    {
     "name": "stdout",
     "output_type": "stream",
     "text": [
      "pygame 2.4.0 (SDL 2.26.4, Python 3.10.6)\n",
      "Hello from the pygame community. https://www.pygame.org/contribute.html\n"
     ]
    }
   ],
   "source": [
    "\"\"\"The instructions for this challenge are somewhat bad \n",
    "designed. I couldn't understand what they really wanted.\n",
    "But I've implemented a CGOL with Pygame here.\n",
    "\"\"\"\n",
    "\n",
    "import pygame\n",
    "import numpy as np"
   ]
  },
  {
   "cell_type": "code",
   "execution_count": 7,
   "id": "ed7724e8",
   "metadata": {},
   "outputs": [],
   "source": [
    "# Define colors\n",
    "BLACK = (0, 0, 0)\n",
    "WHITE = (255, 255, 255)\n",
    "\n",
    "# Initialize Pygame\n",
    "pygame.init()\n",
    "\n",
    "# Set the dimensions of the screen\n",
    "size = (500, 500)\n",
    "screen = pygame.display.set_mode(size)\n",
    "\n",
    "# Define the size of the grid\n",
    "grid_size = 50\n",
    "\n",
    "# Set the dimensions of each cell\n",
    "cell_width = size[0] // grid_size\n",
    "cell_height = size[1] // grid_size\n",
    "\n",
    "# Set the initial state of the game\n",
    "state = np.random.randint(2, size=(grid_size, grid_size))\n",
    "\n",
    "# Main loop\n",
    "done = False\n",
    "while not done:\n",
    "    for event in pygame.event.get():\n",
    "        if event.type == pygame.QUIT:\n",
    "            done = True\n",
    "        elif event.type == pygame.KEYDOWN:\n",
    "            if event.key == pygame.K_ESCAPE:\n",
    "                done = True\n",
    "\n",
    "    pygame.time.wait(100)\n",
    "    # Update the state of the game\n",
    "    new_state = np.zeros((grid_size, grid_size), dtype=int)\n",
    "    for i in range(grid_size):\n",
    "        for j in range(grid_size):\n",
    "            neighbors = np.sum(state[max(0, i-1):min(grid_size, i+2), max(0, j-1):min(grid_size, j+2)]) - state[i, j]\n",
    "            if state[i, j] == 1 and neighbors in (2, 3):\n",
    "                new_state[i, j] = 1\n",
    "            elif state[i, j] == 0 and neighbors == 3:\n",
    "                new_state[i, j] = 1\n",
    "    state = new_state\n",
    "\n",
    "    # Draw the grid\n",
    "    screen.fill(WHITE)\n",
    "    for i in range(grid_size):\n",
    "        for j in range(grid_size):\n",
    "            if state[i, j] == 1:\n",
    "                pygame.draw.rect(screen, BLACK, [j*cell_width, i*cell_height, cell_width, cell_height])\n",
    "    pygame.display.flip()\n",
    "\n",
    "# Quit Pygame\n",
    "pygame.quit()"
   ]
  },
  {
   "cell_type": "code",
   "execution_count": 5,
   "id": "b24bc940",
   "metadata": {},
   "outputs": [
    {
     "data": {
      "text/plain": [
       "array([[0, 0, 0, 0, 0, 1, 0, 1, 0, 1],\n",
       "       [0, 1, 1, 0, 0, 0, 1, 1, 1, 0],\n",
       "       [1, 1, 0, 0, 0, 0, 1, 1, 1, 0],\n",
       "       [1, 1, 1, 0, 1, 1, 0, 1, 0, 0],\n",
       "       [0, 0, 1, 0, 0, 0, 1, 0, 0, 1],\n",
       "       [1, 0, 0, 1, 1, 1, 1, 0, 1, 0],\n",
       "       [0, 0, 1, 0, 0, 0, 0, 1, 0, 1],\n",
       "       [0, 0, 0, 1, 0, 0, 0, 1, 1, 1],\n",
       "       [0, 0, 1, 0, 0, 0, 1, 1, 0, 1],\n",
       "       [1, 0, 1, 0, 1, 0, 0, 1, 1, 0]])"
      ]
     },
     "execution_count": 5,
     "metadata": {},
     "output_type": "execute_result"
    }
   ],
   "source": [
    "state = np.random.randint(2, size=(10, 10))\n",
    "state"
   ]
  },
  {
   "cell_type": "code",
   "execution_count": 10,
   "id": "c8b317a4",
   "metadata": {},
   "outputs": [
    {
     "data": {
      "text/plain": [
       "array([[1, 4, 4],\n",
       "       [1, 2, 3],\n",
       "       [6, 3, 6]])"
      ]
     },
     "execution_count": 10,
     "metadata": {},
     "output_type": "execute_result"
    }
   ],
   "source": [
    "state[1:4, 2:5]"
   ]
  },
  {
   "cell_type": "code",
   "execution_count": null,
   "id": "322a8792",
   "metadata": {},
   "outputs": [],
   "source": []
  }
 ],
 "metadata": {
  "kernelspec": {
   "display_name": "Python 3 (ipykernel)",
   "language": "python",
   "name": "python3"
  },
  "language_info": {
   "codemirror_mode": {
    "name": "ipython",
    "version": 3
   },
   "file_extension": ".py",
   "mimetype": "text/x-python",
   "name": "python",
   "nbconvert_exporter": "python",
   "pygments_lexer": "ipython3",
   "version": "3.10.6"
  }
 },
 "nbformat": 4,
 "nbformat_minor": 5
}
