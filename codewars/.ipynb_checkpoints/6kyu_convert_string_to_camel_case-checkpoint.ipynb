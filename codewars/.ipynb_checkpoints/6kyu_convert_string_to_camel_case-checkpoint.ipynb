{
 "cells": [
  {
   "cell_type": "code",
   "execution_count": 62,
   "id": "4a8a39a7",
   "metadata": {},
   "outputs": [],
   "source": [
    "import re\n",
    "\n",
    "def to_camel_case(text: str) -> str:\n",
    "    # from IPython.core.debugger import Pdb; Pdb().set_trace()\n",
    "    letters = \"abcdefghijklmnopqrstuvwxyzABCDEFGHIJKLMNOPQRSTUVWXYZ\"\n",
    "    newt = list(text)\n",
    "    for match in re.finditer(r\"(_|-)\\w\", text):\n",
    "        newt[match.end() - 1] = newt[match.end() - 1].upper()\n",
    "    return \"\".join([l if l in letters else \"\" for l in newt])"
   ]
  },
  {
   "cell_type": "code",
   "execution_count": 63,
   "id": "beae41dd",
   "metadata": {},
   "outputs": [
    {
     "data": {
      "text/plain": [
       "'theBestPerson'"
      ]
     },
     "execution_count": 63,
     "metadata": {},
     "output_type": "execute_result"
    }
   ],
   "source": [
    "s = \"the-best-person\"\n",
    "to_camel_case(s)"
   ]
  },
  {
   "cell_type": "code",
   "execution_count": null,
   "id": "9dbab656",
   "metadata": {},
   "outputs": [],
   "source": []
  }
 ],
 "metadata": {
  "kernelspec": {
   "display_name": "Python 3 (ipykernel)",
   "language": "python",
   "name": "python3"
  },
  "language_info": {
   "codemirror_mode": {
    "name": "ipython",
    "version": 3
   },
   "file_extension": ".py",
   "mimetype": "text/x-python",
   "name": "python",
   "nbconvert_exporter": "python",
   "pygments_lexer": "ipython3",
   "version": "3.10.6"
  }
 },
 "nbformat": 4,
 "nbformat_minor": 5
}
