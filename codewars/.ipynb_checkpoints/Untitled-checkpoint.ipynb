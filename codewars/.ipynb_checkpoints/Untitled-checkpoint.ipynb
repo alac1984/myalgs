{
 "cells": [
  {
   "cell_type": "code",
   "execution_count": 1,
   "id": "a4da2e99",
   "metadata": {},
   "outputs": [],
   "source": [
    "# Did I finish my sudoku?\n",
    "# https://www.codewars.com/kata/53db96041f1a7d32dc0004d2/train/python"
   ]
  },
  {
   "cell_type": "code",
   "execution_count": 2,
   "id": "c11237dd",
   "metadata": {},
   "outputs": [],
   "source": [
    "board = [[1, 3, 2, 5, 7, 9, 4, 6, 8],\n",
    "         [4, 9, 8, 2, 6, 1, 3, 7, 5],\n",
    "         [7, 5, 6, 3, 8, 4, 2, 1, 9],\n",
    "         [6, 4, 3, 1, 5, 8, 7, 9, 2],\n",
    "         [5, 2, 1, 7, 9, 3, 8, 4, 6],\n",
    "         [9, 8, 7, 4, 2, 6, 5, 3, 1],\n",
    "         [2, 1, 4, 9, 3, 5, 6, 8, 7],\n",
    "         [3, 6, 5, 8, 1, 7, 9, 2, 4],\n",
    "         [8, 7, 9, 6, 4, 2, 1, 5, 3]]"
   ]
  },
  {
   "cell_type": "code",
   "execution_count": 3,
   "id": "dede26bd",
   "metadata": {},
   "outputs": [],
   "source": [
    "def check_row(row: list) -> bool:\n",
    "    if len(set(row)) != 9:\n",
    "        return False\n",
    "    \n",
    "    if sum(row) != 45:\n",
    "        return False\n",
    "    \n",
    "    return True\n",
    "\n",
    "def extract_quadrant(row: int, column: int, board: list[list]) -> list[list]:\n",
    "    return board[row][column]\n",
    "\n",
    "def check_board(board: list[list]) -> bool:\n",
    "    for row in board:\n",
    "        if not check_row(row):\n",
    "            return False\n",
    "    \n",
    "    for row in [*zip(*board)]:\n",
    "        if not check_row(row):\n",
    "            return False\n",
    "    \n",
    "    return True\n"
   ]
  },
  {
   "cell_type": "code",
   "execution_count": 5,
   "id": "96752b2e",
   "metadata": {},
   "outputs": [
    {
     "data": {
      "text/plain": [
       "True"
      ]
     },
     "execution_count": 5,
     "metadata": {},
     "output_type": "execute_result"
    }
   ],
   "source": [
    "check_board(board)"
   ]
  },
  {
   "cell_type": "code",
   "execution_count": 11,
   "id": "f83d0880",
   "metadata": {},
   "outputs": [
    {
     "name": "stdout",
     "output_type": "stream",
     "text": [
      "3\n",
      "6\n",
      "9\n"
     ]
    }
   ],
   "source": [
    "for i in range(3, 10, 3):\n",
    "    print(i)"
   ]
  },
  {
   "cell_type": "code",
   "execution_count": null,
   "id": "0bbf8edd",
   "metadata": {},
   "outputs": [],
   "source": []
  }
 ],
 "metadata": {
  "kernelspec": {
   "display_name": "Python 3 (ipykernel)",
   "language": "python",
   "name": "python3"
  },
  "language_info": {
   "codemirror_mode": {
    "name": "ipython",
    "version": 3
   },
   "file_extension": ".py",
   "mimetype": "text/x-python",
   "name": "python",
   "nbconvert_exporter": "python",
   "pygments_lexer": "ipython3",
   "version": "3.10.6"
  }
 },
 "nbformat": 4,
 "nbformat_minor": 5
}
