{
 "cells": [
  {
   "cell_type": "code",
   "execution_count": 70,
   "id": "33915a5a",
   "metadata": {},
   "outputs": [],
   "source": [
    "# Next smaller number with the same digits\n",
    "from itertools import combinations\n",
    "\n",
    "def next_smaller(n: int):\n",
    "    ...\n",
    "\n",
    "def generate_numbers(n: int):\n",
    "    \"\"\"\n",
    "    Generate all numbers with the same digits of n. If no other number\n",
    "    can be generated, returns -1\n",
    "    \"\"\"\n",
    "    \n",
    "    digits = [*str(n)]\n",
    "    numbers = list(combinations(digits, r=len(digits)))\n",
    "    # Remove numbers that starts with zero\n",
    "    for idx, num in enumerate(numbers):\n",
    "        # import ipdb; ipdb.set_trace()\n",
    "        if num[0] == \"0\":\n",
    "            del numbers[idx]\n",
    "    \n",
    "    return [ in numbers]\n",
    "    \n",
    "    "
   ]
  },
  {
   "cell_type": "code",
   "execution_count": 71,
   "id": "1c8a51cd",
   "metadata": {},
   "outputs": [
    {
     "data": {
      "text/plain": [
       "[]"
      ]
     },
     "execution_count": 71,
     "metadata": {},
     "output_type": "execute_result"
    }
   ],
   "source": [
    "generate_numbers(120)"
   ]
  },
  {
   "cell_type": "code",
   "execution_count": 57,
   "id": "9a230069",
   "metadata": {},
   "outputs": [
    {
     "name": "stdout",
     "output_type": "stream",
     "text": [
      "(1, 2, 3, 4)\n"
     ]
    }
   ],
   "source": [
    "for comb in combinations([1, 2, 3, 4], r=4):\n",
    "    print(comb)"
   ]
  },
  {
   "cell_type": "code",
   "execution_count": null,
   "id": "2ad1a9cf",
   "metadata": {},
   "outputs": [],
   "source": []
  }
 ],
 "metadata": {
  "kernelspec": {
   "display_name": "Python 3 (ipykernel)",
   "language": "python",
   "name": "python3"
  },
  "language_info": {
   "codemirror_mode": {
    "name": "ipython",
    "version": 3
   },
   "file_extension": ".py",
   "mimetype": "text/x-python",
   "name": "python",
   "nbconvert_exporter": "python",
   "pygments_lexer": "ipython3",
   "version": "3.10.4"
  }
 },
 "nbformat": 4,
 "nbformat_minor": 5
}
