{
 "cells": [
  {
   "cell_type": "markdown",
   "id": "510a3ab4",
   "metadata": {},
   "source": [
    "### Factors\n",
    "\n",
    "01. Get all whole dividers of a number"
   ]
  },
  {
   "cell_type": "code",
   "execution_count": 23,
   "id": "2c25510b",
   "metadata": {},
   "outputs": [
    {
     "data": {
      "text/plain": [
       "[1, 2, 4, 5, 10, 20, 25, 50, 100]"
      ]
     },
     "execution_count": 23,
     "metadata": {},
     "output_type": "execute_result"
    }
   ],
   "source": [
    "def dividers(num: int) -> list[int]:\n",
    "    return [f for f in range(1, num + 1) if num % f == 0]\n",
    "\n",
    "dividers(100)"
   ]
  },
  {
   "cell_type": "markdown",
   "id": "5591bb6d",
   "metadata": {},
   "source": [
    "<br>\n",
    "2. Get all prime factors from a number\n",
    "<br>\n",
    "<br>"
   ]
  },
  {
   "cell_type": "code",
   "execution_count": 8,
   "id": "cda64802",
   "metadata": {},
   "outputs": [
    {
     "data": {
      "text/plain": [
       "[5, 5]"
      ]
     },
     "execution_count": 8,
     "metadata": {},
     "output_type": "execute_result"
    }
   ],
   "source": [
    "def prime_factors(num: int) -> list[int]:\n",
    "    # from IPython.core.debugger import Pdb; Pdb().set_trace()\n",
    "    i = 2\n",
    "    factors = []\n",
    "    while i * i <= num:\n",
    "        if num % i:\n",
    "            i += 1\n",
    "        else:\n",
    "            num //= i\n",
    "            factors.append(i)\n",
    "    if num > 1:\n",
    "        factors.append(num)\n",
    "    return factors\n",
    "\n",
    "prime_factors(25)"
   ]
  },
  {
   "cell_type": "markdown",
   "id": "660b3f32",
   "metadata": {},
   "source": [
    "<br>\n",
    "2. Represent fractions\n",
    "<br>  \n",
    "<br>"
   ]
  },
  {
   "cell_type": "code",
   "execution_count": 21,
   "id": "081ab729",
   "metadata": {},
   "outputs": [
    {
     "data": {
      "text/plain": [
       "Fraction(3, 4)"
      ]
     },
     "execution_count": 21,
     "metadata": {},
     "output_type": "execute_result"
    }
   ],
   "source": [
    "from decimal import Decimal\n",
    "from fractions import Fraction\n",
    "\n",
    "f = Fraction(6, 8)\n",
    "\n",
    "f.numerator\n",
    "f.denominator \n",
    "f.as_integer_ratio()  # Reduce fraction terms\n",
    "Fraction.from_float(2.74) # Returns a Fraction instance from a float\n",
    "Fraction.from_decimal(Decimal(2.74)) # Returns a Fraction instance from a Decimal\n",
    "f.conjugate()  # Returns the reduced fraction, in this case, Fraction(3, 4)"
   ]
  },
  {
   "cell_type": "markdown",
   "id": "40b3c002",
   "metadata": {},
   "source": [
    "<br>\n",
    "3. Divide out any perfect square root factors  \n",
    "<br><br>\n",
    "$\\sqrt{12} = \\sqrt{4 · 3} = 2\\sqrt{3}$ \n",
    "<br><br>"
   ]
  },
  {
   "cell_type": "code",
   "execution_count": 22,
   "id": "76beb8ee",
   "metadata": {},
   "outputs": [
    {
     "name": "stdout",
     "output_type": "stream",
     "text": [
      "Counter({1: 1, 2: 1, 3: 1, 4: 1, 6: 1, 8: 1, 12: 1})\n"
     ]
    },
    {
     "data": {
      "text/plain": [
       "SquareFactor(base=24, remainder=None, multiplier=None)"
      ]
     },
     "execution_count": 22,
     "metadata": {},
     "output_type": "execute_result"
    }
   ],
   "source": [
    "from dataclasses import dataclass\n",
    "from collections import Counter\n",
    "\n",
    "@dataclass\n",
    "class SquareFactor:\n",
    "    base: int\n",
    "    remainder: int = None\n",
    "    multiplier: int = None\n",
    "    \n",
    "    def __post_init__(self):\n",
    "        # Find all factors\n",
    "        factors = [f for f in range(1, self.base) if self.base % f == 0]\n",
    "        # Count their ocurrences\n",
    "        count = Counter(factors)\n",
    "        print(count)\n",
    "\n",
    "\n",
    "SquareFactor(24)"
   ]
  },
  {
   "cell_type": "code",
   "execution_count": null,
   "id": "d8b8b0d9",
   "metadata": {},
   "outputs": [],
   "source": []
  }
 ],
 "metadata": {
  "kernelspec": {
   "display_name": "Python 3 (ipykernel)",
   "language": "python",
   "name": "python3"
  },
  "language_info": {
   "codemirror_mode": {
    "name": "ipython",
    "version": 3
   },
   "file_extension": ".py",
   "mimetype": "text/x-python",
   "name": "python",
   "nbconvert_exporter": "python",
   "pygments_lexer": "ipython3",
   "version": "3.10.6"
  }
 },
 "nbformat": 4,
 "nbformat_minor": 5
}
