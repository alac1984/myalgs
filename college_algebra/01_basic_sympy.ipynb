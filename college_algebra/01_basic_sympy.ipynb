{
 "cells": [
  {
   "cell_type": "markdown",
   "id": "e1d499eb",
   "metadata": {},
   "source": [
    "#### Mixed numbers\n",
    "\n",
    "$$\n",
    "    1\\frac{2}{3} + 3\\frac{4}{5} - 7\n",
    "$$"
   ]
  },
  {
   "cell_type": "code",
   "execution_count": 5,
   "id": "a55fd56b",
   "metadata": {},
   "outputs": [
    {
     "name": "stdout",
     "output_type": "stream",
     "text": [
      "-1.533333333333334\n"
     ]
    }
   ],
   "source": [
    "print(1 + 2/3 + 3 + 4/5 - 7)"
   ]
  },
  {
   "cell_type": "markdown",
   "id": "7ea5c8fa",
   "metadata": {},
   "source": [
    "#### Solve to x\n",
    "\n",
    "$$\n",
    "    x^2 + 3x + 2 = 0\n",
    "$$"
   ]
  },
  {
   "cell_type": "code",
   "execution_count": 6,
   "id": "f4c8871b",
   "metadata": {},
   "outputs": [
    {
     "name": "stdout",
     "output_type": "stream",
     "text": [
      "x = [-2, -1]\n"
     ]
    }
   ],
   "source": [
    "import sympy\n",
    "\n",
    "x = sympy.symbols('x')\n",
    "\n",
    "# Equation below. Notice that the default is = 0\n",
    "\n",
    "eq = x**2 + 3*x + 2\n",
    "\n",
    "print(\"x =\", sympy.solve(eq, x))"
   ]
  },
  {
   "cell_type": "markdown",
   "id": "62ff2970",
   "metadata": {},
   "source": [
    "#### Solve to x with two variables\n",
    "\n",
    "$$\n",
    "    2x + 10 = y\n",
    "$$"
   ]
  },
  {
   "cell_type": "code",
   "execution_count": 8,
   "id": "0984e0f4",
   "metadata": {},
   "outputs": [
    {
     "name": "stdout",
     "output_type": "stream",
     "text": [
      "x = y/2 - 5\n"
     ]
    }
   ],
   "source": [
    "sympy.var('x y')\n",
    "\n",
    "left_side = 2*x + 10\n",
    "\n",
    "# this \"equals\" left_side to y instead of equals it\n",
    "# to zero, as in the previous sintax\n",
    "equation = sympy.Eq(left_side, y) \n",
    "\n",
    "solution = sympy.solve(equation, x) # I wanna x as answer, isolated at left\n",
    "\n",
    "print (\"x =\", solution[0])"
   ]
  },
  {
   "cell_type": "code",
   "execution_count": 10,
   "id": "ff7b2cca",
   "metadata": {},
   "outputs": [
    {
     "name": "stdout",
     "output_type": "stream",
     "text": [
      "x = y/2 - 5\n"
     ]
    }
   ],
   "source": [
    "# I can put y in the equation already\n",
    "\n",
    "sympy.var('x y')\n",
    "\n",
    "left_side = 2*x + 10 - y\n",
    "\n",
    "equation = sympy.Eq(left_side, 0) \n",
    "\n",
    "solution = sympy.solve(equation, x) # I wanna x as answer, isolated at left\n",
    "\n",
    "print (\"x =\", solution[0])"
   ]
  },
  {
   "cell_type": "code",
   "execution_count": 11,
   "id": "d7de1a44",
   "metadata": {},
   "outputs": [
    {
     "name": "stdout",
     "output_type": "stream",
     "text": [
      "x = y/2 - 5\n"
     ]
    }
   ],
   "source": [
    "# For me, the best and more intuitively is below:\n",
    "\n",
    "sympy.var('x y')\n",
    "\n",
    "left_side = 2*x + 10\n",
    "right_side = y\n",
    "\n",
    "equation = sympy.Eq(left_side, right_side) \n",
    "\n",
    "solution = sympy.solve(equation, x) # I wanna x as answer, isolated at left\n",
    "\n",
    "print (\"x =\", solution[0])"
   ]
  },
  {
   "cell_type": "markdown",
   "id": "e4411464",
   "metadata": {},
   "source": [
    "#### Common Factor\n",
    "\n",
    "$$\n",
    "    2x + 10y + 4 = 0\n",
    "$$"
   ]
  },
  {
   "cell_type": "code",
   "execution_count": 13,
   "id": "fa4d31e7",
   "metadata": {},
   "outputs": [
    {
     "data": {
      "text/latex": [
       "$\\displaystyle 2 \\left(x + 5 y + 2\\right)$"
      ],
      "text/plain": [
       "2*(x + 5*y + 2)"
      ]
     },
     "execution_count": 13,
     "metadata": {},
     "output_type": "execute_result"
    }
   ],
   "source": [
    "# I want this to be factored to its common factor\n",
    "\n",
    "sympy.var('x y')\n",
    "\n",
    "equation = 2*x + 10*y + 4\n",
    "\n",
    "sympy.factor(equation)"
   ]
  },
  {
   "cell_type": "code",
   "execution_count": 14,
   "id": "043e71a6",
   "metadata": {},
   "outputs": [
    {
     "data": {
      "text/latex": [
       "$\\displaystyle \\left(x - 2\\right) \\left(x + 2\\right)$"
      ],
      "text/plain": [
       "(x - 2)*(x + 2)"
      ]
     },
     "execution_count": 14,
     "metadata": {},
     "output_type": "execute_result"
    }
   ],
   "source": [
    "# I can even get the special products (produtos notáveis)\n",
    "\n",
    "sympy.var('x')\n",
    "\n",
    "equation = x**2 - 4\n",
    "\n",
    "sympy.factor(equation)"
   ]
  },
  {
   "cell_type": "code",
   "execution_count": 15,
   "id": "6ef2f808",
   "metadata": {},
   "outputs": [
    {
     "data": {
      "text/latex": [
       "$\\displaystyle \\left(x - 3\\right) \\left(x - 1\\right) \\left(x + 2\\right)$"
      ],
      "text/plain": [
       "(x - 3)*(x - 1)*(x + 2)"
      ]
     },
     "execution_count": 15,
     "metadata": {},
     "output_type": "execute_result"
    }
   ],
   "source": [
    "# Another example\n",
    "\n",
    "sympy.var('x')\n",
    "\n",
    "equation = x**3 - 2*x**2 - 5*x + 6\n",
    "\n",
    "sympy.factor(equation)"
   ]
  },
  {
   "cell_type": "code",
   "execution_count": null,
   "id": "f005b4e7",
   "metadata": {},
   "outputs": [],
   "source": []
  }
 ],
 "metadata": {
  "kernelspec": {
   "display_name": "Python 3 (ipykernel)",
   "language": "python",
   "name": "python3"
  },
  "language_info": {
   "codemirror_mode": {
    "name": "ipython",
    "version": 3
   },
   "file_extension": ".py",
   "mimetype": "text/x-python",
   "name": "python",
   "nbconvert_exporter": "python",
   "pygments_lexer": "ipython3",
   "version": "3.10.6"
  }
 },
 "nbformat": 4,
 "nbformat_minor": 5
}
