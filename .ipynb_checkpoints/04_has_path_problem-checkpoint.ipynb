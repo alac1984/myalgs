{
 "cells": [
  {
   "cell_type": "code",
   "execution_count": 2,
   "id": "4ae59db5",
   "metadata": {},
   "outputs": [
    {
     "name": "stdout",
     "output_type": "stream",
     "text": [
      "Node and Tree classes added to path\n"
     ]
    }
   ],
   "source": [
    "%run 02_node_tree.ipynb"
   ]
  },
  {
   "cell_type": "code",
   "execution_count": 20,
   "id": "c740df92",
   "metadata": {},
   "outputs": [],
   "source": [
    "# TODO: solve this node creation problem: every recursion the same nodes\n",
    "# are being created again and again\n",
    "\n",
    "class HasPathTree(Tree):\n",
    "    def has_path(self, src: str, dst: str) -> bool:\n",
    "        src_node = self.get_node(src)\n",
    "        dst_node = self.get_node(dst)\n",
    "        # import ipdb; ipdb.set_trace()\n",
    "        \n",
    "        if src_node == dst_node:\n",
    "            return True\n",
    "        \n",
    "        for neighbor in src_node.neighbors:\n",
    "            if self.has_path(src=neighbor.name, dst=dst) == True:\n",
    "                return True\n",
    "        \n",
    "        return False\n",
    "        \n",
    "        "
   ]
  },
  {
   "cell_type": "code",
   "execution_count": 21,
   "id": "477a38a5",
   "metadata": {},
   "outputs": [
    {
     "data": {
      "text/plain": [
       "HasPathTree(name='has_path', nodes=[Node(name='f', neighbors=[Node(name='g', neighbors=[Node(name='h', neighbors=[])]), Node(name='i', neighbors=[Node(name='g', neighbors=[Node(name='h', neighbors=[])]), Node(name='k', neighbors=[])])]), Node(name='g', neighbors=[Node(name='h', neighbors=[])]), Node(name='i', neighbors=[Node(name='g', neighbors=[Node(name='h', neighbors=[])]), Node(name='k', neighbors=[])]), Node(name='h', neighbors=[]), Node(name='k', neighbors=[]), Node(name='j', neighbors=[Node(name='i', neighbors=[Node(name='g', neighbors=[Node(name='h', neighbors=[])]), Node(name='k', neighbors=[])])])])"
      ]
     },
     "execution_count": 21,
     "metadata": {},
     "output_type": "execute_result"
    }
   ],
   "source": [
    "graph = {\n",
    "    \"f\": [\"g\", \"i\"],\n",
    "    \"g\": [\"h\"],\n",
    "    \"h\": [],\n",
    "    \"i\": [\"g\", \"k\"],\n",
    "    \"j\": [\"i\"],\n",
    "    \"k\": [],\n",
    "}\n",
    "\n",
    "tree = HasPathTree.from_dict(name=\"has_path\", data=graph)\n",
    "tree"
   ]
  },
  {
   "cell_type": "code",
   "execution_count": 24,
   "id": "697ccf8e",
   "metadata": {},
   "outputs": [
    {
     "name": "stdout",
     "output_type": "stream",
     "text": [
      "True\n"
     ]
    }
   ],
   "source": [
    "print(tree.has_path(\"f\", \"k\"))"
   ]
  },
  {
   "cell_type": "code",
   "execution_count": 40,
   "id": "14a55fe3",
   "metadata": {},
   "outputs": [],
   "source": [
    "def factorial(num: int):\n",
    "    if num == 0 or num == 1:\n",
    "        return 1;\n",
    "    \n",
    "    return num * factorial(num - 1)\n",
    "    \n",
    "        "
   ]
  },
  {
   "cell_type": "code",
   "execution_count": 41,
   "id": "c6112a51",
   "metadata": {},
   "outputs": [
    {
     "data": {
      "text/plain": [
       "120"
      ]
     },
     "execution_count": 41,
     "metadata": {},
     "output_type": "execute_result"
    }
   ],
   "source": [
    "factorial(5)"
   ]
  },
  {
   "cell_type": "code",
   "execution_count": 49,
   "id": "8e6d1c17",
   "metadata": {},
   "outputs": [
    {
     "ename": "TypeError",
     "evalue": "unsupported operand type(s) for +: 'NoneType' and 'NoneType'",
     "output_type": "error",
     "traceback": [
      "\u001b[0;31m---------------------------------------------------------------------------\u001b[0m",
      "\u001b[0;31mTypeError\u001b[0m                                 Traceback (most recent call last)",
      "Input \u001b[0;32mIn [49]\u001b[0m, in \u001b[0;36m<cell line: 17>\u001b[0;34m()\u001b[0m\n\u001b[1;32m     13\u001b[0m         \u001b[38;5;28;01mreturn\u001b[39;00m value\n\u001b[1;32m     15\u001b[0m     fibonacci_cache[n] \u001b[38;5;241m=\u001b[39m value\n\u001b[0;32m---> 17\u001b[0m \u001b[43mfibonacci\u001b[49m\u001b[43m(\u001b[49m\u001b[38;5;241;43m4\u001b[39;49m\u001b[43m)\u001b[49m\n\u001b[1;32m     18\u001b[0m \u001b[38;5;28;01mfor\u001b[39;00m n \u001b[38;5;129;01min\u001b[39;00m \u001b[38;5;28mrange\u001b[39m(\u001b[38;5;241m1\u001b[39m,\u001b[38;5;241m11\u001b[39m):\n\u001b[1;32m     19\u001b[0m     \u001b[38;5;28mprint\u001b[39m(n, \u001b[38;5;124m\"\u001b[39m\u001b[38;5;124m:\u001b[39m\u001b[38;5;124m\"\u001b[39m, fibonacci(n))\n",
      "Input \u001b[0;32mIn [49]\u001b[0m, in \u001b[0;36mfibonacci\u001b[0;34m(n)\u001b[0m\n\u001b[1;32m     10\u001b[0m     value \u001b[38;5;241m=\u001b[39m \u001b[38;5;241m1\u001b[39m\n\u001b[1;32m     11\u001b[0m \u001b[38;5;28;01melse\u001b[39;00m:\n\u001b[0;32m---> 12\u001b[0m     value \u001b[38;5;241m=\u001b[39m \u001b[43mfibonacci\u001b[49m\u001b[43m(\u001b[49m\u001b[43mn\u001b[49m\u001b[38;5;241;43m-\u001b[39;49m\u001b[38;5;241;43m1\u001b[39;49m\u001b[43m)\u001b[49m \u001b[38;5;241m+\u001b[39m fibonacci(n\u001b[38;5;241m-\u001b[39m\u001b[38;5;241m2\u001b[39m)\n\u001b[1;32m     13\u001b[0m     \u001b[38;5;28;01mreturn\u001b[39;00m value\n\u001b[1;32m     15\u001b[0m fibonacci_cache[n] \u001b[38;5;241m=\u001b[39m value\n",
      "Input \u001b[0;32mIn [49]\u001b[0m, in \u001b[0;36mfibonacci\u001b[0;34m(n)\u001b[0m\n\u001b[1;32m     10\u001b[0m     value \u001b[38;5;241m=\u001b[39m \u001b[38;5;241m1\u001b[39m\n\u001b[1;32m     11\u001b[0m \u001b[38;5;28;01melse\u001b[39;00m:\n\u001b[0;32m---> 12\u001b[0m     value \u001b[38;5;241m=\u001b[39m \u001b[43mfibonacci\u001b[49m\u001b[43m(\u001b[49m\u001b[43mn\u001b[49m\u001b[38;5;241;43m-\u001b[39;49m\u001b[38;5;241;43m1\u001b[39;49m\u001b[43m)\u001b[49m\u001b[43m \u001b[49m\u001b[38;5;241;43m+\u001b[39;49m\u001b[43m \u001b[49m\u001b[43mfibonacci\u001b[49m\u001b[43m(\u001b[49m\u001b[43mn\u001b[49m\u001b[38;5;241;43m-\u001b[39;49m\u001b[38;5;241;43m2\u001b[39;49m\u001b[43m)\u001b[49m\n\u001b[1;32m     13\u001b[0m     \u001b[38;5;28;01mreturn\u001b[39;00m value\n\u001b[1;32m     15\u001b[0m fibonacci_cache[n] \u001b[38;5;241m=\u001b[39m value\n",
      "\u001b[0;31mTypeError\u001b[0m: unsupported operand type(s) for +: 'NoneType' and 'NoneType'"
     ]
    }
   ],
   "source": [
    "fibonacci_cache = {}\n",
    "\n",
    "def fibonacci(n: int):\n",
    "    if n in fibonacci_cache:\n",
    "        return fibonacci_cache[n]\n",
    "    \n",
    "    if n == 1:\n",
    "        value = 1\n",
    "    elif n == 2:\n",
    "        value = 1\n",
    "    else:\n",
    "        value = fibonacci(n-1) + fibonacci(n-2)\n",
    "    \n",
    "    fibonacci_cache[n] = value\n",
    "    return value\n",
    "    \n",
    "fibonacci(4)\n",
    "for n in range(1,11):\n",
    "    print(n, \":\", fibonacci(n))"
   ]
  },
  {
   "cell_type": "code",
   "execution_count": null,
   "id": "5ecf435d",
   "metadata": {},
   "outputs": [],
   "source": []
  }
 ],
 "metadata": {
  "kernelspec": {
   "display_name": "Python 3 (ipykernel)",
   "language": "python",
   "name": "python3"
  },
  "language_info": {
   "codemirror_mode": {
    "name": "ipython",
    "version": 3
   },
   "file_extension": ".py",
   "mimetype": "text/x-python",
   "name": "python",
   "nbconvert_exporter": "python",
   "pygments_lexer": "ipython3",
   "version": "3.10.4"
  }
 },
 "nbformat": 4,
 "nbformat_minor": 5
}
