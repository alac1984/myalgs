{
 "cells": [
  {
   "cell_type": "markdown",
   "id": "68190897",
   "metadata": {},
   "source": [
    "### Node class"
   ]
  },
  {
   "cell_type": "code",
   "execution_count": 8,
   "id": "e8e37497",
   "metadata": {},
   "outputs": [],
   "source": [
    "from dataclasses import dataclass, field\n",
    "\n",
    "@dataclass\n",
    "class Node:\n",
    "    name: str\n",
    "    neighbors: list = field(default_factory=list)\n",
    "        \n",
    "    def __eq__(self, other) -> bool:\n",
    "        return self.name == other.name\n",
    "    \n",
    "    def add_neighbor(self, node) -> None:\n",
    "        self.neighbors.append(node)\n"
   ]
  },
  {
   "cell_type": "markdown",
   "id": "3b6b3307",
   "metadata": {},
   "source": [
    "### Tree class"
   ]
  },
  {
   "cell_type": "code",
   "execution_count": 15,
   "id": "da464779",
   "metadata": {},
   "outputs": [],
   "source": [
    "@dataclass\n",
    "class Tree:\n",
    "    name: str\n",
    "    nodes: list[Node] = field(default_factory=list)\n",
    "    \n",
    "    def add_node(self, node: Node) -> None:\n",
    "        if self.has_node(node.name):\n",
    "            raise ValueError(\"You cannot have two nodes with the same name\")\n",
    "        self.nodes.append(node)\n",
    "    \n",
    "    def has_node(self, nodename: str) -> bool:\n",
    "        return Node(nodename) in self.nodes\n",
    "    \n",
    "    def get_node(self, nodename: str):\n",
    "        for node in self.nodes:\n",
    "            if node.name == nodename:\n",
    "                return node\n",
    "        return None\n",
    "    \n",
    "    def depth_first_walk(self, start: str):\n",
    "        start_node = self.get_node(start)\n",
    "        stack = [start_node]\n",
    "        \n",
    "        while len(stack) > 0:\n",
    "            current = stack.pop()\n",
    "            print(current.name)\n",
    "            for node in current.neighbors:\n",
    "                stack.append(node)\n",
    "    \n",
    "    @classmethod\n",
    "    def from_dict(cls, name: str, data: dict):\n",
    "        tree = cls(name)\n",
    "        for nodename, neighbornames in data.items():\n",
    "            node = Node(nodename)\n",
    "            if not tree.has_node(nodename):\n",
    "                tree.add_node(node)\n",
    "            else:\n",
    "                node = tree.get_node(nodename)\n",
    "            for neighborname in neighbornames:\n",
    "                if not tree.has_node(neighborname):\n",
    "                    neighbor = Node(neighborname)\n",
    "                    tree.add_node(neighbor)\n",
    "                    node.add_neighbor(neighbor)\n",
    "                else:\n",
    "                    neighbor = tree.get_node(neighborname)\n",
    "                    node.add_neighbor(neighbor)\n",
    "        \n",
    "        return tree\n",
    "\n"
   ]
  },
  {
   "cell_type": "markdown",
   "id": "b329d360",
   "metadata": {},
   "source": [
    "### Creating a graph using a dict"
   ]
  },
  {
   "cell_type": "code",
   "execution_count": 16,
   "id": "4f690302",
   "metadata": {},
   "outputs": [
    {
     "name": "stdout",
     "output_type": "stream",
     "text": [
      "Tree(name='tree', nodes=[Node(name='a', neighbors=[Node(name='b', neighbors=[Node(name='d', neighbors=[Node(name='f', neighbors=[])])]), Node(name='c', neighbors=[Node(name='e', neighbors=[])])]), Node(name='b', neighbors=[Node(name='d', neighbors=[Node(name='f', neighbors=[])])]), Node(name='c', neighbors=[Node(name='e', neighbors=[])]), Node(name='d', neighbors=[Node(name='f', neighbors=[])]), Node(name='e', neighbors=[]), Node(name='f', neighbors=[])])\n"
     ]
    }
   ],
   "source": [
    "graph = {\n",
    "    \"a\": [\"b\", \"c\"],\n",
    "    \"b\": [\"d\"],\n",
    "    \"c\": [\"e\"],\n",
    "    \"d\": [\"f\"],\n",
    "    \"e\": [],\n",
    "    \"f\": []\n",
    "}\n",
    "\n",
    "tree = Tree.from_dict(\"tree\", graph)\n",
    "print(tree)"
   ]
  },
  {
   "cell_type": "markdown",
   "id": "cb50d10d",
   "metadata": {},
   "source": [
    "### Depth First Search"
   ]
  },
  {
   "cell_type": "code",
   "execution_count": 17,
   "id": "ee80b7f7",
   "metadata": {},
   "outputs": [
    {
     "name": "stdout",
     "output_type": "stream",
     "text": [
      "> \u001b[0;32m/tmp/ipykernel_25098/3407022328.py\u001b[0m(26)\u001b[0;36mdepth_first_walk\u001b[0;34m()\u001b[0m\n",
      "\u001b[0;32m     25 \u001b[0;31m            \u001b[0mcurrent\u001b[0m \u001b[0;34m=\u001b[0m \u001b[0mstack\u001b[0m\u001b[0;34m.\u001b[0m\u001b[0mpop\u001b[0m\u001b[0;34m(\u001b[0m\u001b[0;34m)\u001b[0m\u001b[0;34m\u001b[0m\u001b[0;34m\u001b[0m\u001b[0m\n",
      "\u001b[0m\u001b[0;32m---> 26 \u001b[0;31m            \u001b[0;32mfor\u001b[0m \u001b[0mnode\u001b[0m \u001b[0;32min\u001b[0m \u001b[0mcurrent\u001b[0m\u001b[0;34m.\u001b[0m\u001b[0mneighbors\u001b[0m\u001b[0;34m:\u001b[0m\u001b[0;34m\u001b[0m\u001b[0;34m\u001b[0m\u001b[0m\n",
      "\u001b[0m\u001b[0;32m     27 \u001b[0;31m                \u001b[0mstack\u001b[0m\u001b[0;34m.\u001b[0m\u001b[0mappend\u001b[0m\u001b[0;34m(\u001b[0m\u001b[0mnode\u001b[0m\u001b[0;34m)\u001b[0m\u001b[0;34m\u001b[0m\u001b[0;34m\u001b[0m\u001b[0m\n",
      "\u001b[0m\n",
      "ipdb> dir()\n",
      "['current', 'ipdb', 'node', 'self', 'stack', 'start', 'start_node']\n",
      "ipdb> node\n",
      "Node(name='b', neighbors=[Node(name='d', neighbors=[Node(name='f', neighbors=[])])])\n",
      "ipdb> n\n",
      "> \u001b[0;32m/tmp/ipykernel_25098/3407022328.py\u001b[0m(27)\u001b[0;36mdepth_first_walk\u001b[0;34m()\u001b[0m\n",
      "\u001b[0;32m     26 \u001b[0;31m            \u001b[0;32mfor\u001b[0m \u001b[0mnode\u001b[0m \u001b[0;32min\u001b[0m \u001b[0mcurrent\u001b[0m\u001b[0;34m.\u001b[0m\u001b[0mneighbors\u001b[0m\u001b[0;34m:\u001b[0m\u001b[0;34m\u001b[0m\u001b[0;34m\u001b[0m\u001b[0m\n",
      "\u001b[0m\u001b[0;32m---> 27 \u001b[0;31m                \u001b[0mstack\u001b[0m\u001b[0;34m.\u001b[0m\u001b[0mappend\u001b[0m\u001b[0;34m(\u001b[0m\u001b[0mnode\u001b[0m\u001b[0;34m)\u001b[0m\u001b[0;34m\u001b[0m\u001b[0;34m\u001b[0m\u001b[0m\n",
      "\u001b[0m\u001b[0;32m     28 \u001b[0;31m                \u001b[0;32mimport\u001b[0m \u001b[0mipdb\u001b[0m\u001b[0;34m;\u001b[0m \u001b[0mipdb\u001b[0m\u001b[0;34m.\u001b[0m\u001b[0mset_trace\u001b[0m\u001b[0;34m(\u001b[0m\u001b[0;34m)\u001b[0m\u001b[0;34m\u001b[0m\u001b[0;34m\u001b[0m\u001b[0m\n",
      "\u001b[0m\n",
      "ipdb> stack\n",
      "[Node(name='b', neighbors=[Node(name='d', neighbors=[Node(name='f', neighbors=[])])])]\n",
      "ipdb> stack\n",
      "[Node(name='b', neighbors=[Node(name='d', neighbors=[Node(name='f', neighbors=[])])])]\n",
      "ipdb> n\n",
      "> \u001b[0;32m/tmp/ipykernel_25098/3407022328.py\u001b[0m(28)\u001b[0;36mdepth_first_walk\u001b[0;34m()\u001b[0m\n",
      "\u001b[0;32m     27 \u001b[0;31m                \u001b[0mstack\u001b[0m\u001b[0;34m.\u001b[0m\u001b[0mappend\u001b[0m\u001b[0;34m(\u001b[0m\u001b[0mnode\u001b[0m\u001b[0;34m)\u001b[0m\u001b[0;34m\u001b[0m\u001b[0;34m\u001b[0m\u001b[0m\n",
      "\u001b[0m\u001b[0;32m---> 28 \u001b[0;31m                \u001b[0;32mimport\u001b[0m \u001b[0mipdb\u001b[0m\u001b[0;34m;\u001b[0m \u001b[0mipdb\u001b[0m\u001b[0;34m.\u001b[0m\u001b[0mset_trace\u001b[0m\u001b[0;34m(\u001b[0m\u001b[0;34m)\u001b[0m\u001b[0;34m\u001b[0m\u001b[0;34m\u001b[0m\u001b[0m\n",
      "\u001b[0m\u001b[0;32m     29 \u001b[0;31m\u001b[0;34m\u001b[0m\u001b[0m\n",
      "\u001b[0m\n",
      "ipdb> stack\n",
      "[Node(name='b', neighbors=[Node(name='d', neighbors=[Node(name='f', neighbors=[])])]), Node(name='c', neighbors=[Node(name='e', neighbors=[])])]\n",
      "ipdb> q\n"
     ]
    }
   ],
   "source": [
    "tree.depth_first_walk('a')"
   ]
  },
  {
   "cell_type": "code",
   "execution_count": null,
   "id": "444f3bff",
   "metadata": {},
   "outputs": [],
   "source": []
  }
 ],
 "metadata": {
  "kernelspec": {
   "display_name": "Python 3 (ipykernel)",
   "language": "python",
   "name": "python3"
  },
  "language_info": {
   "codemirror_mode": {
    "name": "ipython",
    "version": 3
   },
   "file_extension": ".py",
   "mimetype": "text/x-python",
   "name": "python",
   "nbconvert_exporter": "python",
   "pygments_lexer": "ipython3",
   "version": "3.10.4"
  }
 },
 "nbformat": 4,
 "nbformat_minor": 5
}
