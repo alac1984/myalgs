{
 "cells": [
  {
   "cell_type": "code",
   "execution_count": 4,
   "id": "770c81f2",
   "metadata": {},
   "outputs": [],
   "source": [
    "# Lattice Algorithm\n",
    "# Page 4, my translation for the two summations mathematical algorithm\n",
    "import math\n",
    "\n",
    "def lattice(x: list, y: list) -> int:\n",
    "    product = 0\n",
    "    for i in range(0, len(x)):\n",
    "        for j in range(0, len(y)):\n",
    "            product += x[i] * y[j] * math.pow(10, i+j)\n",
    "    \n",
    "    return int(product)"
   ]
  },
  {
   "cell_type": "code",
   "execution_count": 5,
   "id": "b467b818",
   "metadata": {},
   "outputs": [
    {
     "data": {
      "text/plain": [
       "10920"
      ]
     },
     "execution_count": 5,
     "metadata": {},
     "output_type": "execute_result"
    }
   ],
   "source": [
    "lattice([0, 1, 2], [2, 5]) # 210 * 52"
   ]
  },
  {
   "cell_type": "code",
   "execution_count": 6,
   "id": "4323e116",
   "metadata": {},
   "outputs": [
    {
     "data": {
      "text/plain": [
       "210"
      ]
     },
     "execution_count": 6,
     "metadata": {},
     "output_type": "execute_result"
    }
   ],
   "source": [
    "lattice([0, 1], [1, 2]) # 10 * 21 = 210"
   ]
  },
  {
   "cell_type": "code",
   "execution_count": 7,
   "id": "424470de",
   "metadata": {},
   "outputs": [],
   "source": [
    "# Peasant Multiplication\n",
    "# Page 6\n",
    "\n",
    "def peasant(x: int, y: int) -> int:\n",
    "    prod = 0\n",
    "    while x > 0:\n",
    "        if x % 2 != 0:\n",
    "            prod += y\n",
    "        x = math.floor(x/2)\n",
    "        y = y + y\n",
    "    \n",
    "    return prod"
   ]
  },
  {
   "cell_type": "code",
   "execution_count": 8,
   "id": "f42f8278",
   "metadata": {},
   "outputs": [
    {
     "data": {
      "text/plain": [
       "150"
      ]
     },
     "execution_count": 8,
     "metadata": {},
     "output_type": "execute_result"
    }
   ],
   "source": [
    "peasant(10, 15)"
   ]
  },
  {
   "cell_type": "code",
   "execution_count": 9,
   "id": "55843c00",
   "metadata": {},
   "outputs": [],
   "source": [
    "def peasant_recursive(x: int, y: int) -> int:\n",
    "    if x == 1:\n",
    "        return y\n",
    "    \n",
    "    if x % 2 != 0:\n",
    "        return y + peasant_recursive(math.floor(x/2), 2*y)\n",
    "    \n",
    "    if x % 2 == 0:\n",
    "        return peasant_recursive(x/2, 2*y)"
   ]
  },
  {
   "cell_type": "code",
   "execution_count": 10,
   "id": "405c6550",
   "metadata": {},
   "outputs": [
    {
     "data": {
      "text/plain": [
       "150"
      ]
     },
     "execution_count": 10,
     "metadata": {},
     "output_type": "execute_result"
    }
   ],
   "source": [
    "peasant_recursive(10, 15)"
   ]
  },
  {
   "cell_type": "code",
   "execution_count": 36,
   "id": "42c07fff",
   "metadata": {},
   "outputs": [],
   "source": [
    "from dataclasses import dataclass\n",
    "\n",
    "@dataclass\n",
    "class State:\n",
    "    name: str\n",
    "    ppl: int\n",
    "    priority: int = 0\n",
    "    nreps: int = 1\n",
    "    \n",
    "    def __lt__(self, other):\n",
    "        return self.priority < other.priority\n",
    "    \n",
    "    def __gt__(self, other):\n",
    "        return self.priority > other.priority\n",
    "    \n",
    "    def __le__(self, other):\n",
    "        return self.priority <= other.priority\n",
    "    \n",
    "    def __ge__(self, other):\n",
    "        return self.priority >= other.priority\n",
    "    \n",
    "    def __eq__(self, other):\n",
    "        return self.priority == other.priority\n",
    "    \n",
    "    def __ne__(self, other):\n",
    "        return self.priority != other.priority\n",
    "    \n",
    "def apportion_congress(states: list[State], nrep: int) -> dict:\n",
    "    # Initializing nrep\n",
    "    nrep = nrep - 50\n",
    "    \n",
    "    while nrep > 0:\n",
    "        # Recalculate all priorities:\n",
    "        for state in states:\n",
    "            state.priority = state.ppl / math.sqrt(state.nreps * (state.nreps + 1))\n",
    "        # Reorder list by priority\n",
    "        \n",
    "        max_priority_state = max(states)\n",
    "        \n",
    "        if nrep <= 0:\n",
    "            break\n",
    "                \n",
    "        max_priority_state.nreps += 1\n",
    "        nrep -= 1\n",
    "    \n",
    "    return states\n",
    "    "
   ]
  },
  {
   "cell_type": "code",
   "execution_count": 37,
   "id": "08e2d080",
   "metadata": {},
   "outputs": [],
   "source": [
    " state_ppls = {\n",
    "\t\"California\": 39766650,\n",
    "\t\"Texas\": 29545499,\n",
    "\t\"Florida\": 21811875,\n",
    "\t\"New York\": 20283564,\n",
    "\t\"Pennsylvania\": 13032732,\n",
    "\t\"Illinois\": 12810696,\n",
    "\t\"Ohio\": 11825742,\n",
    "\t\"Georgia\": 10814334,\n",
    "\t\"North Carolina\": 10529778,\n",
    "\t\"Michigan\": 10096700,\n",
    "\t\"New Jersey\": 9338704,\n",
    "\t\"Virginia\": 8694430,\n",
    "\t\"Washington\": 7803355,\n",
    "\t\"Arizona\": 7227450,\n",
    "\t\"Massachusetts\": 7078146,\n",
    "\t\"Tennessee\": 6967314,\n",
    "\t\"Indiana\": 6815701,\n",
    "\t\"Maryland\": 6217591,\n",
    "\t\"Missouri\": 6171512,\n",
    "\t\"Wisconsin\": 5914391,\n",
    "\t\"Colorado\": 5848166,\n",
    "\t\"Minnesota\": 5746751,\n",
    "\t\"South Carolina\": 5167731,\n",
    "\t\"Alabama\": 5048733,\n",
    "\t\"Louisiana\": 4670195,\n",
    "\t\"Kentucky\": 4522483,\n",
    "\t\"Oregon\": 4277874,\n",
    "\t\"Oklahoma\": 3980153,\n",
    "\t\"Connecticut\": 3609129,\n",
    "\t\"Utah\": 3322389,\n",
    "\t\"Iowa\": 3204770,\n",
    "\t\"Nevada\": 3145020,\n",
    "\t\"Arkansas\": 3021085,\n",
    "\t\"Mississippi\": 2960677,\n",
    "\t\"Kansas\": 2946356,\n",
    "\t\"New Mexico\": 2123356,\n",
    "\t\"Nebraska\": 1975020,\n",
    "\t\"Idaho\": 1866258,\n",
    "\t\"West Virginia\": 1787788,\n",
    "\t\"Hawaii\": 1464768,\n",
    "\t\"New Hampshire\": 1383635,\n",
    "\t\"Maine\": 1365759,\n",
    "\t\"Rhode Island\": 1101860,\n",
    "\t\"Montana\": 1093706,\n",
    "\t\"Delaware\": 999149,\n",
    "\t\"South Dakota\": 893916,\n",
    "\t\"North Dakota\": 789744,\n",
    "\t\"Alaska\": 735707,\n",
    "\t\"Vermont\": 644811,\n",
    "\t\"Wyoming\": 578173,\n",
    "}\n",
    "\n",
    "states = []\n",
    "    \n",
    "for state, ppl in state_ppls.items():\n",
    "    states.append(State(name=state, ppl=ppl))\n"
   ]
  },
  {
   "cell_type": "code",
   "execution_count": 38,
   "id": "bc6dc5f6",
   "metadata": {},
   "outputs": [
    {
     "data": {
      "text/plain": [
       "[State(name='California', ppl=39766650, priority=757494.3542644801, nreps=52),\n",
       " State(name='Texas', ppl=29545499, priority=767480.2837449622, nreps=38),\n",
       " State(name='Florida', ppl=21811875, priority=765446.7537182866, nreps=28),\n",
       " State(name='New York', ppl=20283564, priority=765553.7895934031, nreps=26),\n",
       " State(name='Pennsylvania', ppl=13032732, priority=745031.6995138332, nreps=17),\n",
       " State(name='Illinois', ppl=12810696, priority=732338.7462302658, nreps=17),\n",
       " State(name='Ohio', ppl=11825742, priority=763348.3637090932, nreps=15),\n",
       " State(name='Georgia', ppl=10814334, priority=746259.9440625039, nreps=14),\n",
       " State(name='North Carolina', ppl=10529778, priority=726623.7145320816, nreps=14),\n",
       " State(name='Michigan', ppl=10096700, priority=748417.197553214, nreps=13),\n",
       " State(name='New Jersey', ppl=9338704, priority=747694.7152260912, nreps=12),\n",
       " State(name='Virginia', ppl=8694430, priority=756752.997135449, nreps=11),\n",
       " State(name='Washington', ppl=7803355, priority=744020.7063102539, nreps=10),\n",
       " State(name='Arizona', ppl=7227450, priority=761840.1224994651, nreps=9),\n",
       " State(name='Massachusetts', ppl=7078146, priority=746102.0990403391, nreps=9),\n",
       " State(name='Tennessee', ppl=6967314, priority=734419.380452613, nreps=9),\n",
       " State(name='Indiana', ppl=6815701, priority=718437.9670229094, nreps=9),\n",
       " State(name='Maryland', ppl=6217591, priority=732750.126457408, nreps=8),\n",
       " State(name='Missouri', ppl=6171512, priority=727319.6642290255, nreps=8),\n",
       " State(name='Wisconsin', ppl=5914391, priority=697017.6637814477, nreps=8),\n",
       " State(name='Colorado', ppl=5848166, priority=689212.9726841012, nreps=8),\n",
       " State(name='Minnesota', ppl=5746751, priority=767941.9046107334, nreps=8),\n",
       " State(name='South Carolina', ppl=5167731, priority=690567.1024646674, nreps=7),\n",
       " State(name='Alabama', ppl=5048733, priority=674665.32583212, nreps=7),\n",
       " State(name='Louisiana', ppl=4670195, priority=720626.7334762118, nreps=6),\n",
       " State(name='Kentucky', ppl=4522483, priority=697834.2770466113, nreps=6),\n",
       " State(name='Oregon', ppl=4277874, priority=660090.2889157339, nreps=6),\n",
       " State(name='Oklahoma', ppl=3980153, priority=726673.1934739532, nreps=5),\n",
       " State(name='Connecticut', ppl=3609129, priority=658933.7887486876, nreps=5),\n",
       " State(name='Utah', ppl=3322389, priority=742908.7651697549, nreps=4),\n",
       " State(name='Iowa', ppl=3204770, priority=716608.3572252, nreps=4),\n",
       " State(name='Nevada', ppl=3145020, priority=703247.8510596388, nreps=4),\n",
       " State(name='Arkansas', ppl=3021085, priority=675535.1425804952, nreps=4),\n",
       " State(name='Mississippi', ppl=2960677, priority=662027.5031420145, nreps=4),\n",
       " State(name='Kansas', ppl=2946356, priority=658825.2301914371, nreps=4),\n",
       " State(name='New Mexico', ppl=2123356, priority=612960.0790927035, nreps=3),\n",
       " State(name='Nebraska', ppl=1975020, priority=570139.1643274474, nreps=3),\n",
       " State(name='Idaho', ppl=1866258, priority=761896.6380645081, nreps=2),\n",
       " State(name='West Virginia', ppl=1787788, priority=729861.3947118088, nreps=2),\n",
       " State(name='Hawaii', ppl=1464768, priority=597989.0319261717, nreps=2),\n",
       " State(name='New Hampshire', ppl=1383635, priority=564866.6233759671, nreps=2),\n",
       " State(name='Maine', ppl=1365759, priority=557568.7769356351, nreps=2),\n",
       " State(name='Rhode Island', ppl=1101860, priority=449832.46133051213, nreps=2),\n",
       " State(name='Montana', ppl=1093706, priority=446503.6047700698, nreps=2),\n",
       " State(name='Delaware', ppl=999149, priority=706505.0333157578, nreps=1),\n",
       " State(name='South Dakota', ppl=893916, priority=632094.0654111538, nreps=1),\n",
       " State(name='North Dakota', ppl=789744, priority=558433.3378013887, nreps=1),\n",
       " State(name='Alaska', ppl=735707, priority=520223.4086664113, nreps=1),\n",
       " State(name='Vermont', ppl=644811, priority=455950.2306836789, nreps=1),\n",
       " State(name='Wyoming', ppl=578173, priority=408830.0489989697, nreps=1)]"
      ]
     },
     "execution_count": 38,
     "metadata": {},
     "output_type": "execute_result"
    }
   ],
   "source": [
    "apportion_congress(states, 435)"
   ]
  },
  {
   "cell_type": "code",
   "execution_count": null,
   "id": "dd320295",
   "metadata": {},
   "outputs": [],
   "source": []
  },
  {
   "cell_type": "code",
   "execution_count": null,
   "id": "12f2fea6",
   "metadata": {},
   "outputs": [],
   "source": []
  },
  {
   "cell_type": "code",
   "execution_count": null,
   "id": "b8748dca",
   "metadata": {},
   "outputs": [],
   "source": []
  }
 ],
 "metadata": {
  "kernelspec": {
   "display_name": "Python 3 (ipykernel)",
   "language": "python",
   "name": "python3"
  },
  "language_info": {
   "codemirror_mode": {
    "name": "ipython",
    "version": 3
   },
   "file_extension": ".py",
   "mimetype": "text/x-python",
   "name": "python",
   "nbconvert_exporter": "python",
   "pygments_lexer": "ipython3",
   "version": "3.10.4"
  }
 },
 "nbformat": 4,
 "nbformat_minor": 5
}
