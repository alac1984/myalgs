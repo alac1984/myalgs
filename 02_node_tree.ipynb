{
 "cells": [
  {
   "cell_type": "markdown",
   "id": "3469eb56",
   "metadata": {},
   "source": [
    "### Node class"
   ]
  },
  {
   "cell_type": "code",
   "execution_count": 1,
   "id": "e8e37497",
   "metadata": {},
   "outputs": [],
   "source": [
    "from dataclasses import dataclass, field\n",
    "\n",
    "@dataclass\n",
    "class Node:\n",
    "    name: str\n",
    "    neighbors: list = field(default_factory=list)\n",
    "        \n",
    "    def __eq__(self, other) -> bool:\n",
    "        return self.name == other.name\n",
    "    \n",
    "    def add_neighbor(self, node) -> None:\n",
    "        self.neighbors.append(node)\n"
   ]
  },
  {
   "cell_type": "markdown",
   "id": "626cf423",
   "metadata": {},
   "source": [
    "### Tree class"
   ]
  },
  {
   "cell_type": "code",
   "execution_count": 1,
   "id": "da464779",
   "metadata": {},
   "outputs": [
    {
     "ename": "NameError",
     "evalue": "name 'dataclass' is not defined",
     "output_type": "error",
     "traceback": [
      "\u001b[0;31m---------------------------------------------------------------------------\u001b[0m",
      "\u001b[0;31mNameError\u001b[0m                                 Traceback (most recent call last)",
      "Input \u001b[0;32mIn [1]\u001b[0m, in \u001b[0;36m<cell line: 1>\u001b[0;34m()\u001b[0m\n\u001b[0;32m----> 1\u001b[0m \u001b[38;5;129m@dataclass\u001b[39m\n\u001b[1;32m      2\u001b[0m \u001b[38;5;28;01mclass\u001b[39;00m \u001b[38;5;21;01mTree\u001b[39;00m:\n\u001b[1;32m      3\u001b[0m     name: \u001b[38;5;28mstr\u001b[39m\n\u001b[1;32m      4\u001b[0m     nodes: \u001b[38;5;28mlist\u001b[39m[Node] \u001b[38;5;241m=\u001b[39m field(default_factory\u001b[38;5;241m=\u001b[39m\u001b[38;5;28mlist\u001b[39m)\n",
      "\u001b[0;31mNameError\u001b[0m: name 'dataclass' is not defined"
     ]
    }
   ],
   "source": [
    "@dataclass\n",
    "class Tree:\n",
    "    name: str\n",
    "    nodes: list[Node] = field(default_factory=list)\n",
    "    \n",
    "    def add_node(self, node: Node) -> None:\n",
    "        if self.has_node(node.name):\n",
    "            raise ValueError(\"You cannot have two nodes with the same name\")\n",
    "        self.nodes.append(node)\n",
    "    \n",
    "    def has_node(self, nodename: str) -> bool:\n",
    "        return Node(nodename) in self.nodes\n",
    "    \n",
    "    def get_node(self, nodename: str):\n",
    "        for node in self.nodes:\n",
    "            if node.name == nodename:\n",
    "                return node\n",
    "        return None\n",
    "    \n",
    "    @classmethod\n",
    "    def from_dict(cls, name: str, data: dict):\n",
    "        tree = cls(name)\n",
    "        for nodename, neighbornames in data.items():\n",
    "            node = Node(nodename)\n",
    "            if not tree.has_node(nodename):\n",
    "                tree.add_node(node)\n",
    "            else:\n",
    "                node = tree.get_node(nodename)\n",
    "            for neighborname in neighbornames:\n",
    "                if not tree.has_node(neighborname):\n",
    "                    neighbor = Node(neighborname)\n",
    "                    tree.add_node(neighbor)\n",
    "                    node.add_neighbor(neighbor)\n",
    "                else:\n",
    "                    neighbor = tree.get_node(neighborname)\n",
    "                    node.add_neighbor(neighbor)\n",
    "        \n",
    "        return tree"
   ]
  },
  {
   "cell_type": "code",
   "execution_count": null,
   "id": "dff68e8a",
   "metadata": {},
   "outputs": [],
   "source": [
    "print(\"Node and Tree classes added to path\")"
   ]
  }
 ],
 "metadata": {
  "kernelspec": {
   "display_name": "Python 3 (ipykernel)",
   "language": "python",
   "name": "python3"
  },
  "language_info": {
   "codemirror_mode": {
    "name": "ipython",
    "version": 3
   },
   "file_extension": ".py",
   "mimetype": "text/x-python",
   "name": "python",
   "nbconvert_exporter": "python",
   "pygments_lexer": "ipython3",
   "version": "3.10.4"
  }
 },
 "nbformat": 4,
 "nbformat_minor": 5
}
