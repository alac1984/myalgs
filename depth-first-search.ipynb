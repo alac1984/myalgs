{
 "cells": [
  {
   "cell_type": "markdown",
   "id": "c8dc54fa",
   "metadata": {},
   "source": [
    "### Node class"
   ]
  },
  {
   "cell_type": "code",
   "execution_count": 8,
   "id": "e8e37497",
   "metadata": {},
   "outputs": [],
   "source": [
    "from dataclasses import dataclass, field\n",
    "\n",
    "@dataclass\n",
    "class Node:\n",
    "    name: str\n",
    "    neighbors: list = field(default_factory=list)\n",
    "        \n",
    "    def __eq__(self, other) -> bool:\n",
    "        return self.name == other.name\n",
    "    \n",
    "    def add_neighbor(self, node) -> None:\n",
    "        self.neighbors.append(node)\n"
   ]
  },
  {
   "cell_type": "markdown",
   "id": "18047ccf",
   "metadata": {},
   "source": [
    "### Tree class"
   ]
  },
  {
   "cell_type": "code",
   "execution_count": 18,
   "id": "da464779",
   "metadata": {},
   "outputs": [],
   "source": [
    "@dataclass\n",
    "class Tree:\n",
    "    name: str\n",
    "    nodes: list[Node] = field(default_factory=list)\n",
    "    \n",
    "    def add_node(self, node: Node) -> None:\n",
    "        if self.has_node(node.name):\n",
    "            raise ValueError(\"You cannot have two nodes with the same name\")\n",
    "        self.nodes.append(node)\n",
    "    \n",
    "    def has_node(self, nodename: str) -> bool:\n",
    "        return Node(nodename) in self.nodes\n",
    "    \n",
    "    def get_node(self, nodename: str):\n",
    "        for node in self.nodes:\n",
    "            if node.name == nodename:\n",
    "                return node\n",
    "        return None\n",
    "    \n",
    "    def depth_first_walk(self, start: str):\n",
    "        start_node = self.get_node(start)\n",
    "        stack = [start_node]\n",
    "        \n",
    "        while len(stack) > 0:\n",
    "            current = stack.pop()\n",
    "            print(current.name)\n",
    "            for node in current.neighbors:\n",
    "                stack.append(node)\n",
    "    \n",
    "    @classmethod\n",
    "    def from_dict(cls, name: str, data: dict):\n",
    "        tree = cls(name)\n",
    "        for nodename, neighbornames in data.items():\n",
    "            node = Node(nodename)\n",
    "            if not tree.has_node(nodename):\n",
    "                tree.add_node(node)\n",
    "            else:\n",
    "                node = tree.get_node(nodename)\n",
    "            for neighborname in neighbornames:\n",
    "                if not tree.has_node(neighborname):\n",
    "                    neighbor = Node(neighborname)\n",
    "                    tree.add_node(neighbor)\n",
    "                    node.add_neighbor(neighbor)\n",
    "                else:\n",
    "                    neighbor = tree.get_node(neighborname)\n",
    "                    node.add_neighbor(neighbor)\n",
    "        \n",
    "        return tree\n",
    "\n"
   ]
  },
  {
   "cell_type": "markdown",
   "id": "483f98b8",
   "metadata": {},
   "source": [
    "### Creating a graph using a dict"
   ]
  },
  {
   "cell_type": "code",
   "execution_count": 19,
   "id": "793c5934",
   "metadata": {},
   "outputs": [
    {
     "name": "stdout",
     "output_type": "stream",
     "text": [
      "Tree(name='tree', nodes=[Node(name='a', neighbors=[Node(name='b', neighbors=[Node(name='d', neighbors=[Node(name='f', neighbors=[])])]), Node(name='c', neighbors=[Node(name='e', neighbors=[])])]), Node(name='b', neighbors=[Node(name='d', neighbors=[Node(name='f', neighbors=[])])]), Node(name='c', neighbors=[Node(name='e', neighbors=[])]), Node(name='d', neighbors=[Node(name='f', neighbors=[])]), Node(name='e', neighbors=[]), Node(name='f', neighbors=[])])\n"
     ]
    }
   ],
   "source": [
    "graph = {\n",
    "    \"a\": [\"b\", \"c\"],\n",
    "    \"b\": [\"d\"],\n",
    "    \"c\": [\"e\"],\n",
    "    \"d\": [\"f\"],\n",
    "    \"e\": [],\n",
    "    \"f\": []\n",
    "}\n",
    "\n",
    "tree = Tree.from_dict(\"tree\", graph)\n",
    "print(tree)"
   ]
  },
  {
   "cell_type": "markdown",
   "id": "3480d8bf",
   "metadata": {},
   "source": [
    "### Depth First Search"
   ]
  },
  {
   "cell_type": "code",
   "execution_count": 20,
   "id": "9904fde3",
   "metadata": {},
   "outputs": [
    {
     "name": "stdout",
     "output_type": "stream",
     "text": [
      "a\n",
      "c\n",
      "e\n",
      "b\n",
      "d\n",
      "f\n"
     ]
    }
   ],
   "source": [
    "tree.depth_first_walk('a')"
   ]
  },
  {
   "cell_type": "code",
   "execution_count": null,
   "id": "b653fe41",
   "metadata": {},
   "outputs": [],
   "source": []
  }
 ],
 "metadata": {
  "kernelspec": {
   "display_name": "Python 3 (ipykernel)",
   "language": "python",
   "name": "python3"
  },
  "language_info": {
   "codemirror_mode": {
    "name": "ipython",
    "version": 3
   },
   "file_extension": ".py",
   "mimetype": "text/x-python",
   "name": "python",
   "nbconvert_exporter": "python",
   "pygments_lexer": "ipython3",
   "version": "3.10.4"
  }
 },
 "nbformat": 4,
 "nbformat_minor": 5
}
