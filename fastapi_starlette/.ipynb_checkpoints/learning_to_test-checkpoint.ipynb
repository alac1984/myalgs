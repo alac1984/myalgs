{
 "cells": [
  {
   "cell_type": "code",
   "execution_count": 3,
   "id": "6d4169d9",
   "metadata": {},
   "outputs": [
    {
     "data": {
      "text/plain": [
       "Headers({'authorization': 'Bearer aslkjfaçlj'})"
      ]
     },
     "execution_count": 3,
     "metadata": {},
     "output_type": "execute_result"
    }
   ],
   "source": [
    "# Learning how to create a request with headers\n",
    "\n",
    "from fastapi import Request\n",
    "from starlette.datastructures import Headers\n",
    "\n",
    "request = Request({\"type\": \"http\"})\n",
    "request._headers = Headers(headers={\"Authorization\": \"Bearer aslkjfaçlj\"})\n",
    "request.headers"
   ]
  },
  {
   "cell_type": "code",
   "execution_count": null,
   "id": "75c6dd73",
   "metadata": {},
   "outputs": [],
   "source": []
  }
 ],
 "metadata": {
  "kernelspec": {
   "display_name": "Python 3 (ipykernel)",
   "language": "python",
   "name": "python3"
  },
  "language_info": {
   "codemirror_mode": {
    "name": "ipython",
    "version": 3
   },
   "file_extension": ".py",
   "mimetype": "text/x-python",
   "name": "python",
   "nbconvert_exporter": "python",
   "pygments_lexer": "ipython3",
   "version": "3.10.6"
  }
 },
 "nbformat": 4,
 "nbformat_minor": 5
}
