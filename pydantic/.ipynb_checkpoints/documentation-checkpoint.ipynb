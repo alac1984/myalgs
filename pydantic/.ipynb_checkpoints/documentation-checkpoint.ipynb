{
 "cells": [
  {
   "cell_type": "code",
   "execution_count": 5,
   "id": "63e59853",
   "metadata": {},
   "outputs": [
    {
     "name": "stdout",
     "output_type": "stream",
     "text": [
      "True\n"
     ]
    }
   ],
   "source": [
    "import pydantic\n",
    "\n",
    "# Check if pydantic was compiled with Cython (50% faster if so)\n",
    "print(pydantic.compiled)"
   ]
  },
  {
   "cell_type": "code",
   "execution_count": 6,
   "id": "6443b4fe",
   "metadata": {},
   "outputs": [
    {
     "name": "stdout",
     "output_type": "stream",
     "text": [
      "id=1 friends=[1, 2, 3] name='André'\n"
     ]
    }
   ],
   "source": [
    "from pydantic import BaseModel\n",
    "\n",
    "class User(BaseModel):\n",
    "    id: int\n",
    "    name = \"Jane Doe\" # type infered by default value\n",
    "    friends: list[int] = []\n",
    "    \n",
    "# Data that will be parsed (and validated)\n",
    "data = {\n",
    "    \"id\": \"1\", # It will be converted to int\n",
    "    \"name\": \"André\",\n",
    "    \"friends\": [1, 2, 3]\n",
    "}\n",
    "\n",
    "# Parsing data\n",
    "user = User(**data)\n",
    "print(user)"
   ]
  },
  {
   "cell_type": "code",
   "execution_count": null,
   "id": "a64d89ab",
   "metadata": {},
   "outputs": [],
   "source": []
  }
 ],
 "metadata": {
  "kernelspec": {
   "display_name": "Python 3 (ipykernel)",
   "language": "python",
   "name": "python3"
  },
  "language_info": {
   "codemirror_mode": {
    "name": "ipython",
    "version": 3
   },
   "file_extension": ".py",
   "mimetype": "text/x-python",
   "name": "python",
   "nbconvert_exporter": "python",
   "pygments_lexer": "ipython3",
   "version": "3.10.6"
  }
 },
 "nbformat": 4,
 "nbformat_minor": 5
}
