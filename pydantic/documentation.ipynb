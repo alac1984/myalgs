{
 "cells": [
  {
   "cell_type": "code",
   "execution_count": 1,
   "id": "63e59853",
   "metadata": {},
   "outputs": [
    {
     "name": "stdout",
     "output_type": "stream",
     "text": [
      "True\n"
     ]
    }
   ],
   "source": [
    "import pydantic\n",
    "\n",
    "# Check if pydantic was compiled with Cython (50% faster if so)\n",
    "print(pydantic.compiled)"
   ]
  },
  {
   "cell_type": "code",
   "execution_count": 2,
   "id": "6443b4fe",
   "metadata": {},
   "outputs": [
    {
     "data": {
      "text/plain": [
       "User(id=1, friends=[1, 2, 3], name='André')"
      ]
     },
     "execution_count": 2,
     "metadata": {},
     "output_type": "execute_result"
    }
   ],
   "source": [
    "from pydantic import BaseModel\n",
    "\n",
    "class User(BaseModel):\n",
    "    id: int\n",
    "    name = \"Jane Doe\" # type infered by default value\n",
    "    friends: list[int] = []\n",
    "    \n",
    "# Data that will be parsed (and validated)\n",
    "data = {\n",
    "    \"id\": \"1\", # It will be converted to int\n",
    "    \"name\": \"André\",\n",
    "    \"friends\": [1, 2, 3]\n",
    "}\n",
    "\n",
    "# Parsing data\n",
    "user = User(**data)\n",
    "user"
   ]
  },
  {
   "cell_type": "code",
   "execution_count": 3,
   "id": "5c9e0025",
   "metadata": {},
   "outputs": [
    {
     "data": {
      "text/plain": [
       "'{\"id\": 1, \"friends\": [1, 2, 3], \"name\": \"Andr\\\\u00e9\"}'"
      ]
     },
     "execution_count": 3,
     "metadata": {},
     "output_type": "execute_result"
    }
   ],
   "source": [
    "# Convert to json\n",
    "user.json()"
   ]
  },
  {
   "cell_type": "code",
   "execution_count": 4,
   "id": "e6765a18",
   "metadata": {},
   "outputs": [
    {
     "data": {
      "text/plain": [
       "{'id': 1, 'friends': [1, 2, 3], 'name': 'André'}"
      ]
     },
     "execution_count": 4,
     "metadata": {},
     "output_type": "execute_result"
    }
   ],
   "source": [
    "# Convert to dict\n",
    "user.dict()"
   ]
  },
  {
   "cell_type": "code",
   "execution_count": 5,
   "id": "5cd59578",
   "metadata": {},
   "outputs": [],
   "source": [
    "# Copy a model\n",
    "user2 = user.copy()\n",
    "user2\n",
    "\n",
    "# Shallow copy\n",
    "assert not id(user) == id(user2) # Not the same object\n",
    "assert id(user.id) == id(user2.id) # But the same attributes"
   ]
  },
  {
   "cell_type": "code",
   "execution_count": 6,
   "id": "3ee42fb6",
   "metadata": {},
   "outputs": [
    {
     "data": {
      "text/plain": [
       "'{\"title\": \"User\", \"type\": \"object\", \"properties\": {\"id\": {\"title\": \"Id\", \"type\": \"integer\"}, \"friends\": {\"title\": \"Friends\", \"default\": [], \"type\": \"array\", \"items\": {\"type\": \"integer\"}}, \"name\": {\"title\": \"Name\", \"default\": \"Jane Doe\", \"type\": \"string\"}}, \"required\": [\"id\"]}'"
      ]
     },
     "execution_count": 6,
     "metadata": {},
     "output_type": "execute_result"
    }
   ],
   "source": [
    "# Returns a JSON Schema\n",
    "user.schema_json()"
   ]
  },
  {
   "cell_type": "code",
   "execution_count": 11,
   "id": "6a73f38e",
   "metadata": {},
   "outputs": [
    {
     "data": {
      "text/plain": [
       "Proxy(address='http://localhost', users=[User(id=1, friends=[1, 2, 3], name='André'), User(id=1, friends=[1, 2, 3], name='André')])"
      ]
     },
     "execution_count": 11,
     "metadata": {},
     "output_type": "execute_result"
    }
   ],
   "source": [
    "# Complex objects\n",
    "\n",
    "class Proxy(BaseModel):\n",
    "    address: str\n",
    "    users: list[User] = []\n",
    "\n",
    "proxy = Proxy(\n",
    "    address=\"http://localhost\"\n",
    ")\n",
    "proxy.users.append(user)\n",
    "proxy.users.append(user2)\n",
    "\n",
    "proxy"
   ]
  },
  {
   "cell_type": "code",
   "execution_count": null,
   "id": "2adacaf1",
   "metadata": {},
   "outputs": [],
   "source": []
  }
 ],
 "metadata": {
  "kernelspec": {
   "display_name": "Python 3 (ipykernel)",
   "language": "python",
   "name": "python3"
  },
  "language_info": {
   "codemirror_mode": {
    "name": "ipython",
    "version": 3
   },
   "file_extension": ".py",
   "mimetype": "text/x-python",
   "name": "python",
   "nbconvert_exporter": "python",
   "pygments_lexer": "ipython3",
   "version": "3.10.6"
  }
 },
 "nbformat": 4,
 "nbformat_minor": 5
}
