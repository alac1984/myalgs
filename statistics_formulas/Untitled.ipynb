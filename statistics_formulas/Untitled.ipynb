{
 "cells": [
  {
   "cell_type": "markdown",
   "id": "62ff305c",
   "metadata": {},
   "source": [
    "### T-Test Implementation"
   ]
  },
  {
   "cell_type": "code",
   "execution_count": 34,
   "id": "b8503bcb",
   "metadata": {},
   "outputs": [],
   "source": [
    "import scipy.stats as stats\n",
    "from decimal import Decimal as D\n",
    "from fractions import Fraction as F\n",
    "from statistics import mean as m\n",
    "from statistics import variance as v\n",
    "from math import sqrt\n",
    "from enum import Enum\n",
    "\n",
    "class Tails(Enum):\n",
    "    ONE = 1\n",
    "    TWO = 2\n",
    "\n",
    "class Type(Enum):\n",
    "    INDE = 1\n",
    "    PAIR = 2\n",
    "    \n",
    "def t_value(\n",
    "    data1: list[int] or list[float] or list[D] or list[F],\n",
    "    data2: list[int] or list[float] or list[D] or list[F],\n",
    "    type_: Type = Type.INDE\n",
    ") -> float: \n",
    "    # from IPython.core.debugger import Pdb; Pdb().set_trace()\n",
    "    if type_.value != 1 and type_.value != 2:\n",
    "        raise ValueError(\"Test type unknown\")\n",
    "        \n",
    "    if type_ == 1:\n",
    "        return (\n",
    "            float(abs(m(data1) - m(data2)))/float(sqrt(v(data1)/len(data1) + v(data2)/len(data2)))\n",
    "        ) \n",
    "    else:\n",
    "        diff = [d1 - d2 for d1, d2 in zip(data1, data2)]\n",
    "        mean_diff = m(diff)\n",
    "        return (\n",
    "            float(mean_diff) / sqrt(v(diff) / len(diff))\n",
    "        )"
   ]
  },
  {
   "cell_type": "code",
   "execution_count": 35,
   "id": "2f7822ae",
   "metadata": {},
   "outputs": [
    {
     "ename": "ZeroDivisionError",
     "evalue": "float division by zero",
     "output_type": "error",
     "traceback": [
      "\u001b[0;31m---------------------------------------------------------------------------\u001b[0m",
      "\u001b[0;31mZeroDivisionError\u001b[0m                         Traceback (most recent call last)",
      "Cell \u001b[0;32mIn[35], line 3\u001b[0m\n\u001b[1;32m      1\u001b[0m \u001b[38;5;66;03m# Testing get_t_value\u001b[39;00m\n\u001b[0;32m----> 3\u001b[0m \u001b[43mt_value\u001b[49m\u001b[43m(\u001b[49m\u001b[43m[\u001b[49m\u001b[38;5;241;43m1\u001b[39;49m\u001b[43m,\u001b[49m\u001b[38;5;241;43m2\u001b[39;49m\u001b[43m,\u001b[49m\u001b[38;5;241;43m3\u001b[39;49m\u001b[43m,\u001b[49m\u001b[38;5;241;43m4\u001b[39;49m\u001b[43m]\u001b[49m\u001b[43m,\u001b[49m\u001b[43m \u001b[49m\u001b[43m[\u001b[49m\u001b[38;5;241;43m2\u001b[39;49m\u001b[43m,\u001b[49m\u001b[38;5;241;43m3\u001b[39;49m\u001b[43m,\u001b[49m\u001b[38;5;241;43m4\u001b[39;49m\u001b[43m,\u001b[49m\u001b[38;5;241;43m5\u001b[39;49m\u001b[43m]\u001b[49m\u001b[43m,\u001b[49m\u001b[43m \u001b[49m\u001b[43mType\u001b[49m\u001b[38;5;241;43m.\u001b[39;49m\u001b[43mINDE\u001b[49m\u001b[43m)\u001b[49m\n\u001b[1;32m      4\u001b[0m \u001b[38;5;66;03m# t_value([F(2,3), F(3,4), F(4,5)], [F(2,4), F(3,5), F(4,6)])\u001b[39;00m\n\u001b[1;32m      5\u001b[0m \u001b[38;5;66;03m# t_value([D(2.12), D(3.4), D(4.5)], [D(2.4), D(3.5), D(4.6)])\u001b[39;00m\n",
      "Cell \u001b[0;32mIn[34], line 34\u001b[0m, in \u001b[0;36mt_value\u001b[0;34m(data1, data2, type_)\u001b[0m\n\u001b[1;32m     31\u001b[0m diff \u001b[38;5;241m=\u001b[39m [d1 \u001b[38;5;241m-\u001b[39m d2 \u001b[38;5;28;01mfor\u001b[39;00m d1, d2 \u001b[38;5;129;01min\u001b[39;00m \u001b[38;5;28mzip\u001b[39m(data1, data2)]\n\u001b[1;32m     32\u001b[0m mean_diff \u001b[38;5;241m=\u001b[39m m(diff)\n\u001b[1;32m     33\u001b[0m \u001b[38;5;28;01mreturn\u001b[39;00m (\n\u001b[0;32m---> 34\u001b[0m     \u001b[38;5;28;43mfloat\u001b[39;49m\u001b[43m(\u001b[49m\u001b[43mmean_diff\u001b[49m\u001b[43m)\u001b[49m\u001b[43m \u001b[49m\u001b[38;5;241;43m/\u001b[39;49m\u001b[43m \u001b[49m\u001b[43msqrt\u001b[49m\u001b[43m(\u001b[49m\u001b[43mv\u001b[49m\u001b[43m(\u001b[49m\u001b[43mdiff\u001b[49m\u001b[43m)\u001b[49m\u001b[43m \u001b[49m\u001b[38;5;241;43m/\u001b[39;49m\u001b[43m \u001b[49m\u001b[38;5;28;43mlen\u001b[39;49m\u001b[43m(\u001b[49m\u001b[43mdiff\u001b[49m\u001b[43m)\u001b[49m\u001b[43m)\u001b[49m\n\u001b[1;32m     35\u001b[0m )\n",
      "\u001b[0;31mZeroDivisionError\u001b[0m: float division by zero"
     ]
    }
   ],
   "source": [
    "# Testing get_t_value\n",
    "\n",
    "t_value([1,2,3,4], [2,3,4,5], Type.INDE)\n",
    "# t_value([F(2,3), F(3,4), F(4,5)], [F(2,4), F(3,5), F(4,6)])\n",
    "# t_value([D(2.12), D(3.4), D(4.5)], [D(2.4), D(3.5), D(4.6)])"
   ]
  },
  {
   "cell_type": "code",
   "execution_count": 5,
   "id": "7b1b5d4f",
   "metadata": {},
   "outputs": [
    {
     "ename": "SyntaxError",
     "evalue": "invalid syntax. Maybe you meant '==' or ':=' instead of '='? (4292425389.py, line 7)",
     "output_type": "error",
     "traceback": [
      "\u001b[0;36m  Cell \u001b[0;32mIn[5], line 7\u001b[0;36m\u001b[0m\n\u001b[0;31m    if type_ = 1:\u001b[0m\n\u001b[0m       ^\u001b[0m\n\u001b[0;31mSyntaxError\u001b[0m\u001b[0;31m:\u001b[0m invalid syntax. Maybe you meant '==' or ':=' instead of '='?\n"
     ]
    }
   ],
   "source": [
    "# Degrees of Freedom\n",
    "\n",
    "def df(len1: int, len2: int, type_: Type = Type.PAIR) -> int:\n",
    "    if type_ != 1 and type_ != 2:\n",
    "        raise ValueError(\"Test type unknown\")\n",
    "    \n",
    "    if type_ = 1:\n",
    "        return len1 + len2 - 2\n",
    "\n",
    "# No need to test it"
   ]
  },
  {
   "cell_type": "code",
   "execution_count": 75,
   "id": "c8ea985b",
   "metadata": {},
   "outputs": [],
   "source": [
    "def t_test(\n",
    "    data1: list[int] or list[float] or list[D] or list[F],\n",
    "    data2: list[int] or list[float] or list[D] or list[F],\n",
    "    alpha: float = 0.05\n",
    ") -> bool:\n",
    "    t = t_value(data1, data2)\n",
    "    v = df(len(data1), len(data2))\n",
    "    return stats.t.sf(t, v) >= alpha"
   ]
  },
  {
   "cell_type": "code",
   "execution_count": 76,
   "id": "391aceb8",
   "metadata": {},
   "outputs": [
    {
     "data": {
      "text/plain": [
       "True"
      ]
     },
     "execution_count": 76,
     "metadata": {},
     "output_type": "execute_result"
    }
   ],
   "source": [
    "field1 = [3, 3, 4, 5, 3, 2, 1, 2, 3, 4, 3]\n",
    "field2 = [4, 3, 2, 4, 4, 2, 3, 5, 5, 4, 4]\n",
    "\n",
    "t_test(field1, field2)"
   ]
  },
  {
   "cell_type": "code",
   "execution_count": null,
   "id": "e8bc61e8",
   "metadata": {},
   "outputs": [],
   "source": []
  }
 ],
 "metadata": {
  "kernelspec": {
   "display_name": "Python 3 (ipykernel)",
   "language": "python",
   "name": "python3"
  },
  "language_info": {
   "codemirror_mode": {
    "name": "ipython",
    "version": 3
   },
   "file_extension": ".py",
   "mimetype": "text/x-python",
   "name": "python",
   "nbconvert_exporter": "python",
   "pygments_lexer": "ipython3",
   "version": "3.10.6"
  }
 },
 "nbformat": 4,
 "nbformat_minor": 5
}
