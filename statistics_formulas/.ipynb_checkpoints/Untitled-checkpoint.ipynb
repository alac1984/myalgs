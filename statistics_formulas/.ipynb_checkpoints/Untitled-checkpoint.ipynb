{
 "cells": [
  {
   "cell_type": "markdown",
   "id": "62ff305c",
   "metadata": {},
   "source": [
    "### T-Test Implementation"
   ]
  },
  {
   "cell_type": "code",
   "execution_count": 45,
   "id": "b8503bcb",
   "metadata": {},
   "outputs": [],
   "source": [
    "# Imports\n",
    "from decimal import Decimal as D\n",
    "from fractions import Fraction as F\n",
    "from statistics import mean as m\n",
    "from statistics import variance as v\n",
    "from math import sqrt"
   ]
  },
  {
   "cell_type": "code",
   "execution_count": 46,
   "id": "6586c644",
   "metadata": {},
   "outputs": [],
   "source": [
    "# T-value\n",
    "def t_value(\n",
    "    data1: list[int] or list[float] or list[D] or list[F],\n",
    "    data2: list[int] or list[float] or list[D] or list[F]\n",
    ") -> float: \n",
    "    # from IPython.core.debugger import Pdb; Pdb().set_trace()\n",
    "    return (\n",
    "        float(abs(m(data1) - m(data2)))/float(sqrt(v(data1)/len(data1) + v(data2)/len(data2)))\n",
    "    ) "
   ]
  },
  {
   "cell_type": "code",
   "execution_count": 47,
   "id": "47ceff95",
   "metadata": {},
   "outputs": [],
   "source": [
    "# Testing get_t_value\n",
    "\n",
    "# t_value([1,2,3,4], [2,3,4,5])\n",
    "# t_value([F(2,3), F(3,4), F(4,5)], [F(2,4), F(3,5), F(4,6)])\n",
    "# t_value([D(2.12), D(3.4), D(4.5)], [D(2.4), D(3.5), D(4.6)])"
   ]
  },
  {
   "cell_type": "code",
   "execution_count": 48,
   "id": "a5f177b8",
   "metadata": {},
   "outputs": [],
   "source": [
    "# Degrees of Freedom\n",
    "\n",
    "def degrees_of_freedom(len1: int, len2: int) -> int:\n",
    "    return len1 + len2 - 2\n",
    "\n",
    "# No need to test it"
   ]
  },
  {
   "cell_type": "code",
   "execution_count": 50,
   "id": "f9bd1c95",
   "metadata": {},
   "outputs": [
    {
     "name": "stdout",
     "output_type": "stream",
     "text": [
      "1.4056338255793728 20\n"
     ]
    }
   ],
   "source": [
    "field1 = [3, 3, 4, 5, 3, 2, 1, 2, 3, 4, 3]\n",
    "field2 = [4, 3, 2, 4, 4, 2, 3, 5, 5, 4, 4]\n",
    "\n",
    "t = t_value(field1, field2)\n",
    "df = degrees_of_freedom(len(field1), len(field2))\n",
    "\n",
    "print(t, df)"
   ]
  },
  {
   "cell_type": "code",
   "execution_count": null,
   "id": "fd0f5381",
   "metadata": {},
   "outputs": [],
   "source": []
  }
 ],
 "metadata": {
  "kernelspec": {
   "display_name": "Python 3 (ipykernel)",
   "language": "python",
   "name": "python3"
  },
  "language_info": {
   "codemirror_mode": {
    "name": "ipython",
    "version": 3
   },
   "file_extension": ".py",
   "mimetype": "text/x-python",
   "name": "python",
   "nbconvert_exporter": "python",
   "pygments_lexer": "ipython3",
   "version": "3.10.6"
  }
 },
 "nbformat": 4,
 "nbformat_minor": 5
}
