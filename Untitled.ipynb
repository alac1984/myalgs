{
 "cells": [
  {
   "cell_type": "code",
   "execution_count": 5,
   "id": "56607d5c",
   "metadata": {},
   "outputs": [],
   "source": [
    "import numpy as np"
   ]
  },
  {
   "cell_type": "code",
   "execution_count": 12,
   "id": "7de92d1c",
   "metadata": {},
   "outputs": [],
   "source": [
    "def done_or_not(aboard): #board[i][j]\n",
    "    board = np.array(aboard)\n",
    "\n",
    "    rows = [board[i,:] for i in range(9)]\n",
    "    cols = [board[:,j] for j in range(9)]\n",
    "    sqrs = [board[i:i+3,j:j+3].flatten() for i in [0,3,6] for j in [0,3,6]]\n",
    "\n",
    "    for view in np.vstack((rows,cols,sqrs)):\n",
    "        if len(np.unique(view)) != 9:\n",
    "            return 'Try again!'\n",
    "\n",
    "    return 'Finished!'"
   ]
  },
  {
   "cell_type": "code",
   "execution_count": 13,
   "id": "ee11839b",
   "metadata": {},
   "outputs": [
    {
     "name": "stdout",
     "output_type": "stream",
     "text": [
      "Finished!\n"
     ]
    }
   ],
   "source": [
    "board = [[1, 3, 2, 5, 7, 9, 4, 6, 8]\n",
    "         ,[4, 9, 8, 2, 6, 1, 3, 7, 5]\n",
    "         ,[7, 5, 6, 3, 8, 4, 2, 1, 9]\n",
    "         ,[6, 4, 3, 1, 5, 8, 7, 9, 2]\n",
    "         ,[5, 2, 1, 7, 9, 3, 8, 4, 6]\n",
    "         ,[9, 8, 7, 4, 2, 6, 5, 3, 1]\n",
    "         ,[2, 1, 4, 9, 3, 5, 6, 8, 7]\n",
    "         ,[3, 6, 5, 8, 1, 7, 9, 2, 4]\n",
    "         ,[8, 7, 9, 6, 4, 2, 1, 5, 3]]\n",
    "\n",
    "print(done_or_not(board))"
   ]
  },
  {
   "cell_type": "code",
   "execution_count": null,
   "id": "67884827",
   "metadata": {},
   "outputs": [],
   "source": []
  },
  {
   "cell_type": "code",
   "execution_count": null,
   "id": "5582b5e8",
   "metadata": {},
   "outputs": [],
   "source": []
  }
 ],
 "metadata": {
  "kernelspec": {
   "display_name": "Python 3 (ipykernel)",
   "language": "python",
   "name": "python3"
  },
  "language_info": {
   "codemirror_mode": {
    "name": "ipython",
    "version": 3
   },
   "file_extension": ".py",
   "mimetype": "text/x-python",
   "name": "python",
   "nbconvert_exporter": "python",
   "pygments_lexer": "ipython3",
   "version": "3.10.4"
  }
 },
 "nbformat": 4,
 "nbformat_minor": 5
}
