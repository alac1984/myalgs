{
 "cells": [
  {
   "cell_type": "code",
   "execution_count": 1,
   "id": "6dc86bc3",
   "metadata": {},
   "outputs": [],
   "source": [
    "# MIT Math for Computer Science\n",
    "# https://www.youtube.com/watch?v=z8HKWUWS-lA\n",
    "# Last problem about \"Bill\" statue and tiles"
   ]
  },
  {
   "cell_type": "code",
   "execution_count": 43,
   "id": "c0918d27",
   "metadata": {},
   "outputs": [],
   "source": [
    "import numpy as np\n",
    "import random as rd\n",
    "\n",
    "class Grid:\n",
    "    def __init__(self, n: int, m: int):\n",
    "        self.n = n\n",
    "        self.m = m\n",
    "        self.grid = np.zeros((n, m))\n",
    "    \n",
    "    def insert_tile(self):\n",
    "        rn = rd.randint(0, self.n - 1) # random n\n",
    "        rm = rd.randint(0, self.m - 1) # random m\n",
    "        print(f\"rn: {rn}\")\n",
    "        print(f\"rm: {rm}\")\n",
    "        \n",
    "        # First position\n",
    "        try:\n",
    "            if self.grid[rn][rm] == 0 and self.grid[rn-1][rm] == 0 and self.grid[rn][rm+1] == 0:\n",
    "                self.grid[rn][rm] = 1\n",
    "                self.grid[rn-1][rm] = 1\n",
    "                self.grid[rn][rm+1] = 1\n",
    "                return True\n",
    "        except IndexError as e:\n",
    "            print(e)\n",
    "        # Second position\n",
    "        try:\n",
    "            if self.grid[rn][rm] == 0 and self.grid[rn-1][rm] == 0 and self.grid[rn][rm-1] == 0:\n",
    "                self.grid[rn][rm] = 1\n",
    "                self.grid[rn-1][rm] = 1\n",
    "                self.grid[rn][rm-1] = 1\n",
    "                return True\n",
    "        except IndexError as e:\n",
    "            print(e)\n",
    "        # Third position\n",
    "        try:\n",
    "            if self.grid[rn][rm] == 0 and self.grid[rn+1][rm] == 0 and self.grid[rn][rm+1] == 0:\n",
    "                self.grid[rn][rm] = 1\n",
    "                self.grid[rn+1][rm] = 1\n",
    "                self.grid[rn][rm+1] = 1\n",
    "                return True\n",
    "        except IndexError as e:\n",
    "            print(e)\n",
    "        # Fourth position\n",
    "        try:\n",
    "            if self.grid[rn][rm] == 0 and self.grid[rn+1][rm] == 0 and self.grid[rn][rm-1] == 0:\n",
    "                self.grid[rn][rm] = 1\n",
    "                self.grid[rn+1][rm] = 1\n",
    "                self.grid[rn][rm+1] = 1\n",
    "                return True\n",
    "        except IndexError as e:\n",
    "            print(e)\n",
    "        \n",
    "        return False\n",
    "        \n",
    "\n",
    "    def fill(self):\n",
    "        ...\n",
    "        "
   ]
  },
  {
   "cell_type": "code",
   "execution_count": 47,
   "id": "18e83265",
   "metadata": {},
   "outputs": [
    {
     "name": "stdout",
     "output_type": "stream",
     "text": [
      "rn: 0\n",
      "rm: 1\n"
     ]
    },
    {
     "data": {
      "text/plain": [
       "array([[0., 1., 1., 0.],\n",
       "       [0., 0., 0., 0.],\n",
       "       [0., 1., 0., 0.]])"
      ]
     },
     "execution_count": 47,
     "metadata": {},
     "output_type": "execute_result"
    }
   ],
   "source": [
    "g = Grid(3, 4)\n",
    "g.grid\n",
    "g.insert_tile()\n",
    "g.grid"
   ]
  },
  {
   "cell_type": "code",
   "execution_count": null,
   "id": "b6905eea",
   "metadata": {},
   "outputs": [],
   "source": []
  }
 ],
 "metadata": {
  "kernelspec": {
   "display_name": "Python 3 (ipykernel)",
   "language": "python",
   "name": "python3"
  },
  "language_info": {
   "codemirror_mode": {
    "name": "ipython",
    "version": 3
   },
   "file_extension": ".py",
   "mimetype": "text/x-python",
   "name": "python",
   "nbconvert_exporter": "python",
   "pygments_lexer": "ipython3",
   "version": "3.10.6"
  }
 },
 "nbformat": 4,
 "nbformat_minor": 5
}
