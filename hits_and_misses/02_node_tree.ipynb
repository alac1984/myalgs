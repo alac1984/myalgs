{
 "cells": [
  {
   "cell_type": "markdown",
   "id": "3469eb56",
   "metadata": {},
   "source": [
    "### Node class"
   ]
  },
  {
   "cell_type": "code",
   "execution_count": 1,
   "id": "e8e37497",
   "metadata": {},
   "outputs": [],
   "source": [
    "from dataclasses import dataclass, field\n",
    "\n",
    "@dataclass\n",
    "class Node:\n",
    "    name: str\n",
    "    visited: bool = False\n",
    "    neighbors: list = field(default_factory=list)\n",
    "        \n",
    "    def __eq__(self, other) -> bool:\n",
    "        return self.name == other.name\n",
    "    \n",
    "    def add_neighbor(self, node) -> None:\n",
    "        self.neighbors.append(node)\n",
    "    \n",
    "    def get_neighbors(self) -> str:\n",
    "        neighbors = \"\"\n",
    "        for neighbor in self.neighbors:\n",
    "            neighbors += f\"{neighbor.name} | \"\n",
    "        \n",
    "        return neighbors[:-3]\n"
   ]
  },
  {
   "cell_type": "markdown",
   "id": "626cf423",
   "metadata": {},
   "source": [
    "### Tree class"
   ]
  },
  {
   "cell_type": "code",
   "execution_count": 6,
   "id": "da464779",
   "metadata": {},
   "outputs": [],
   "source": [
    "@dataclass\n",
    "class Tree:\n",
    "    name: str\n",
    "    nodes: list[Node] = field(default_factory=list)\n",
    "    \n",
    "    def add_node(self, node: Node) -> None:\n",
    "        if self.has_node(node.name):\n",
    "            raise ValueError(\"You cannot have two nodes with the same name\")\n",
    "        self.nodes.append(node)\n",
    "    \n",
    "    def has_node(self, nodename: str) -> bool:\n",
    "        return Node(nodename) in self.nodes\n",
    "    \n",
    "    def get_node(self, nodename: str):\n",
    "        for node in self.nodes:\n",
    "            if node.name == nodename:\n",
    "                return node\n",
    "        return None\n",
    "    \n",
    "    @classmethod\n",
    "    def from_dict(cls, name: str, data: dict):\n",
    "        tree = cls(name)\n",
    "        for nodename, neighbornames in data.items():\n",
    "            node = Node(nodename)\n",
    "            if not tree.has_node(nodename):\n",
    "                tree.add_node(node)\n",
    "            else:\n",
    "                node = tree.get_node(nodename)\n",
    "            for neighborname in neighbornames:\n",
    "                if not tree.has_node(neighborname):\n",
    "                    neighbor = Node(neighborname)\n",
    "                    tree.add_node(neighbor)\n",
    "                    node.add_neighbor(neighbor)\n",
    "                else:\n",
    "                    neighbor = tree.get_node(neighborname)\n",
    "                    node.add_neighbor(neighbor)\n",
    "        \n",
    "        return tree\n",
    "    \n",
    "    @classmethod\n",
    "    def from_edges(cls, name: str, edges: list):\n",
    "        tree = cls(name)\n",
    "        for edge in edges:\n",
    "            # Left node\n",
    "            if not tree.has_node(edge[0]):\n",
    "                left_node = Node(edge[0])\n",
    "                tree.add_node(left_node)\n",
    "            else:\n",
    "                left_node = tree.get_node(edge[0])\n",
    "            # Right node\n",
    "            if not tree.has_node(edge[1]):\n",
    "                right_node = Node(edge[1])\n",
    "                tree.add_node(right_node)\n",
    "            else:\n",
    "                right_node = tree.get_node(edge[1])\n",
    "                \n",
    "            left_node.add_neighbor(right_node)\n",
    "            right_node.add_neighbor(left_node)\n",
    "        \n",
    "        return tree\n",
    "                \n",
    "            "
   ]
  },
  {
   "cell_type": "code",
   "execution_count": 3,
   "id": "dff68e8a",
   "metadata": {},
   "outputs": [
    {
     "name": "stdout",
     "output_type": "stream",
     "text": [
      "Node and Tree classes added to path\n"
     ]
    }
   ],
   "source": [
    "print(\"Node and Tree classes added to path\")"
   ]
  },
  {
   "cell_type": "code",
   "execution_count": null,
   "id": "248da032",
   "metadata": {},
   "outputs": [],
   "source": []
  }
 ],
 "metadata": {
  "kernelspec": {
   "display_name": "Python 3 (ipykernel)",
   "language": "python",
   "name": "python3"
  },
  "language_info": {
   "codemirror_mode": {
    "name": "ipython",
    "version": 3
   },
   "file_extension": ".py",
   "mimetype": "text/x-python",
   "name": "python",
   "nbconvert_exporter": "python",
   "pygments_lexer": "ipython3",
   "version": "3.10.4"
  }
 },
 "nbformat": 4,
 "nbformat_minor": 5
}
