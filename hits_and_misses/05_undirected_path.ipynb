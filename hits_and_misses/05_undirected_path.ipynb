{
 "cells": [
  {
   "cell_type": "markdown",
   "id": "180fac84",
   "metadata": {},
   "source": [
    "### Undirected Path\n",
    "\n",
    "In this notebook, we are creating methods to solve a has_path problem, but we have a undirected graph - the paths are bidirectional, so a path from i to j is a path from j to i at the same time. In this kind of problem we incur in the possibility of an infinite loop, so we need strategies to cope with this."
   ]
  },
  {
   "cell_type": "code",
   "execution_count": 9,
   "id": "ab7a3828",
   "metadata": {},
   "outputs": [
    {
     "name": "stdout",
     "output_type": "stream",
     "text": [
      "Node and Tree classes added to path\n"
     ]
    }
   ],
   "source": [
    "%run 02_node_tree.ipynb"
   ]
  },
  {
   "cell_type": "markdown",
   "id": "012b58c6",
   "metadata": {},
   "source": [
    "### Testing from_edges constructor"
   ]
  },
  {
   "cell_type": "code",
   "execution_count": 23,
   "id": "fda915d3",
   "metadata": {},
   "outputs": [
    {
     "data": {
      "text/plain": [
       "Tree(name='from edges', nodes=[Node(name='i', visited=False, neighbors=[Node(name='j', visited=False, neighbors=[..., Node(name='k', visited=False, neighbors=[..., ..., Node(name='m', visited=False, neighbors=[...]), Node(name='l', visited=False, neighbors=[...])])]), Node(name='k', visited=False, neighbors=[..., Node(name='j', visited=False, neighbors=[..., ...]), Node(name='m', visited=False, neighbors=[...]), Node(name='l', visited=False, neighbors=[...])])]), Node(name='j', visited=False, neighbors=[Node(name='i', visited=False, neighbors=[..., Node(name='k', visited=False, neighbors=[..., ..., Node(name='m', visited=False, neighbors=[...]), Node(name='l', visited=False, neighbors=[...])])]), Node(name='k', visited=False, neighbors=[Node(name='i', visited=False, neighbors=[..., ...]), ..., Node(name='m', visited=False, neighbors=[...]), Node(name='l', visited=False, neighbors=[...])])]), Node(name='k', visited=False, neighbors=[Node(name='i', visited=False, neighbors=[Node(name='j', visited=False, neighbors=[..., ...]), ...]), Node(name='j', visited=False, neighbors=[Node(name='i', visited=False, neighbors=[..., ...]), ...]), Node(name='m', visited=False, neighbors=[...]), Node(name='l', visited=False, neighbors=[...])]), Node(name='m', visited=False, neighbors=[Node(name='k', visited=False, neighbors=[Node(name='i', visited=False, neighbors=[Node(name='j', visited=False, neighbors=[..., ...]), ...]), Node(name='j', visited=False, neighbors=[Node(name='i', visited=False, neighbors=[..., ...]), ...]), ..., Node(name='l', visited=False, neighbors=[...])])]), Node(name='l', visited=False, neighbors=[Node(name='k', visited=False, neighbors=[Node(name='i', visited=False, neighbors=[Node(name='j', visited=False, neighbors=[..., ...]), ...]), Node(name='j', visited=False, neighbors=[Node(name='i', visited=False, neighbors=[..., ...]), ...]), Node(name='m', visited=False, neighbors=[...]), ...])]), Node(name='o', visited=False, neighbors=[Node(name='n', visited=False, neighbors=[...])]), Node(name='n', visited=False, neighbors=[Node(name='o', visited=False, neighbors=[...])])])"
      ]
     },
     "execution_count": 23,
     "metadata": {},
     "output_type": "execute_result"
    }
   ],
   "source": [
    "edges = [\n",
    "    ['i', 'j'],\n",
    "    ['k', 'i'],\n",
    "    ['k', 'j'],\n",
    "    ['m', 'k'],\n",
    "    ['k', 'l'],\n",
    "    ['o', 'n']\n",
    "]\n",
    "\n",
    "tree = Tree.from_edges(name=\"from edges\", edges=edges)\n",
    "tree"
   ]
  },
  {
   "cell_type": "code",
   "execution_count": 27,
   "id": "6a5a4977",
   "metadata": {},
   "outputs": [],
   "source": [
    "class HasPathDepthTree(Tree):\n",
    "    def has_path(self, src: str, dst: str) -> bool:\n",
    "        src_node = self.get_node(src)\n",
    "        dst_node = self.get_node(dst)\n",
    "        # import ipdb; ipdb.set_trace()\n",
    "        \n",
    "        if src_node == dst_node:\n",
    "            return True\n",
    "        \n",
    "        for neighbor in src_node.neighbors:\n",
    "            if self.has_path(src=neighbor.name, dst=dst) == True:\n",
    "                return True\n",
    "        \n",
    "        return False\n"
   ]
  },
  {
   "cell_type": "code",
   "execution_count": 31,
   "id": "e6139a22",
   "metadata": {},
   "outputs": [
    {
     "ename": "RecursionError",
     "evalue": "maximum recursion depth exceeded in comparison",
     "output_type": "error",
     "traceback": [
      "\u001b[0;31m---------------------------------------------------------------------------\u001b[0m",
      "\u001b[0;31mRecursionError\u001b[0m                            Traceback (most recent call last)",
      "Input \u001b[0;32mIn [31]\u001b[0m, in \u001b[0;36m<cell line: 3>\u001b[0;34m()\u001b[0m\n\u001b[1;32m      1\u001b[0m tree \u001b[38;5;241m=\u001b[39m HasPathDepthTree\u001b[38;5;241m.\u001b[39mfrom_edges(name\u001b[38;5;241m=\u001b[39m\u001b[38;5;124m\"\u001b[39m\u001b[38;5;124mundirected_path\u001b[39m\u001b[38;5;124m\"\u001b[39m, edges\u001b[38;5;241m=\u001b[39medges)\n\u001b[0;32m----> 3\u001b[0m \u001b[43mtree\u001b[49m\u001b[38;5;241;43m.\u001b[39;49m\u001b[43mhas_path\u001b[49m\u001b[43m(\u001b[49m\u001b[38;5;124;43m'\u001b[39;49m\u001b[38;5;124;43mi\u001b[39;49m\u001b[38;5;124;43m'\u001b[39;49m\u001b[43m,\u001b[49m\u001b[43m \u001b[49m\u001b[38;5;124;43m'\u001b[39;49m\u001b[38;5;124;43ml\u001b[39;49m\u001b[38;5;124;43m'\u001b[39;49m\u001b[43m)\u001b[49m\n",
      "Input \u001b[0;32mIn [27]\u001b[0m, in \u001b[0;36mHasPathDepthTree.has_path\u001b[0;34m(self, src, dst)\u001b[0m\n\u001b[1;32m      8\u001b[0m     \u001b[38;5;28;01mreturn\u001b[39;00m \u001b[38;5;28;01mTrue\u001b[39;00m\n\u001b[1;32m     10\u001b[0m \u001b[38;5;28;01mfor\u001b[39;00m neighbor \u001b[38;5;129;01min\u001b[39;00m src_node\u001b[38;5;241m.\u001b[39mneighbors:\n\u001b[0;32m---> 11\u001b[0m     \u001b[38;5;28;01mif\u001b[39;00m \u001b[38;5;28;43mself\u001b[39;49m\u001b[38;5;241;43m.\u001b[39;49m\u001b[43mhas_path\u001b[49m\u001b[43m(\u001b[49m\u001b[43msrc\u001b[49m\u001b[38;5;241;43m=\u001b[39;49m\u001b[43mneighbor\u001b[49m\u001b[38;5;241;43m.\u001b[39;49m\u001b[43mname\u001b[49m\u001b[43m,\u001b[49m\u001b[43m \u001b[49m\u001b[43mdst\u001b[49m\u001b[38;5;241;43m=\u001b[39;49m\u001b[43mdst\u001b[49m\u001b[43m)\u001b[49m \u001b[38;5;241m==\u001b[39m \u001b[38;5;28;01mTrue\u001b[39;00m:\n\u001b[1;32m     12\u001b[0m         \u001b[38;5;28;01mreturn\u001b[39;00m \u001b[38;5;28;01mTrue\u001b[39;00m\n\u001b[1;32m     14\u001b[0m \u001b[38;5;28;01mreturn\u001b[39;00m \u001b[38;5;28;01mFalse\u001b[39;00m\n",
      "Input \u001b[0;32mIn [27]\u001b[0m, in \u001b[0;36mHasPathDepthTree.has_path\u001b[0;34m(self, src, dst)\u001b[0m\n\u001b[1;32m      8\u001b[0m     \u001b[38;5;28;01mreturn\u001b[39;00m \u001b[38;5;28;01mTrue\u001b[39;00m\n\u001b[1;32m     10\u001b[0m \u001b[38;5;28;01mfor\u001b[39;00m neighbor \u001b[38;5;129;01min\u001b[39;00m src_node\u001b[38;5;241m.\u001b[39mneighbors:\n\u001b[0;32m---> 11\u001b[0m     \u001b[38;5;28;01mif\u001b[39;00m \u001b[38;5;28;43mself\u001b[39;49m\u001b[38;5;241;43m.\u001b[39;49m\u001b[43mhas_path\u001b[49m\u001b[43m(\u001b[49m\u001b[43msrc\u001b[49m\u001b[38;5;241;43m=\u001b[39;49m\u001b[43mneighbor\u001b[49m\u001b[38;5;241;43m.\u001b[39;49m\u001b[43mname\u001b[49m\u001b[43m,\u001b[49m\u001b[43m \u001b[49m\u001b[43mdst\u001b[49m\u001b[38;5;241;43m=\u001b[39;49m\u001b[43mdst\u001b[49m\u001b[43m)\u001b[49m \u001b[38;5;241m==\u001b[39m \u001b[38;5;28;01mTrue\u001b[39;00m:\n\u001b[1;32m     12\u001b[0m         \u001b[38;5;28;01mreturn\u001b[39;00m \u001b[38;5;28;01mTrue\u001b[39;00m\n\u001b[1;32m     14\u001b[0m \u001b[38;5;28;01mreturn\u001b[39;00m \u001b[38;5;28;01mFalse\u001b[39;00m\n",
      "    \u001b[0;31m[... skipping similar frames: HasPathDepthTree.has_path at line 11 (2967 times)]\u001b[0m\n",
      "Input \u001b[0;32mIn [27]\u001b[0m, in \u001b[0;36mHasPathDepthTree.has_path\u001b[0;34m(self, src, dst)\u001b[0m\n\u001b[1;32m      8\u001b[0m     \u001b[38;5;28;01mreturn\u001b[39;00m \u001b[38;5;28;01mTrue\u001b[39;00m\n\u001b[1;32m     10\u001b[0m \u001b[38;5;28;01mfor\u001b[39;00m neighbor \u001b[38;5;129;01min\u001b[39;00m src_node\u001b[38;5;241m.\u001b[39mneighbors:\n\u001b[0;32m---> 11\u001b[0m     \u001b[38;5;28;01mif\u001b[39;00m \u001b[38;5;28;43mself\u001b[39;49m\u001b[38;5;241;43m.\u001b[39;49m\u001b[43mhas_path\u001b[49m\u001b[43m(\u001b[49m\u001b[43msrc\u001b[49m\u001b[38;5;241;43m=\u001b[39;49m\u001b[43mneighbor\u001b[49m\u001b[38;5;241;43m.\u001b[39;49m\u001b[43mname\u001b[49m\u001b[43m,\u001b[49m\u001b[43m \u001b[49m\u001b[43mdst\u001b[49m\u001b[38;5;241;43m=\u001b[39;49m\u001b[43mdst\u001b[49m\u001b[43m)\u001b[49m \u001b[38;5;241m==\u001b[39m \u001b[38;5;28;01mTrue\u001b[39;00m:\n\u001b[1;32m     12\u001b[0m         \u001b[38;5;28;01mreturn\u001b[39;00m \u001b[38;5;28;01mTrue\u001b[39;00m\n\u001b[1;32m     14\u001b[0m \u001b[38;5;28;01mreturn\u001b[39;00m \u001b[38;5;28;01mFalse\u001b[39;00m\n",
      "Input \u001b[0;32mIn [27]\u001b[0m, in \u001b[0;36mHasPathDepthTree.has_path\u001b[0;34m(self, src, dst)\u001b[0m\n\u001b[1;32m      4\u001b[0m dst_node \u001b[38;5;241m=\u001b[39m \u001b[38;5;28mself\u001b[39m\u001b[38;5;241m.\u001b[39mget_node(dst)\n\u001b[1;32m      5\u001b[0m \u001b[38;5;66;03m# import ipdb; ipdb.set_trace()\u001b[39;00m\n\u001b[0;32m----> 7\u001b[0m \u001b[38;5;28;01mif\u001b[39;00m \u001b[43msrc_node\u001b[49m\u001b[43m \u001b[49m\u001b[38;5;241;43m==\u001b[39;49m\u001b[43m \u001b[49m\u001b[43mdst_node\u001b[49m:\n\u001b[1;32m      8\u001b[0m     \u001b[38;5;28;01mreturn\u001b[39;00m \u001b[38;5;28;01mTrue\u001b[39;00m\n\u001b[1;32m     10\u001b[0m \u001b[38;5;28;01mfor\u001b[39;00m neighbor \u001b[38;5;129;01min\u001b[39;00m src_node\u001b[38;5;241m.\u001b[39mneighbors:\n",
      "File \u001b[0;32m/tmp/ipykernel_5050/487300587.py:10\u001b[0m, in \u001b[0;36mNode.__eq__\u001b[0;34m(self, other)\u001b[0m\n\u001b[1;32m      9\u001b[0m \u001b[38;5;28;01mdef\u001b[39;00m \u001b[38;5;21m__eq__\u001b[39m(\u001b[38;5;28mself\u001b[39m, other) \u001b[38;5;241m-\u001b[39m\u001b[38;5;241m>\u001b[39m \u001b[38;5;28mbool\u001b[39m:\n\u001b[0;32m---> 10\u001b[0m     \u001b[38;5;28;01mreturn\u001b[39;00m \u001b[38;5;28;43mself\u001b[39;49m\u001b[38;5;241;43m.\u001b[39;49m\u001b[43mname\u001b[49m\u001b[43m \u001b[49m\u001b[38;5;241;43m==\u001b[39;49m\u001b[43m \u001b[49m\u001b[43mother\u001b[49m\u001b[38;5;241;43m.\u001b[39;49m\u001b[43mname\u001b[49m\n",
      "\u001b[0;31mRecursionError\u001b[0m: maximum recursion depth exceeded in comparison"
     ]
    }
   ],
   "source": [
    "tree = HasPathDepthTree.from_edges(name=\"undirected_path\", edges=edges)\n",
    "\n",
    "tree.has_path('i', 'l')"
   ]
  }
 ],
 "metadata": {
  "kernelspec": {
   "display_name": "Python 3 (ipykernel)",
   "language": "python",
   "name": "python3"
  },
  "language_info": {
   "codemirror_mode": {
    "name": "ipython",
    "version": 3
   },
   "file_extension": ".py",
   "mimetype": "text/x-python",
   "name": "python",
   "nbconvert_exporter": "python",
   "pygments_lexer": "ipython3",
   "version": "3.10.4"
  }
 },
 "nbformat": 4,
 "nbformat_minor": 5
}
