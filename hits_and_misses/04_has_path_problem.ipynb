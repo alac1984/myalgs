{
 "cells": [
  {
   "cell_type": "code",
   "execution_count": 1,
   "id": "4ae59db5",
   "metadata": {},
   "outputs": [
    {
     "name": "stdout",
     "output_type": "stream",
     "text": [
      "Node and Tree classes added to path\n"
     ]
    }
   ],
   "source": [
    "%run 02_node_tree.ipynb"
   ]
  },
  {
   "cell_type": "markdown",
   "id": "401a093e",
   "metadata": {},
   "source": [
    "### Has Path problem solved with Depth First Search"
   ]
  },
  {
   "cell_type": "code",
   "execution_count": 7,
   "id": "c740df92",
   "metadata": {},
   "outputs": [],
   "source": [
    "# TODO: solve this node creation problem: every recursion the same nodes\n",
    "# are being created again and again\n",
    "\n",
    "class HasPathDepthTree(Tree):\n",
    "    def has_path(self, src: str, dst: str) -> bool:\n",
    "        src_node = self.get_node(src)\n",
    "        dst_node = self.get_node(dst)\n",
    "        # import ipdb; ipdb.set_trace()\n",
    "        \n",
    "        if src_node == dst_node:\n",
    "            return True\n",
    "        \n",
    "        for neighbor in src_node.neighbors:\n",
    "            if self.has_path(src=neighbor.name, dst=dst) == True:\n",
    "                return True\n",
    "        \n",
    "        return False\n",
    "        \n",
    "        "
   ]
  },
  {
   "cell_type": "code",
   "execution_count": 8,
   "id": "477a38a5",
   "metadata": {},
   "outputs": [
    {
     "data": {
      "text/plain": [
       "HasPathDepthTree(name='has_path', nodes=[Node(name='f', neighbors=[Node(name='g', neighbors=[Node(name='h', neighbors=[])]), Node(name='i', neighbors=[Node(name='g', neighbors=[Node(name='h', neighbors=[])]), Node(name='k', neighbors=[])])]), Node(name='g', neighbors=[Node(name='h', neighbors=[])]), Node(name='i', neighbors=[Node(name='g', neighbors=[Node(name='h', neighbors=[])]), Node(name='k', neighbors=[])]), Node(name='h', neighbors=[]), Node(name='k', neighbors=[]), Node(name='j', neighbors=[Node(name='i', neighbors=[Node(name='g', neighbors=[Node(name='h', neighbors=[])]), Node(name='k', neighbors=[])])])])"
      ]
     },
     "execution_count": 8,
     "metadata": {},
     "output_type": "execute_result"
    }
   ],
   "source": [
    "graph = {\n",
    "    \"f\": [\"g\", \"i\"],\n",
    "    \"g\": [\"h\"],\n",
    "    \"h\": [],\n",
    "    \"i\": [\"g\", \"k\"],\n",
    "    \"j\": [\"i\"],\n",
    "    \"k\": [],\n",
    "}\n",
    "\n",
    "tree = HasPathDepthTree.from_dict(name=\"has_path\", data=graph)\n",
    "tree"
   ]
  },
  {
   "cell_type": "code",
   "execution_count": 9,
   "id": "697ccf8e",
   "metadata": {},
   "outputs": [
    {
     "name": "stdout",
     "output_type": "stream",
     "text": [
      "False\n"
     ]
    }
   ],
   "source": [
    "print(tree.has_path(\"f\", \"j\"))"
   ]
  },
  {
   "cell_type": "markdown",
   "id": "479b1690",
   "metadata": {},
   "source": [
    "### Has Path problem solved with Breadth First Search"
   ]
  },
  {
   "cell_type": "code",
   "execution_count": 20,
   "id": "b7c1f250",
   "metadata": {},
   "outputs": [],
   "source": [
    "\n",
    "class HasPathBreadthTree(Tree):\n",
    "    def has_path(self, src: str, dst: str) -> bool:\n",
    "        src_node = self.get_node(src)\n",
    "        dst_node = self.get_node(dst)\n",
    "        queue = [src_node]\n",
    "        # import ipdb; ipdb.set_trace()\n",
    "        \n",
    "        while len(queue) > 0:\n",
    "            current = queue.pop(0)\n",
    "            if current == dst_node:\n",
    "                return True\n",
    "            \n",
    "            for node in current.neighbors:\n",
    "                queue.append(node)\n",
    "        \n",
    "        return False\n",
    "         "
   ]
  },
  {
   "cell_type": "code",
   "execution_count": 21,
   "id": "52c7bcb2",
   "metadata": {},
   "outputs": [
    {
     "data": {
      "text/plain": [
       "HasPathBreadthTree(name='has_path_breadth', nodes=[Node(name='f', neighbors=[Node(name='g', neighbors=[Node(name='h', neighbors=[])]), Node(name='i', neighbors=[Node(name='g', neighbors=[Node(name='h', neighbors=[])]), Node(name='k', neighbors=[])])]), Node(name='g', neighbors=[Node(name='h', neighbors=[])]), Node(name='i', neighbors=[Node(name='g', neighbors=[Node(name='h', neighbors=[])]), Node(name='k', neighbors=[])]), Node(name='h', neighbors=[]), Node(name='k', neighbors=[]), Node(name='j', neighbors=[Node(name='i', neighbors=[Node(name='g', neighbors=[Node(name='h', neighbors=[])]), Node(name='k', neighbors=[])])])])"
      ]
     },
     "execution_count": 21,
     "metadata": {},
     "output_type": "execute_result"
    }
   ],
   "source": [
    "tree = HasPathBreadthTree.from_dict(name=\"has_path_breadth\", data=graph)\n",
    "tree"
   ]
  },
  {
   "cell_type": "code",
   "execution_count": 22,
   "id": "96682e6f",
   "metadata": {},
   "outputs": [
    {
     "data": {
      "text/plain": [
       "False"
      ]
     },
     "execution_count": 22,
     "metadata": {},
     "output_type": "execute_result"
    }
   ],
   "source": [
    "tree.has_path('f', 'j')"
   ]
  },
  {
   "cell_type": "code",
   "execution_count": null,
   "id": "a0a66f99",
   "metadata": {},
   "outputs": [],
   "source": []
  }
 ],
 "metadata": {
  "kernelspec": {
   "display_name": "Python 3 (ipykernel)",
   "language": "python",
   "name": "python3"
  },
  "language_info": {
   "codemirror_mode": {
    "name": "ipython",
    "version": 3
   },
   "file_extension": ".py",
   "mimetype": "text/x-python",
   "name": "python",
   "nbconvert_exporter": "python",
   "pygments_lexer": "ipython3",
   "version": "3.10.4"
  }
 },
 "nbformat": 4,
 "nbformat_minor": 5
}
