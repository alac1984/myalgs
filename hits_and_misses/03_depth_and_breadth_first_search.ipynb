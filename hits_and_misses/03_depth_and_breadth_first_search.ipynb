{
 "cells": [
  {
   "cell_type": "code",
   "execution_count": 6,
   "id": "5e207671",
   "metadata": {},
   "outputs": [],
   "source": [
    "# Running to create Node and Tree base classes\n",
    "\n",
    "%run 02_node_tree.ipynb"
   ]
  },
  {
   "cell_type": "markdown",
   "id": "0c3d2c29",
   "metadata": {},
   "source": [
    "### The graph object used to create our trees"
   ]
  },
  {
   "cell_type": "code",
   "execution_count": 7,
   "id": "1757445a",
   "metadata": {},
   "outputs": [],
   "source": [
    "graph = {\n",
    "    \"a\": [\"b\", \"c\"],\n",
    "    \"b\": [\"d\"],\n",
    "    \"c\": [\"e\"],\n",
    "    \"d\": [\"f\"],\n",
    "    \"e\": [],\n",
    "    \"f\": []\n",
    "}\n"
   ]
  },
  {
   "cell_type": "markdown",
   "id": "500ef548",
   "metadata": {},
   "source": [
    "### Depth First Search with while loop\n",
    "\n",
    "We will expand our Tree objects with inheritance. Every new Tree type will have a different *walk* method.\n",
    "\n",
    "Below we have an implementation of Depth First Search using a while loop"
   ]
  },
  {
   "cell_type": "code",
   "execution_count": 8,
   "id": "dc8de1b6",
   "metadata": {},
   "outputs": [
    {
     "name": "stdout",
     "output_type": "stream",
     "text": [
      "a\n",
      "c\n",
      "e\n",
      "b\n",
      "d\n",
      "f\n"
     ]
    }
   ],
   "source": [
    "class DepthFirstTree(Tree):\n",
    "    \n",
    "    def walk(self, start: str):\n",
    "        start_node = self.get_node(start)\n",
    "        stack = [start_node]\n",
    "        \n",
    "        while len(stack) > 0:\n",
    "            current = stack.pop()\n",
    "            print(current.name)\n",
    "            for node in current.neighbors:\n",
    "                stack.append(node)\n",
    "    \n",
    "tree = DepthFirstTree.from_dict(name=\"tree\", data=graph)\n",
    "tree.walk('a')\n"
   ]
  },
  {
   "cell_type": "markdown",
   "id": "e29da9f7",
   "metadata": {},
   "source": [
    "### Depth First Search with recursion\n",
    "\n",
    "In the next example our DFS method is implemented with recursion:"
   ]
  },
  {
   "cell_type": "code",
   "execution_count": 9,
   "id": "b0310d0e",
   "metadata": {},
   "outputs": [
    {
     "name": "stdout",
     "output_type": "stream",
     "text": [
      "a\n",
      "b\n",
      "d\n",
      "f\n",
      "c\n",
      "e\n"
     ]
    }
   ],
   "source": [
    "class DepthFirstRecursiveTree(Tree):\n",
    "    \n",
    "    def walk(self, start: str):\n",
    "        node = self.get_node(start)\n",
    "        print(node.name)\n",
    "        for neighbor in node.neighbors:\n",
    "            self.walk(start=neighbor.name)\n",
    "        \n",
    "tree = DepthFirstRecursiveTree.from_dict(name=\"recursive_tree\", data=graph)\n",
    "tree.walk('a')"
   ]
  },
  {
   "cell_type": "markdown",
   "id": "a2ab3907",
   "metadata": {},
   "source": [
    "### Breadth First Search\n",
    "\n",
    "Here we implement BFS with loops (the only way, I guess)"
   ]
  },
  {
   "cell_type": "code",
   "execution_count": 10,
   "id": "d7ab1a20",
   "metadata": {},
   "outputs": [
    {
     "name": "stdout",
     "output_type": "stream",
     "text": [
      "a\n",
      "b\n",
      "c\n",
      "d\n",
      "e\n",
      "f\n"
     ]
    }
   ],
   "source": [
    "class BreadthFirstTree(Tree):\n",
    "    \n",
    "    def walk(self, start: str):\n",
    "        start_node = self.get_node(start)\n",
    "        queue = [start_node]\n",
    "        \n",
    "        while len(queue) > 0:\n",
    "            current = queue.pop(0)\n",
    "            print(current.name)\n",
    "            for node in current.neighbors:\n",
    "                queue.append(node)\n",
    "        \n",
    "tree = BreadthFirstTree.from_dict(name=\"breadth\", data=graph)\n",
    "tree.walk('a')"
   ]
  }
 ],
 "metadata": {
  "kernelspec": {
   "display_name": "Python 3 (ipykernel)",
   "language": "python",
   "name": "python3"
  },
  "language_info": {
   "codemirror_mode": {
    "name": "ipython",
    "version": 3
   },
   "file_extension": ".py",
   "mimetype": "text/x-python",
   "name": "python",
   "nbconvert_exporter": "python",
   "pygments_lexer": "ipython3",
   "version": "3.10.4"
  }
 },
 "nbformat": 4,
 "nbformat_minor": 5
}
